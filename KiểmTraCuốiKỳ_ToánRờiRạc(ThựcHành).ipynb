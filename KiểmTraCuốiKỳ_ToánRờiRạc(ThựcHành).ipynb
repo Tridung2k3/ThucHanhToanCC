{
  "nbformat": 4,
  "nbformat_minor": 0,
  "metadata": {
    "colab": {
      "name": "KiểmTraCuốiKỳ-ToánRờiRạc(ThựcHành).ipynb",
      "provenance": [],
      "authorship_tag": "ABX9TyOVXvpZyyYlG236XxbkCLVe",
      "include_colab_link": true
    },
    "kernelspec": {
      "name": "python3",
      "display_name": "Python 3"
    },
    "language_info": {
      "name": "python"
    }
  },
  "cells": [
    {
      "cell_type": "markdown",
      "metadata": {
        "id": "view-in-github",
        "colab_type": "text"
      },
      "source": [
        "<a href=\"https://colab.research.google.com/github/Tridung2k3/ThucHanhToanCC/blob/main/Ki%E1%BB%83mTraCu%E1%BB%91iK%E1%BB%B3_To%C3%A1nR%E1%BB%9DiR%E1%BA%A1c(Th%E1%BB%B1cH%C3%A0nh).ipynb\" target=\"_parent\"><img src=\"https://colab.research.google.com/assets/colab-badge.svg\" alt=\"Open In Colab\"/></a>"
      ]
    },
    {
      "cell_type": "markdown",
      "source": [
        "Bài 2"
      ],
      "metadata": {
        "id": "MZlSDKgRTAaA"
      }
    },
    {
      "cell_type": "code",
      "execution_count": 12,
      "metadata": {
        "id": "C8SgL3TJOz18"
      },
      "outputs": [],
      "source": [
        "import networkx as nx\n",
        "g = nx.Graph()\n",
        "\n",
        "g.add_node('a')\n",
        "g.add_node('b')\n",
        "g.add_node('c')\n",
        "g.add_node('d')\n",
        "g.add_node('e')\n",
        "g.add_node('f')\n",
        "g.add_node('g')\n",
        "\n",
        "\n",
        "g.add_edge('a', 'b', weight = 4 )\n",
        "g.add_edge('b', 'c', weight = 2 )\n",
        "g.add_edge('c', 'd', weight = 10)\n",
        "g.add_edge('d', 'e', weight = 6 )\n",
        "g.add_edge('e', 'f', weight = 1 )\n",
        "g.add_edge('a', 'f', weight = 5 )\n",
        "g.add_edge('b', 'g', weight = 1 )\n",
        "g.add_edge('c', 'g', weight = 3 )\n",
        "g.add_edge('g', 'a', weight = 2 )\n",
        "g.add_edge('g', 'd', weight = 2 )\n",
        "g.add_edge('g', 'f', weight = 8 )\n",
        "g.add_edge('g', 'e', weight = 4 )\n"
      ]
    },
    {
      "cell_type": "code",
      "source": [
        ""
      ],
      "metadata": {
        "id": "S-YhF8OWgdJO"
      },
      "execution_count": null,
      "outputs": []
    },
    {
      "cell_type": "code",
      "source": [
        "# Kết Qủa Câu b\n",
        "nx.shortest_path(g, 'a', 'd')  "
      ],
      "metadata": {
        "colab": {
          "base_uri": "https://localhost:8080/"
        },
        "id": "l0OcqPUpO53c",
        "outputId": "d7597dab-d801-4163-d04b-e2e19a38dc31"
      },
      "execution_count": 13,
      "outputs": [
        {
          "output_type": "execute_result",
          "data": {
            "text/plain": [
              "['a', 'g', 'd']"
            ]
          },
          "metadata": {},
          "execution_count": 13
        }
      ]
    },
    {
      "cell_type": "code",
      "source": [
        "# Kết Qủa Câu c\n",
        "nx.shortest_path(g,source='a',target='d',weight='weights',method='dijkstra')"
      ],
      "metadata": {
        "colab": {
          "base_uri": "https://localhost:8080/"
        },
        "id": "KWZZClLsSHrY",
        "outputId": "46df360e-49d4-4162-9e59-52f0dc539bd7"
      },
      "execution_count": 14,
      "outputs": [
        {
          "output_type": "execute_result",
          "data": {
            "text/plain": [
              "['a', 'g', 'd']"
            ]
          },
          "metadata": {},
          "execution_count": 14
        }
      ]
    },
    {
      "cell_type": "markdown",
      "source": [
        "Câu 5"
      ],
      "metadata": {
        "id": "8UFkC72BWXor"
      }
    },
    {
      "cell_type": "code",
      "source": [
        "so_mon = 8\n",
        "ten_mon = ['TMDT', \"Do hoa MT\",  \"CSDL Phan Tan\", \"IOT\"]\n",
        "tin_chi = [3,2,4,3]\n",
        "tin_chi_phai_dat = 6\n",
        "\n",
        "def lietke_chuoithapphan(n):\n",
        "    danh_sach = []\n",
        "    for i in range (0, 2**n):\n",
        "        gia_tri = i\n",
        "        chuoi_np = bin(gia_tri).replace('0b', '')\n",
        "        while (len(chuoi_np)) < n:\n",
        "            chuoi_np = '0' + chuoi_np\n",
        "        danh_sach.append(chuoi_np)\n",
        "        print(chuoi_np)\n",
        "    return danh_sach\n",
        "def kiemtra_chuoi(chuoi_dang_chon, danhsach, gioihan):\n",
        "    tong_tinchi = 0\n",
        "    for j in range(0, len(chuoi_dang_chon)):\n",
        "        if chuoi_dang_chon[j] == '1':\n",
        "            tong_tinchi = tong_tinchi + tin_chi[j]\n",
        "    ketqua = True\n",
        "    if tong_tinchi > gioihan:\n",
        "        ketqua = False\n",
        "    return ketqua, tong_tinchi\n",
        "def tim_phuongan(tinchi, gioihan):\n",
        "    search = []\n",
        "    cac_phuongan = lietke_chuoithapphan(len(tinchi))\n",
        "    for i in range (len(cac_phuongan)):\n",
        "        dc_kg, diem = kiemtra_chuoi(cac_phuongan[i], tinchi, gioihan)\n",
        "        if dc_kg == True:\n",
        "            print(cac_phuongan[i], dc_kg, diem)\n",
        "            search.append(cac_phuongan[i])\n",
        "    return search \n",
        "\n",
        "tim_phuongan(tin_chi, tin_chi_phai_dat)"
      ],
      "metadata": {
        "colab": {
          "base_uri": "https://localhost:8080/"
        },
        "id": "fmiWrduSTEa2",
        "outputId": "f9507331-b2ec-4a32-8a25-e695343783b7"
      },
      "execution_count": 19,
      "outputs": [
        {
          "output_type": "stream",
          "name": "stdout",
          "text": [
            "0000\n",
            "0001\n",
            "0010\n",
            "0011\n",
            "0100\n",
            "0101\n",
            "0110\n",
            "0111\n",
            "1000\n",
            "1001\n",
            "1010\n",
            "1011\n",
            "1100\n",
            "1101\n",
            "1110\n",
            "1111\n",
            "0000 True 0\n",
            "0001 True 3\n",
            "0010 True 4\n",
            "0100 True 2\n",
            "0101 True 5\n",
            "0110 True 6\n",
            "1000 True 3\n",
            "1001 True 6\n",
            "1100 True 5\n"
          ]
        },
        {
          "output_type": "execute_result",
          "data": {
            "text/plain": [
              "['0000', '0001', '0010', '0100', '0101', '0110', '1000', '1001', '1100']"
            ]
          },
          "metadata": {},
          "execution_count": 19
        }
      ]
    },
    {
      "cell_type": "markdown",
      "source": [
        "Bài 4"
      ],
      "metadata": {
        "id": "fdjN_9JweMm8"
      }
    },
    {
      "cell_type": "code",
      "source": [
        "import random\n",
        "def cau4_2174802010322(a,b):\n",
        "\n",
        "  S = random.uniform(1,99)\n",
        "  print(S)\n",
        "\n",
        "  str = []\n",
        "  for i in range(len(S)):\n",
        "      str.append(0)\n",
        "      for j in range(i, len(S)):\n",
        "          if S[i] // S[j]:\n",
        "              str[i] = str[i] + 1\n",
        "  print(str)\n"
      ],
      "metadata": {
        "id": "avoHf1PuYMmw"
      },
      "execution_count": 26,
      "outputs": []
    },
    {
      "cell_type": "markdown",
      "source": [
        "Bài 3"
      ],
      "metadata": {
        "id": "SD1P13xKbqM7"
      }
    },
    {
      "cell_type": "code",
      "source": [
        "import itertools\n",
        "from itertools import permutations\n",
        "Hocsinh = 'Bình Ánh  Minh Sơn Tâm Hoa Phương'.split()\n",
        "Chon_3_hocsinh = list(itertools.combinations(Hocsinh, 3))"
      ],
      "metadata": {
        "id": "KWSwDgCubmuM"
      },
      "execution_count": 37,
      "outputs": []
    },
    {
      "cell_type": "code",
      "source": [
        "Chon_3_hocsinh"
      ],
      "metadata": {
        "colab": {
          "base_uri": "https://localhost:8080/"
        },
        "id": "3jEIjSUzdao6",
        "outputId": "c6ad531c-234b-4c74-ea95-904c86e33200"
      },
      "execution_count": 38,
      "outputs": [
        {
          "output_type": "execute_result",
          "data": {
            "text/plain": [
              "[('Bình', 'Ánh', 'Minh'),\n",
              " ('Bình', 'Ánh', 'Sơn'),\n",
              " ('Bình', 'Ánh', 'Tâm'),\n",
              " ('Bình', 'Ánh', 'Hoa'),\n",
              " ('Bình', 'Ánh', 'Phương'),\n",
              " ('Bình', 'Minh', 'Sơn'),\n",
              " ('Bình', 'Minh', 'Tâm'),\n",
              " ('Bình', 'Minh', 'Hoa'),\n",
              " ('Bình', 'Minh', 'Phương'),\n",
              " ('Bình', 'Sơn', 'Tâm'),\n",
              " ('Bình', 'Sơn', 'Hoa'),\n",
              " ('Bình', 'Sơn', 'Phương'),\n",
              " ('Bình', 'Tâm', 'Hoa'),\n",
              " ('Bình', 'Tâm', 'Phương'),\n",
              " ('Bình', 'Hoa', 'Phương'),\n",
              " ('Ánh', 'Minh', 'Sơn'),\n",
              " ('Ánh', 'Minh', 'Tâm'),\n",
              " ('Ánh', 'Minh', 'Hoa'),\n",
              " ('Ánh', 'Minh', 'Phương'),\n",
              " ('Ánh', 'Sơn', 'Tâm'),\n",
              " ('Ánh', 'Sơn', 'Hoa'),\n",
              " ('Ánh', 'Sơn', 'Phương'),\n",
              " ('Ánh', 'Tâm', 'Hoa'),\n",
              " ('Ánh', 'Tâm', 'Phương'),\n",
              " ('Ánh', 'Hoa', 'Phương'),\n",
              " ('Minh', 'Sơn', 'Tâm'),\n",
              " ('Minh', 'Sơn', 'Hoa'),\n",
              " ('Minh', 'Sơn', 'Phương'),\n",
              " ('Minh', 'Tâm', 'Hoa'),\n",
              " ('Minh', 'Tâm', 'Phương'),\n",
              " ('Minh', 'Hoa', 'Phương'),\n",
              " ('Sơn', 'Tâm', 'Hoa'),\n",
              " ('Sơn', 'Tâm', 'Phương'),\n",
              " ('Sơn', 'Hoa', 'Phương'),\n",
              " ('Tâm', 'Hoa', 'Phương')]"
            ]
          },
          "metadata": {},
          "execution_count": 38
        }
      ]
    }
  ]
}