{
  "nbformat": 4,
  "nbformat_minor": 0,
  "metadata": {
    "colab": {
      "provenance": [],
      "authorship_tag": "ABX9TyMzwTjVlyp5X+OayTYQk4vJ",
      "include_colab_link": true
    },
    "kernelspec": {
      "name": "python3",
      "display_name": "Python 3"
    },
    "language_info": {
      "name": "python"
    }
  },
  "cells": [
    {
      "cell_type": "markdown",
      "metadata": {
        "id": "view-in-github",
        "colab_type": "text"
      },
      "source": [
        "<a href=\"https://colab.research.google.com/github/Tridung2k3/ThucHanhToanCC/blob/main/%C4%90STT_Th%E1%BB%B1c_H%C3%A0nh_Ch%C6%B0%C6%A1ng_8.ipynb\" target=\"_parent\"><img src=\"https://colab.research.google.com/assets/colab-badge.svg\" alt=\"Open In Colab\"/></a>"
      ]
    },
    {
      "cell_type": "markdown",
      "source": [
        "# ***1. Các bài toán cơ bản về không gian vector ***"
      ],
      "metadata": {
        "id": "ACWBWXVvE2Md"
      }
    },
    {
      "cell_type": "markdown",
      "source": [
        "1.2.Các bài toán tính toán \n"
      ],
      "metadata": {
        "id": "G88xA8p1E92u"
      }
    },
    {
      "cell_type": "markdown",
      "source": [
        "*Bài tập 1:*"
      ],
      "metadata": {
        "id": "1p_tFdR-FFFz"
      }
    },
    {
      "cell_type": "code",
      "execution_count": 1,
      "metadata": {
        "colab": {
          "base_uri": "https://localhost:8080/"
        },
        "id": "8F5m4-TDEmYD",
        "outputId": "97253e92-892d-4466-ff8d-bc91f70c0250"
      },
      "outputs": [
        {
          "output_type": "stream",
          "name": "stdout",
          "text": [
            "[ 18 -11   9  -8]\n"
          ]
        }
      ],
      "source": [
        "# Câu a\n",
        "import numpy as np\n",
        "u = np.array([2,-1,5,0])\n",
        "v = np.array([4,3,1,-1])\n",
        "w = np.array([-6,2,0,3])\n",
        "x = 2*u-(v+3*w)\n",
        "print (x)"
      ]
    },
    {
      "cell_type": "code",
      "source": [
        "# Câu b\n",
        "x = 0.5*(2*u-v-3*w)\n",
        "print (x) "
      ],
      "metadata": {
        "colab": {
          "base_uri": "https://localhost:8080/"
        },
        "id": "reDA2ochFzKo",
        "outputId": "48553adf-3f15-454e-89c7-3f88b35faafa"
      },
      "execution_count": 2,
      "outputs": [
        {
          "output_type": "stream",
          "name": "stdout",
          "text": [
            "[ 9.  -5.5  4.5 -4. ]\n"
          ]
        }
      ]
    },
    {
      "cell_type": "markdown",
      "source": [
        "*Bài toán 2:*"
      ],
      "metadata": {
        "id": "dK9jrdhYGBD7"
      }
    },
    {
      "cell_type": "code",
      "source": [
        "from numpy import linalg\n",
        "A = np.matrix([[0, -1, 3],[1, 1, 1],[4, 2, 2]])\n",
        "B = np.array([-1, -2, -2])\n",
        "X = np.linalg.solve(A, B)\n",
        "print (X)"
      ],
      "metadata": {
        "colab": {
          "base_uri": "https://localhost:8080/"
        },
        "id": "a1WZO8jBGC_b",
        "outputId": "94680e83-4a84-44e5-d445-f71333dad881"
      },
      "execution_count": 3,
      "outputs": [
        {
          "output_type": "stream",
          "name": "stdout",
          "text": [
            "[ 1. -2. -1.]\n"
          ]
        }
      ]
    },
    {
      "cell_type": "markdown",
      "source": [
        "*Bài toán 3:*"
      ],
      "metadata": {
        "id": "nQn-_pu_GOLT"
      }
    },
    {
      "cell_type": "markdown",
      "source": [
        "***Phương pháp 1:***"
      ],
      "metadata": {
        "id": "czgTXUjXHElC"
      }
    },
    {
      "cell_type": "code",
      "source": [
        "A = np.matrix([[1,0],[0,0]])\n",
        "B = np.matrix([[0,0],[0,1]])\n",
        "from numpy import linalg as LA"
      ],
      "metadata": {
        "id": "NI5EGuFZGPQz"
      },
      "execution_count": 4,
      "outputs": []
    },
    {
      "cell_type": "code",
      "source": [
        "# LA.inv(A)\n",
        "# ---> Lỗi: Singular matrix"
      ],
      "metadata": {
        "id": "29prL4WcGZsx"
      },
      "execution_count": 6,
      "outputs": []
    },
    {
      "cell_type": "code",
      "source": [
        "# LA.inv(B)\n",
        "# ---> Lỗi: Singular matrix"
      ],
      "metadata": {
        "id": "E72rlwgQGnq6"
      },
      "execution_count": 8,
      "outputs": []
    },
    {
      "cell_type": "code",
      "source": [
        "LA.inv(A+B)"
      ],
      "metadata": {
        "colab": {
          "base_uri": "https://localhost:8080/"
        },
        "id": "yLfPXyUFG1SB",
        "outputId": "e3aeb7db-c7d4-436d-8f8c-6e45d70f9ab9"
      },
      "execution_count": 9,
      "outputs": [
        {
          "output_type": "execute_result",
          "data": {
            "text/plain": [
              "matrix([[1., 0.],\n",
              "        [0., 1.]])"
            ]
          },
          "metadata": {},
          "execution_count": 9
        }
      ]
    },
    {
      "cell_type": "markdown",
      "source": [
        "***Phương pháp 2:***"
      ],
      "metadata": {
        "id": "REH4NFRrHMBh"
      }
    },
    {
      "cell_type": "code",
      "source": [
        "LA.det(A)"
      ],
      "metadata": {
        "colab": {
          "base_uri": "https://localhost:8080/"
        },
        "id": "Um3l9xE6G6ch",
        "outputId": "ca328b49-c58c-4d15-d7e9-9154bbf7458f"
      },
      "execution_count": 11,
      "outputs": [
        {
          "output_type": "execute_result",
          "data": {
            "text/plain": [
              "0.0"
            ]
          },
          "metadata": {},
          "execution_count": 11
        }
      ]
    },
    {
      "cell_type": "code",
      "source": [
        "LA.det(B) "
      ],
      "metadata": {
        "colab": {
          "base_uri": "https://localhost:8080/"
        },
        "id": "CsvxF5NWG9gK",
        "outputId": "1e22160f-77e1-450e-8e75-dd27e555e0f2"
      },
      "execution_count": 12,
      "outputs": [
        {
          "output_type": "execute_result",
          "data": {
            "text/plain": [
              "0.0"
            ]
          },
          "metadata": {},
          "execution_count": 12
        }
      ]
    },
    {
      "cell_type": "code",
      "source": [
        "LA.det(A+B)"
      ],
      "metadata": {
        "colab": {
          "base_uri": "https://localhost:8080/"
        },
        "id": "59zWM7_EHA-Z",
        "outputId": "17595b38-a428-4dac-c023-fb1a67db2f4c"
      },
      "execution_count": 13,
      "outputs": [
        {
          "output_type": "execute_result",
          "data": {
            "text/plain": [
              "1.0"
            ]
          },
          "metadata": {},
          "execution_count": 13
        }
      ]
    },
    {
      "cell_type": "markdown",
      "source": [
        "*Bài toán 4:*"
      ],
      "metadata": {
        "id": "DwkOptCWHYgQ"
      }
    },
    {
      "cell_type": "code",
      "source": [
        "import sympy as sp\n",
        "x, y = sp.symbols('x y') # khai báo 2 biến x và y\n",
        "A = sp.Matrix([[x, y],[y, x]]) # lưu ý: kiểu ma trận của sympy là ‘Matrix’ (viết hoa)\n",
        "x1, y1 = sp.symbols('x1 y1')\n",
        "A1 = sp.Matrix([[x1, y1],[y1, x1]])\n",
        "x2, y2 = sp.symbols('x2 y2')\n",
        "A2 = sp.Matrix([[x2, y2],[y2, x2]])\n",
        "A1.T"
      ],
      "metadata": {
        "colab": {
          "base_uri": "https://localhost:8080/",
          "height": 58
        },
        "id": "RqkKCSHCHbo1",
        "outputId": "41072adc-5777-4c01-e272-c98f9c040e7c"
      },
      "execution_count": 14,
      "outputs": [
        {
          "output_type": "execute_result",
          "data": {
            "text/plain": [
              "Matrix([\n",
              "[x1, y1],\n",
              "[y1, x1]])"
            ],
            "text/latex": "$\\displaystyle \\left[\\begin{matrix}x_{1} & y_{1}\\\\y_{1} & x_{1}\\end{matrix}\\right]$"
          },
          "metadata": {},
          "execution_count": 14
        }
      ]
    },
    {
      "cell_type": "code",
      "source": [
        "(A1+A2).T"
      ],
      "metadata": {
        "colab": {
          "base_uri": "https://localhost:8080/",
          "height": 58
        },
        "id": "8zXsyvmDHoHR",
        "outputId": "b91afeb5-69f7-4343-9268-a266680f89db"
      },
      "execution_count": 15,
      "outputs": [
        {
          "output_type": "execute_result",
          "data": {
            "text/plain": [
              "Matrix([\n",
              "[x1 + x2, y1 + y2],\n",
              "[y1 + y2, x1 + x2]])"
            ],
            "text/latex": "$\\displaystyle \\left[\\begin{matrix}x_{1} + x_{2} & y_{1} + y_{2}\\\\y_{1} + y_{2} & x_{1} + x_{2}\\end{matrix}\\right]$"
          },
          "metadata": {},
          "execution_count": 15
        }
      ]
    },
    {
      "cell_type": "code",
      "source": [
        "((A1+A2).T).equals(A1+A2)"
      ],
      "metadata": {
        "colab": {
          "base_uri": "https://localhost:8080/"
        },
        "id": "VDD-IfB-Hon5",
        "outputId": "430cc2bd-9d11-4a64-fe03-4536c98706cf"
      },
      "execution_count": 16,
      "outputs": [
        {
          "output_type": "execute_result",
          "data": {
            "text/plain": [
              "True"
            ]
          },
          "metadata": {},
          "execution_count": 16
        }
      ]
    },
    {
      "cell_type": "code",
      "source": [
        "c = sp.symbols('c')\n",
        "print (c*A)"
      ],
      "metadata": {
        "colab": {
          "base_uri": "https://localhost:8080/"
        },
        "id": "TXa6rStIHqtA",
        "outputId": "8d5a9182-8232-4bf2-884a-c3bf86efb064"
      },
      "execution_count": 17,
      "outputs": [
        {
          "output_type": "stream",
          "name": "stdout",
          "text": [
            "Matrix([[c*x, c*y], [c*y, c*x]])\n"
          ]
        }
      ]
    },
    {
      "cell_type": "code",
      "source": [
        "((c*A).T).equals(c*A) "
      ],
      "metadata": {
        "colab": {
          "base_uri": "https://localhost:8080/"
        },
        "id": "7Sn7-RlkHzSx",
        "outputId": "9005572b-60f7-44d2-a546-bf35aa7c2fa4"
      },
      "execution_count": 18,
      "outputs": [
        {
          "output_type": "execute_result",
          "data": {
            "text/plain": [
              "True"
            ]
          },
          "metadata": {},
          "execution_count": 18
        }
      ]
    },
    {
      "cell_type": "markdown",
      "source": [
        "*Bài toán 6:*"
      ],
      "metadata": {
        "id": "rgTkTK_wIall"
      }
    },
    {
      "cell_type": "code",
      "source": [
        "import sympy as sp\n",
        "c1, c2, c3 = sp.symbols('c1 c2 c3')\n",
        "sp.solve([c1-2*c3, 2*c1+c2, 3*c1+2*c2+c3], [c1, c2, c3])"
      ],
      "metadata": {
        "colab": {
          "base_uri": "https://localhost:8080/"
        },
        "id": "t6nid36rIb_O",
        "outputId": "9e55b117-2fb1-4850-ff1a-1c71fdd2d34a"
      },
      "execution_count": 19,
      "outputs": [
        {
          "output_type": "execute_result",
          "data": {
            "text/plain": [
              "{c1: 0, c2: 0, c3: 0}"
            ]
          },
          "metadata": {},
          "execution_count": 19
        }
      ]
    },
    {
      "cell_type": "markdown",
      "source": [
        "*Bài toán 7:*"
      ],
      "metadata": {
        "id": "fnJFU8_DJyFD"
      }
    },
    {
      "cell_type": "code",
      "source": [
        "import sympy as sp\n",
        "c1, c2 = sp.symbols('c1 c2')\n",
        "u1, u2 = sp.symbols('u1 u2')\n",
        "sp.solve([c1+c2-u1,c1-c2-u2])"
      ],
      "metadata": {
        "colab": {
          "base_uri": "https://localhost:8080/"
        },
        "id": "ncdR_TpYJ45U",
        "outputId": "cf0c156a-0847-4e06-bcff-619f1ef95655"
      },
      "execution_count": 20,
      "outputs": [
        {
          "output_type": "execute_result",
          "data": {
            "text/plain": [
              "{c1: u1/2 + u2/2, c2: u1/2 - u2/2}"
            ]
          },
          "metadata": {},
          "execution_count": 20
        }
      ]
    },
    {
      "cell_type": "code",
      "source": [
        "u1 = 0\n",
        "u2 = 0\n",
        "sp.solve([c1+c2-u1,c1-c2-u2])"
      ],
      "metadata": {
        "colab": {
          "base_uri": "https://localhost:8080/"
        },
        "id": "Y9BXv3tLKA90",
        "outputId": "c6a1230b-e6b4-4063-afa1-201ca221a93d"
      },
      "execution_count": 21,
      "outputs": [
        {
          "output_type": "execute_result",
          "data": {
            "text/plain": [
              "{c1: 0, c2: 0}"
            ]
          },
          "metadata": {},
          "execution_count": 21
        }
      ]
    },
    {
      "cell_type": "markdown",
      "source": [
        "# ***2. Ánh xạ tuyến tính ***"
      ],
      "metadata": {
        "id": "Pn3t1hmrKUkT"
      }
    },
    {
      "cell_type": "markdown",
      "source": [
        "2.2.Bài toán ứng dụng: Ma trận biến đổi (ảnh/font chữ/…) "
      ],
      "metadata": {
        "id": "YUik4zNWKXr8"
      }
    },
    {
      "cell_type": "code",
      "source": [
        "# a\n",
        "import numpy as np\n",
        "P = np.array([[0,0,3,3,1,1,2,2,1,1],[0,5,5,4,4,3,3,2,2,0]])\n",
        "vecdelta = np.array([4,2])\n",
        "P_caua = (P.T + vecdelta).T # lệnh này sinh viên nên tách làm từng lệnh để hiểu \n",
        "print (P_caua)"
      ],
      "metadata": {
        "colab": {
          "base_uri": "https://localhost:8080/"
        },
        "id": "zzrt1h65Kcy5",
        "outputId": "89418090-3738-456c-e8e5-ee64ab4c1faa"
      },
      "execution_count": 22,
      "outputs": [
        {
          "output_type": "stream",
          "name": "stdout",
          "text": [
            "[[4 4 7 7 5 5 6 6 5 5]\n",
            " [2 7 7 6 6 5 5 4 4 2]]\n"
          ]
        }
      ]
    },
    {
      "cell_type": "code",
      "source": [
        "# b\n",
        "import numpy as np\n",
        "P = np.array([[0,0,3,3,1,1,2,2,1,1],[0,5,5,4,4,3,3,2,2,0]])\n",
        "vecdelta = np.array([4,-2])\n",
        "matran_biendoi = np.array([[1.0, 0.0],\n",
        "                          [0.0, 2.0]])\n",
        "P_caub = (P.T @ matran_biendoi + vecdelta).T\n",
        "print (P_caub)"
      ],
      "metadata": {
        "colab": {
          "base_uri": "https://localhost:8080/"
        },
        "id": "kbx_mQTWKszB",
        "outputId": "ad48a13e-1710-47ad-e676-b43429067afe"
      },
      "execution_count": 23,
      "outputs": [
        {
          "output_type": "stream",
          "name": "stdout",
          "text": [
            "[[ 4.  4.  7.  7.  5.  5.  6.  6.  5.  5.]\n",
            " [-2.  8.  8.  6.  6.  4.  4.  2.  2. -2.]]\n"
          ]
        }
      ]
    },
    {
      "cell_type": "markdown",
      "source": [
        "***3. [Đọc thêm] Kiểm lý thuyết về ánh xạ tuyến tính ***"
      ],
      "metadata": {
        "id": "qqcY9NksK8wi"
      }
    },
    {
      "cell_type": "markdown",
      "source": [
        "3.1.Kiểm tra một ánh xạ là ánh xạ tuyến tính "
      ],
      "metadata": {
        "id": "zmDaz8K-LBd9"
      }
    },
    {
      "cell_type": "code",
      "source": [
        "import sympy as sp\n",
        "from sympy import lambdify\n",
        "x1, x2, x3 = sp.symbols('x1 x2 x3')\n",
        "bieuthuc1 = x1 - x2 + x3\n",
        "f1 = lambdify([x1, x2, x3], bieuthuc1, 'numpy')\n",
        "a, b, c = sp.symbols('a b c') # khai báo thêm 3 biến a, b, c giả định X = (a, b, c)\n",
        "d, e, f = sp.symbols('d e f') # khai báo thêm 3 biến d, e, f giả định Y = (e, d, f)"
      ],
      "metadata": {
        "id": "m3gtAfS4LCny"
      },
      "execution_count": 25,
      "outputs": []
    },
    {
      "cell_type": "code",
      "source": [
        "f1(a, b, c) "
      ],
      "metadata": {
        "colab": {
          "base_uri": "https://localhost:8080/",
          "height": 39
        },
        "id": "60yWYNWhLX-p",
        "outputId": "00c66e5c-1171-4fb1-abea-064539c2fc14"
      },
      "execution_count": 26,
      "outputs": [
        {
          "output_type": "execute_result",
          "data": {
            "text/plain": [
              "a - b + c"
            ],
            "text/latex": "$\\displaystyle a - b + c$"
          },
          "metadata": {},
          "execution_count": 26
        }
      ]
    },
    {
      "cell_type": "code",
      "source": [
        "f1(d, e, f)"
      ],
      "metadata": {
        "colab": {
          "base_uri": "https://localhost:8080/",
          "height": 39
        },
        "id": "RIi7boeLLa4C",
        "outputId": "6f4aaae8-38db-4b67-b742-c58018bf0215"
      },
      "execution_count": 27,
      "outputs": [
        {
          "output_type": "execute_result",
          "data": {
            "text/plain": [
              "d - e + f"
            ],
            "text/latex": "$\\displaystyle d - e + f$"
          },
          "metadata": {},
          "execution_count": 27
        }
      ]
    },
    {
      "cell_type": "code",
      "source": [
        "f1(a+d, b+e, c+f)"
      ],
      "metadata": {
        "colab": {
          "base_uri": "https://localhost:8080/",
          "height": 39
        },
        "id": "zykkiK4lLdw5",
        "outputId": "8a4b5b1e-88b1-4d27-e8cc-61d942218647"
      },
      "execution_count": 28,
      "outputs": [
        {
          "output_type": "execute_result",
          "data": {
            "text/plain": [
              "a - b + c + d - e + f"
            ],
            "text/latex": "$\\displaystyle a - b + c + d - e + f$"
          },
          "metadata": {},
          "execution_count": 28
        }
      ]
    },
    {
      "cell_type": "code",
      "source": [
        "f1(a,b,c) + f1(d,e,f) == f1(a+d, b+e, c+f)"
      ],
      "metadata": {
        "colab": {
          "base_uri": "https://localhost:8080/"
        },
        "id": "Tk00kKmMLhFR",
        "outputId": "b5ee2249-7402-4cd3-b96d-fab05154728d"
      },
      "execution_count": 29,
      "outputs": [
        {
          "output_type": "execute_result",
          "data": {
            "text/plain": [
              "True"
            ]
          },
          "metadata": {},
          "execution_count": 29
        }
      ]
    },
    {
      "cell_type": "code",
      "source": [
        "(f1(a,b,c) + f1(d,e,f)).equals( f1(a+d, b+e, c+f)) "
      ],
      "metadata": {
        "colab": {
          "base_uri": "https://localhost:8080/"
        },
        "id": "9N3GZ02MLvFi",
        "outputId": "bb612e26-03ef-4b9a-8ee3-16e0c90b97dc"
      },
      "execution_count": 30,
      "outputs": [
        {
          "output_type": "execute_result",
          "data": {
            "text/plain": [
              "True"
            ]
          },
          "metadata": {},
          "execution_count": 30
        }
      ]
    },
    {
      "cell_type": "code",
      "source": [
        "q = sp.symbols('q')\n",
        "(q*f1(a,b,c) + f1(d,e,f)).equals(f1(q*a+d, q*b+e, q*c+f).expand())"
      ],
      "metadata": {
        "colab": {
          "base_uri": "https://localhost:8080/"
        },
        "id": "T8FhETOPLz8x",
        "outputId": "d4368f17-8c05-461f-e05a-e239044240e3"
      },
      "execution_count": 31,
      "outputs": [
        {
          "output_type": "execute_result",
          "data": {
            "text/plain": [
              "True"
            ]
          },
          "metadata": {},
          "execution_count": 31
        }
      ]
    },
    {
      "cell_type": "code",
      "source": [
        "bieuthuc2 = 2*x2 + 3* x3\n",
        "f2 = lambdify([x1, x2, x3], bieuthuc2, 'numpy')\n",
        "(q*f2(a,b,c) + f2(d,e,f)).equals(f2(q*a+d, q*b+e, q*c+f).expand())"
      ],
      "metadata": {
        "colab": {
          "base_uri": "https://localhost:8080/"
        },
        "id": "0IiA7jKmMmx2",
        "outputId": "2dc911db-fe85-4de1-ada6-177d8d750dcc"
      },
      "execution_count": 32,
      "outputs": [
        {
          "output_type": "execute_result",
          "data": {
            "text/plain": [
              "True"
            ]
          },
          "metadata": {},
          "execution_count": 32
        }
      ]
    },
    {
      "cell_type": "markdown",
      "source": [
        "3.3.Tìm ánh xạ tuyến tính "
      ],
      "metadata": {
        "id": "xc4ygjUINmu3"
      }
    },
    {
      "cell_type": "code",
      "source": [
        "import sympy as sp\n",
        "a, b = sp.symbols('a b')\n",
        "x, y = sp.symbols('x y')\n",
        "sp.solve([a+3*b-x, 2*a+5*b-y],[a,b])"
      ],
      "metadata": {
        "colab": {
          "base_uri": "https://localhost:8080/"
        },
        "id": "JSau1lgwN9jG",
        "outputId": "a3e74f10-a8e0-4cba-a1b0-0558876a90f0"
      },
      "execution_count": 33,
      "outputs": [
        {
          "output_type": "execute_result",
          "data": {
            "text/plain": [
              "{a: -5*x + 3*y, b: 2*x - y}"
            ]
          },
          "metadata": {},
          "execution_count": 33
        }
      ]
    },
    {
      "cell_type": "code",
      "source": [
        "fu1 = np.array([1,1,2])\n",
        "fu2 = np.array([4,2,1])\n",
        "fu = a*fu1 + b*fu2\n",
        "print (fu)"
      ],
      "metadata": {
        "colab": {
          "base_uri": "https://localhost:8080/"
        },
        "id": "qN2jw9VcOGvV",
        "outputId": "cb7f421d-eed9-450d-de0d-dec2b5bddff1"
      },
      "execution_count": 34,
      "outputs": [
        {
          "output_type": "stream",
          "name": "stdout",
          "text": [
            "[a + 4*b a + 2*b 2*a + b]\n"
          ]
        }
      ]
    },
    {
      "cell_type": "code",
      "source": [
        "fu = a.subs(a, -5*x + 3*y)*fu1 + b.subs(b, 2*x - y)*fu2 # thay giá trị tìm được ở trên vào\n",
        "print (fu)"
      ],
      "metadata": {
        "colab": {
          "base_uri": "https://localhost:8080/"
        },
        "id": "PmyeBT1AOU9X",
        "outputId": "46eaa621-9216-480d-f4c1-c9c57dae4b90"
      },
      "execution_count": 35,
      "outputs": [
        {
          "output_type": "stream",
          "name": "stdout",
          "text": [
            "[3*x - y -x + y -8*x + 5*y]\n"
          ]
        }
      ]
    },
    {
      "cell_type": "markdown",
      "source": [
        "3.4.Tìm nhân của ánh xạ tuyến tính "
      ],
      "metadata": {
        "id": "ftPeAV-zOqj8"
      }
    },
    {
      "cell_type": "code",
      "source": [
        "x1, x2, x3 = sp.symbols('x1 x2 x3')\n",
        "sp.solve([x1+x2-x3, 2*x1+3*x2-x3, 3*x1+5*x2-x3],[x1, x2, x3])"
      ],
      "metadata": {
        "colab": {
          "base_uri": "https://localhost:8080/"
        },
        "id": "IN8bmX7oPDXS",
        "outputId": "77a0aca4-7c35-4430-cb23-d4f8ed9707ad"
      },
      "execution_count": 36,
      "outputs": [
        {
          "output_type": "execute_result",
          "data": {
            "text/plain": [
              "{x1: 2*x3, x2: -x3}"
            ]
          },
          "metadata": {},
          "execution_count": 36
        }
      ]
    },
    {
      "cell_type": "markdown",
      "source": [
        "3.6. Ma trận của ánh xạ tuyến tính trong cặp cơ sở "
      ],
      "metadata": {
        "id": "-lqxxCbePKVy"
      }
    },
    {
      "cell_type": "code",
      "source": [
        "import numpy as np\n",
        "import math\n",
        "from scipy import linalg as LA\n",
        "B = np.matrix([[1.0/math.sqrt(2), 1.0/math.sqrt(2)],\n",
        " [-1.0/math.sqrt(2),1.0/math.sqrt(2)]]) # cos(pi/4)\n",
        "LA.orth(B)\n",
        "array = ([[-0.70710678, 0.70710678],\n",
        " [ 0.70710678, 0.70710678]])\n",
        "1.0/math.sqrt(2) \n"
      ],
      "metadata": {
        "colab": {
          "base_uri": "https://localhost:8080/"
        },
        "id": "HhDtHcltPVUz",
        "outputId": "1d599ed1-7541-46b2-8f29-8595e3703684"
      },
      "execution_count": 39,
      "outputs": [
        {
          "output_type": "execute_result",
          "data": {
            "text/plain": [
              "0.7071067811865475"
            ]
          },
          "metadata": {},
          "execution_count": 39
        }
      ]
    }
  ]
}