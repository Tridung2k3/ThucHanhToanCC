{
  "nbformat": 4,
  "nbformat_minor": 0,
  "metadata": {
    "colab": {
      "name": "Tiếp Theo của Chương 7_Toán Rời Rạc(Thực Hành).ipynb",
      "provenance": [],
      "authorship_tag": "ABX9TyOEocgRWx9iqUr2zOW6H0W6",
      "include_colab_link": true
    },
    "kernelspec": {
      "name": "python3",
      "display_name": "Python 3"
    },
    "language_info": {
      "name": "python"
    }
  },
  "cells": [
    {
      "cell_type": "markdown",
      "metadata": {
        "id": "view-in-github",
        "colab_type": "text"
      },
      "source": [
        "<a href=\"https://colab.research.google.com/github/Tridung2k3/ThucHanhToanCC/blob/main/Ti%E1%BA%BFp_Theo_c%E1%BB%A7a_Ch%C6%B0%C6%A1ng_7_To%C3%A1n_R%E1%BB%9Di_R%E1%BA%A1c(Th%E1%BB%B1c_H%C3%A0nh).ipynb\" target=\"_parent\"><img src=\"https://colab.research.google.com/assets/colab-badge.svg\" alt=\"Open In Colab\"/></a>"
      ]
    },
    {
      "cell_type": "code",
      "execution_count": 11,
      "metadata": {
        "id": "2Z-HXUiPR73g"
      },
      "outputs": [],
      "source": [
        "import math\n",
        "import sys\n",
        "class Graph():\n",
        "    def __init__(cung, dinh):\n",
        "      cung.x = dinh\n",
        "      cung.graph = [[0 for column in range(dinh)]\n",
        "        for row in range(dinh)]"
      ]
    },
    {
      "cell_type": "code",
      "source": [
        "def inketqua(cung, L, a):\n",
        "    print (\"đỉnh nguồn xuất phát từ: \")\n",
        "    for nut in range(cung.x):\n",
        "      print (a,\" đến đỉnh \",nut, \"độ dài đường đi là: \", L[nut])"
      ],
      "metadata": {
        "id": "BL2krOTyS5c6"
      },
      "execution_count": 12,
      "outputs": []
    },
    {
      "cell_type": "code",
      "source": [
        "def duongdinhonhat(cung, L, P):\n",
        "    min = sys.maxsize\n",
        "    for x in range(cung.x):\n",
        "      if L[x] < min and P[x] == False:\n",
        "        min = L[x]\n",
        "        min_index = x\n",
        "    return min_index"
      ],
      "metadata": {
        "id": "l3aez7zSTBv7"
      },
      "execution_count": 13,
      "outputs": []
    },
    {
      "cell_type": "code",
      "source": [
        "def timduongdi(cung, a):\n",
        "    L = [sys.maxsize] * cung.x\n",
        "    L[a] = 0\n",
        "    P = [False] * cung.x\n",
        "    for cout in range(cung.x):\n",
        "      u = cung.duongdinhonhat(L, P)\n",
        "      P[u] = True\n",
        "      for x in range(cung.x):\n",
        "        if cung.graph[u][x] > 0 and P[x] == False and L[x] > L[u] + cung.graph[u][x]:\n",
        "            L[x] = L[u] + cung.graph[u][x]\n",
        "    cung.inketqua(L, a)"
      ],
      "metadata": {
        "id": "LEMv-_EQTJaC"
      },
      "execution_count": 14,
      "outputs": []
    },
    {
      "cell_type": "code",
      "source": [
        "g = Graph(6)"
      ],
      "metadata": {
        "id": "y2-l13GkS0Yt"
      },
      "execution_count": 15,
      "outputs": []
    },
    {
      "cell_type": "code",
      "source": [
        ""
      ],
      "metadata": {
        "id": "Z04KeDd4YY-0"
      },
      "execution_count": null,
      "outputs": []
    }
  ]
}