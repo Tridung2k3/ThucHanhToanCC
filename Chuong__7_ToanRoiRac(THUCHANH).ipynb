{
  "nbformat": 4,
  "nbformat_minor": 0,
  "metadata": {
    "colab": {
      "name": "Chuong _7_ToanRoiRac(THUCHANH).ipynb",
      "provenance": [],
      "authorship_tag": "ABX9TyM+9/qKv0CpdizktEFbin7P",
      "include_colab_link": true
    },
    "kernelspec": {
      "name": "python3",
      "display_name": "Python 3"
    },
    "language_info": {
      "name": "python"
    }
  },
  "cells": [
    {
      "cell_type": "markdown",
      "metadata": {
        "id": "view-in-github",
        "colab_type": "text"
      },
      "source": [
        "<a href=\"https://colab.research.google.com/github/Tridung2k3/ThucHanhToanCC/blob/main/Chuong__7_ToanRoiRac(THUCHANH).ipynb\" target=\"_parent\"><img src=\"https://colab.research.google.com/assets/colab-badge.svg\" alt=\"Open In Colab\"/></a>"
      ]
    },
    {
      "cell_type": "code",
      "source": [
        "import networkx as nx "
      ],
      "metadata": {
        "id": "6qQl9HM4E2e_"
      },
      "execution_count": 1,
      "outputs": []
    },
    {
      "cell_type": "code",
      "execution_count": 2,
      "metadata": {
        "id": "cVEacQIMBk9k"
      },
      "outputs": [],
      "source": [
        "g = nx.Graph()\n",
        "g.add_node('TP.HCM')\n",
        "g.add_node('Dong Nai')\n",
        "g.add_node('Ba Ria Vung Tau')\n",
        "g.add_node('Lam Dong')\n",
        "g.add_node('Can Tho')\n",
        "g.add_node('Long An')\n",
        "g.add_edge('TP.HCM', 'Dong Nai')\n",
        "g.add_edge('TP.HCM', 'Ba Ria Vung Tau')\n",
        "g.add_edge('TP.HCM', 'Long An')\n",
        "g.add_edge('Dong Nai', 'Lam Dong')\n",
        "g.add_edge('Dong Nai', 'Ba Ria Vung Tau')"
      ]
    },
    {
      "cell_type": "code",
      "source": [
        "print (g.number_of_nodes())"
      ],
      "metadata": {
        "colab": {
          "base_uri": "https://localhost:8080/"
        },
        "id": "quUdB20oEuO3",
        "outputId": "f52c0c19-821b-4e7e-c1d3-8f72ee5e9eed"
      },
      "execution_count": 3,
      "outputs": [
        {
          "output_type": "stream",
          "name": "stdout",
          "text": [
            "6\n"
          ]
        }
      ]
    },
    {
      "cell_type": "code",
      "source": [
        "print (g.number_of_edges())"
      ],
      "metadata": {
        "colab": {
          "base_uri": "https://localhost:8080/"
        },
        "id": "2o4_EVAeFCf4",
        "outputId": "1941711e-29ca-4c35-8264-6a55d7896aaa"
      },
      "execution_count": 4,
      "outputs": [
        {
          "output_type": "stream",
          "name": "stdout",
          "text": [
            "5\n"
          ]
        }
      ]
    },
    {
      "cell_type": "code",
      "source": [
        "print (g.nodes())"
      ],
      "metadata": {
        "colab": {
          "base_uri": "https://localhost:8080/"
        },
        "id": "wq82_qOCFGTg",
        "outputId": "8c02352d-6c2a-4e4f-9c92-5287ffed6539"
      },
      "execution_count": 5,
      "outputs": [
        {
          "output_type": "stream",
          "name": "stdout",
          "text": [
            "['TP.HCM', 'Dong Nai', 'Ba Ria Vung Tau', 'Lam Dong', 'Can Tho', 'Long An']\n"
          ]
        }
      ]
    },
    {
      "cell_type": "code",
      "source": [
        "print (g.edges())"
      ],
      "metadata": {
        "colab": {
          "base_uri": "https://localhost:8080/"
        },
        "id": "w5fx89iBFMef",
        "outputId": "6e61657d-fd5c-4ced-84fe-003359d16910"
      },
      "execution_count": 6,
      "outputs": [
        {
          "output_type": "stream",
          "name": "stdout",
          "text": [
            "[('TP.HCM', 'Dong Nai'), ('TP.HCM', 'Ba Ria Vung Tau'), ('TP.HCM', 'Long An'), ('Dong Nai', 'Lam Dong'), ('Dong Nai', 'Ba Ria Vung Tau')]\n"
          ]
        }
      ]
    },
    {
      "cell_type": "code",
      "source": [
        "print (g.degree('TP.HCM'))"
      ],
      "metadata": {
        "colab": {
          "base_uri": "https://localhost:8080/"
        },
        "id": "25N3lYknFPHY",
        "outputId": "6a7006b8-0b7b-47e3-a7e1-d35a7aa9b7c8"
      },
      "execution_count": 7,
      "outputs": [
        {
          "output_type": "stream",
          "name": "stdout",
          "text": [
            "3\n"
          ]
        }
      ]
    },
    {
      "cell_type": "code",
      "source": [
        "print (g.degree())"
      ],
      "metadata": {
        "colab": {
          "base_uri": "https://localhost:8080/"
        },
        "id": "KHvM3xEqFNaH",
        "outputId": "28dd1559-b850-497a-bd93-9359a392bdab"
      },
      "execution_count": 8,
      "outputs": [
        {
          "output_type": "stream",
          "name": "stdout",
          "text": [
            "[('TP.HCM', 3), ('Dong Nai', 3), ('Ba Ria Vung Tau', 2), ('Lam Dong', 1), ('Can Tho', 0), ('Long An', 1)]\n"
          ]
        }
      ]
    },
    {
      "cell_type": "code",
      "source": [
        "print(list(g.neighbors('TP.HCM')))"
      ],
      "metadata": {
        "colab": {
          "base_uri": "https://localhost:8080/"
        },
        "id": "3zWN68fDFUqH",
        "outputId": "4041daee-4e77-41cc-cd85-437c7ea33edd"
      },
      "execution_count": 9,
      "outputs": [
        {
          "output_type": "stream",
          "name": "stdout",
          "text": [
            "['Dong Nai', 'Ba Ria Vung Tau', 'Long An']\n"
          ]
        }
      ]
    },
    {
      "cell_type": "code",
      "source": [
        "g.has_edge('Lam Dong', 'Long An')"
      ],
      "metadata": {
        "colab": {
          "base_uri": "https://localhost:8080/"
        },
        "id": "0gDILfhtFYLf",
        "outputId": "a0f5dc6b-e105-475a-ede9-b4ee5ec94f8c"
      },
      "execution_count": 10,
      "outputs": [
        {
          "output_type": "execute_result",
          "data": {
            "text/plain": [
              "False"
            ]
          },
          "metadata": {},
          "execution_count": 10
        }
      ]
    },
    {
      "cell_type": "code",
      "source": [
        "nx.shortest_path(g, 'Lam Dong', 'Long An')"
      ],
      "metadata": {
        "colab": {
          "base_uri": "https://localhost:8080/"
        },
        "id": "BanAbYObFbBo",
        "outputId": "234493a4-dbf7-492f-feeb-17a858438a71"
      },
      "execution_count": 11,
      "outputs": [
        {
          "output_type": "execute_result",
          "data": {
            "text/plain": [
              "['Lam Dong', 'Dong Nai', 'TP.HCM', 'Long An']"
            ]
          },
          "metadata": {},
          "execution_count": 11
        }
      ]
    },
    {
      "cell_type": "code",
      "source": [
        "#nx.shortest_path(g, 'Lam Dong', 'Can Tho')\n",
        "# Hiện tại chưa xây dựng mạng đường đi"
      ],
      "metadata": {
        "id": "TRgYS5pkFh__"
      },
      "execution_count": 12,
      "outputs": []
    },
    {
      "cell_type": "code",
      "source": [
        "g.add_node('Tien Giang')\n",
        "g.add_edge('Tien Giang', 'Long An')\n",
        "g.add_edge('Tien Giang', 'Can Tho')"
      ],
      "metadata": {
        "id": "qc3fuUUyFmEf"
      },
      "execution_count": 13,
      "outputs": []
    },
    {
      "cell_type": "code",
      "source": [
        "nx.shortest_path(g, 'Lam Dong', 'Can Tho')"
      ],
      "metadata": {
        "colab": {
          "base_uri": "https://localhost:8080/"
        },
        "id": "zgZ453WdFoBe",
        "outputId": "be223ac3-a5a0-43a2-8562-320d7e03e100"
      },
      "execution_count": 14,
      "outputs": [
        {
          "output_type": "execute_result",
          "data": {
            "text/plain": [
              "['Lam Dong', 'Dong Nai', 'TP.HCM', 'Long An', 'Tien Giang', 'Can Tho']"
            ]
          },
          "metadata": {},
          "execution_count": 14
        }
      ]
    },
    {
      "cell_type": "code",
      "source": [
        "nx.shortest_path_length(g, 'Lam Dong', 'Ba Ria Vung Tau')"
      ],
      "metadata": {
        "colab": {
          "base_uri": "https://localhost:8080/"
        },
        "id": "cdVTVhTmFq5n",
        "outputId": "1d9e0604-455b-4e11-bf22-53eb8022fe73"
      },
      "execution_count": 15,
      "outputs": [
        {
          "output_type": "execute_result",
          "data": {
            "text/plain": [
              "2"
            ]
          },
          "metadata": {},
          "execution_count": 15
        }
      ]
    },
    {
      "cell_type": "code",
      "source": [
        "nx.shortest_path_length(g, 'Dong Nai', 'Ba Ria Vung Tau')"
      ],
      "metadata": {
        "colab": {
          "base_uri": "https://localhost:8080/"
        },
        "id": "YDVEgk5sFtmO",
        "outputId": "3f33004b-eb74-48e0-d2df-3e3552b6c8d9"
      },
      "execution_count": 16,
      "outputs": [
        {
          "output_type": "execute_result",
          "data": {
            "text/plain": [
              "1"
            ]
          },
          "metadata": {},
          "execution_count": 16
        }
      ]
    },
    {
      "cell_type": "code",
      "source": [
        "nx.shortest_path_length(g, 'Lam Dong', 'Long An')"
      ],
      "metadata": {
        "colab": {
          "base_uri": "https://localhost:8080/"
        },
        "id": "EYvVZUeyFvkz",
        "outputId": "4d65eba2-f1f4-4744-cdfc-4134ade18631"
      },
      "execution_count": 17,
      "outputs": [
        {
          "output_type": "execute_result",
          "data": {
            "text/plain": [
              "3"
            ]
          },
          "metadata": {},
          "execution_count": 17
        }
      ]
    },
    {
      "cell_type": "code",
      "source": [
        "import networkx as nx\n",
        "g = nx.Graph()\n",
        "g.add_node('Dinh 0')\n",
        "g.add_node('Dinh 1')\n",
        "g.add_node('Dinh 2')\n",
        "g.add_node('Dinh 3')\n",
        "g.add_node('Dinh 4')\n",
        "g.add_node('Dinh 5')\n",
        "g.add_node('Dinh 6')\n",
        "g.add_node('Dinh 7')\n",
        "g.add_node('Dinh 8')"
      ],
      "metadata": {
        "id": "JOMHGkgDLueZ"
      },
      "execution_count": 18,
      "outputs": []
    },
    {
      "cell_type": "code",
      "source": [
        "g.add_edge('Dinh 0', 'Dinh 1', weight = 4)\n",
        "g.add_edge('Dinh 1', 'Dinh 2', weight = 8)\n",
        "g.add_edge('Dinh 2', 'Dinh 3', weight = 7)\n",
        "g.add_edge('Dinh 3', 'Dinh 4', weight = 9)\n",
        "g.add_edge('Dinh 4', 'Dinh 5', weight = 10)\n",
        "g.add_edge('Dinh 5', 'Dinh 6', weight = 2)\n",
        "g.add_edge('Dinh 6', 'Dinh 7', weight = 1)\n",
        "g.add_edge('Dinh 7', 'Dinh 8', weight = 7)\n",
        "g.add_edge('Dinh 7', 'Dinh 0', weight = 8)\n",
        "g.add_edge('Dinh 1', 'Dinh 7', weight = 11)\n",
        "g.add_edge('Dinh 2', 'Dinh 8', weight = 2)\n",
        "g.add_edge('Dinh 8', 'Dinh 6', weight = 6)\n",
        "g.add_edge('Dinh 3', 'Dinh 5', weight = 14)\n",
        "g.add_edge('Dinh 2', 'Dinh 5', weight = 4)"
      ],
      "metadata": {
        "id": "ypinzybaLyTg"
      },
      "execution_count": 19,
      "outputs": []
    },
    {
      "cell_type": "code",
      "source": [
        "print(g.number_of_nodes())"
      ],
      "metadata": {
        "colab": {
          "base_uri": "https://localhost:8080/"
        },
        "id": "w9bKhLKCL0th",
        "outputId": "8a5e9575-e166-4f25-a9ac-e8c9220f0ab6"
      },
      "execution_count": 20,
      "outputs": [
        {
          "output_type": "stream",
          "name": "stdout",
          "text": [
            "9\n"
          ]
        }
      ]
    },
    {
      "cell_type": "code",
      "source": [
        "print(g.number_of_edges())"
      ],
      "metadata": {
        "colab": {
          "base_uri": "https://localhost:8080/"
        },
        "id": "kYP_gxdUMDSg",
        "outputId": "00b4ce33-3af4-4c1f-e4c4-eaf4d956c5df"
      },
      "execution_count": 21,
      "outputs": [
        {
          "output_type": "stream",
          "name": "stdout",
          "text": [
            "14\n"
          ]
        }
      ]
    },
    {
      "cell_type": "code",
      "source": [
        "print(g.nodes())"
      ],
      "metadata": {
        "colab": {
          "base_uri": "https://localhost:8080/"
        },
        "id": "EQiDXaSJMLAA",
        "outputId": "49429bcc-17b3-4790-b647-f2f2c6832179"
      },
      "execution_count": 22,
      "outputs": [
        {
          "output_type": "stream",
          "name": "stdout",
          "text": [
            "['Dinh 0', 'Dinh 1', 'Dinh 2', 'Dinh 3', 'Dinh 4', 'Dinh 5', 'Dinh 6', 'Dinh 7', 'Dinh 8']\n"
          ]
        }
      ]
    },
    {
      "cell_type": "code",
      "source": [
        "print(g.edges())"
      ],
      "metadata": {
        "colab": {
          "base_uri": "https://localhost:8080/"
        },
        "id": "8yf72wimMOfY",
        "outputId": "48a4e951-f792-4e6b-e2f8-f2d93be8b4d9"
      },
      "execution_count": 23,
      "outputs": [
        {
          "output_type": "stream",
          "name": "stdout",
          "text": [
            "[('Dinh 0', 'Dinh 1'), ('Dinh 0', 'Dinh 7'), ('Dinh 1', 'Dinh 2'), ('Dinh 1', 'Dinh 7'), ('Dinh 2', 'Dinh 3'), ('Dinh 2', 'Dinh 8'), ('Dinh 2', 'Dinh 5'), ('Dinh 3', 'Dinh 4'), ('Dinh 3', 'Dinh 5'), ('Dinh 4', 'Dinh 5'), ('Dinh 5', 'Dinh 6'), ('Dinh 6', 'Dinh 7'), ('Dinh 6', 'Dinh 8'), ('Dinh 7', 'Dinh 8')]\n"
          ]
        }
      ]
    },
    {
      "cell_type": "code",
      "source": [
        "print(g.degree())"
      ],
      "metadata": {
        "colab": {
          "base_uri": "https://localhost:8080/"
        },
        "id": "zQd7OVnXPc2o",
        "outputId": "e646abea-4acf-46d7-9f9e-8b7eaac1d33a"
      },
      "execution_count": 24,
      "outputs": [
        {
          "output_type": "stream",
          "name": "stdout",
          "text": [
            "[('Dinh 0', 2), ('Dinh 1', 3), ('Dinh 2', 4), ('Dinh 3', 3), ('Dinh 4', 2), ('Dinh 5', 4), ('Dinh 6', 3), ('Dinh 7', 4), ('Dinh 8', 3)]\n"
          ]
        }
      ]
    },
    {
      "cell_type": "code",
      "source": [
        "print(list(g.neighbors('Dinh 4')))"
      ],
      "metadata": {
        "colab": {
          "base_uri": "https://localhost:8080/"
        },
        "id": "u_Vpx5TqMUFw",
        "outputId": "b030cb0a-faba-482d-9189-a4158824a324"
      },
      "execution_count": 25,
      "outputs": [
        {
          "output_type": "stream",
          "name": "stdout",
          "text": [
            "['Dinh 3', 'Dinh 5']\n"
          ]
        }
      ]
    },
    {
      "cell_type": "code",
      "source": [
        "print(list(g.neighbors('Dinh 5')))"
      ],
      "metadata": {
        "colab": {
          "base_uri": "https://localhost:8080/"
        },
        "id": "41A9xw5iMfyo",
        "outputId": "a7241bb0-39cc-4b49-f617-ccfc550adfd0"
      },
      "execution_count": 26,
      "outputs": [
        {
          "output_type": "stream",
          "name": "stdout",
          "text": [
            "['Dinh 4', 'Dinh 6', 'Dinh 3', 'Dinh 2']\n"
          ]
        }
      ]
    },
    {
      "cell_type": "code",
      "source": [
        "print(len(list(g.neighbors('Dinh 0'))))\n",
        "print(len(list(g.neighbors('Dinh 1'))))\n",
        "print(len(list(g.neighbors('Dinh 2'))))\n",
        "print(len(list(g.neighbors('Dinh 3'))))\n",
        "print(len(list(g.neighbors('Dinh 4'))))\n",
        "print(len(list(g.neighbors('Dinh 5'))))\n",
        "print(len(list(g.neighbors('Dinh 6'))))\n",
        "print(len(list(g.neighbors('Dinh 7'))))\n",
        "print(len(list(g.neighbors('Dinh 8'))))\n"
      ],
      "metadata": {
        "colab": {
          "base_uri": "https://localhost:8080/"
        },
        "id": "MUk7ZQghMgnX",
        "outputId": "e62459b0-961e-4139-e112-3fae926dcffa"
      },
      "execution_count": 27,
      "outputs": [
        {
          "output_type": "stream",
          "name": "stdout",
          "text": [
            "2\n",
            "3\n",
            "4\n",
            "3\n",
            "2\n",
            "4\n",
            "3\n",
            "4\n",
            "3\n"
          ]
        }
      ]
    },
    {
      "cell_type": "code",
      "source": [
        "print(nx.shortest_path(g, 'Dinh 1','Dinh 6'))"
      ],
      "metadata": {
        "colab": {
          "base_uri": "https://localhost:8080/"
        },
        "id": "j4IYxcXeTT_w",
        "outputId": "5bf22645-652a-4cb3-f0f9-290ed48d7206"
      },
      "execution_count": 30,
      "outputs": [
        {
          "output_type": "stream",
          "name": "stdout",
          "text": [
            "['Dinh 1', 'Dinh 7', 'Dinh 6']\n"
          ]
        }
      ]
    },
    {
      "cell_type": "code",
      "source": [
        "print(nx.shortest_path(g, 'Dinh 1','Dinh 8'))"
      ],
      "metadata": {
        "colab": {
          "base_uri": "https://localhost:8080/"
        },
        "id": "-uDDyrvqTnu1",
        "outputId": "03545313-af7f-42be-d59e-478f68f87eb3"
      },
      "execution_count": 31,
      "outputs": [
        {
          "output_type": "stream",
          "name": "stdout",
          "text": [
            "['Dinh 1', 'Dinh 7', 'Dinh 8']\n"
          ]
        }
      ]
    }
  ]
}