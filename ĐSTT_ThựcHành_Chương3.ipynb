{
  "nbformat": 4,
  "nbformat_minor": 0,
  "metadata": {
    "colab": {
      "provenance": [],
      "authorship_tag": "ABX9TyOn6ipvG4V0QbB/Mv9iDx2M",
      "include_colab_link": true
    },
    "kernelspec": {
      "name": "python3",
      "display_name": "Python 3"
    },
    "language_info": {
      "name": "python"
    }
  },
  "cells": [
    {
      "cell_type": "markdown",
      "metadata": {
        "id": "view-in-github",
        "colab_type": "text"
      },
      "source": [
        "<a href=\"https://colab.research.google.com/github/Tridung2k3/ThucHanhToanCC/blob/main/%C4%90STT_Th%E1%BB%B1cH%C3%A0nh_Ch%C6%B0%C6%A1ng3.ipynb\" target=\"_parent\"><img src=\"https://colab.research.google.com/assets/colab-badge.svg\" alt=\"Open In Colab\"/></a>"
      ]
    },
    {
      "cell_type": "markdown",
      "source": [
        "# Tên: Mai Hoàng Trí Dũng\n",
        "### MSSV: 2174802010322"
      ],
      "metadata": {
        "id": "SjotEpyu89KG"
      }
    },
    {
      "cell_type": "markdown",
      "source": [
        "# **1. Một số phép xử lý ma trận của NumPy và Scipy**"
      ],
      "metadata": {
        "id": "hbqn3gfSw-7n"
      }
    },
    {
      "cell_type": "code",
      "source": [
        "from scipy import linalg # Tải gói linalg của scipy vào bộ nhớ (để sử dụng)\n",
        "import numpy as np # Tải gói numpy vào sử dụng với tên gọi là np"
      ],
      "metadata": {
        "id": "z_JZaf2qxlbo"
      },
      "execution_count": 32,
      "outputs": []
    },
    {
      "cell_type": "code",
      "execution_count": 33,
      "metadata": {
        "id": "7Zvttfxjvin1"
      },
      "outputs": [],
      "source": [
        "a = np.array([1, 2, 3])\n",
        "b = np.array([(1+9j, 2j, 3j), (4j, 5j, 6j)]) # số phức\n",
        "c = np.array([[ (0.5, 1.5, 10), (3,2,1) ] , [(6,5,4), (7,8,9)]]) # ma trận số thực "
      ]
    },
    {
      "cell_type": "code",
      "source": [
        "A = np.matrix(np.random.random( (2,2) ) )\n",
        "print(A)\n",
        "B = np.asmatrix(b) # Chuyển b thành dạng ma trận\n",
        "print(B)\n",
        "C = np.mat(np.random.random( (10,5) ) )\n",
        "print(C)\n",
        "D = np.mat([ [4, 3], [2, 6] ])\n",
        "print(D)\n",
        "F = np.eye(3, k=1) # tạo ma trận đường chéo. 3 là ma trận 3x3, k=1 là đường chéo nằm phía trên đường chéo chính (k = 0).\n",
        "print(F)"
      ],
      "metadata": {
        "colab": {
          "base_uri": "https://localhost:8080/"
        },
        "id": "-xku26pqxOb-",
        "outputId": "88ea9f34-da61-4953-82b5-14e8c1d7585f"
      },
      "execution_count": 34,
      "outputs": [
        {
          "output_type": "stream",
          "name": "stdout",
          "text": [
            "[[0.21352236 0.48739462]\n",
            " [0.59455663 0.25381674]]\n",
            "[[1.+9.j 0.+2.j 0.+3.j]\n",
            " [0.+4.j 0.+5.j 0.+6.j]]\n",
            "[[0.89955234 0.56814698 0.24598729 0.9050627  0.68242941]\n",
            " [0.38573307 0.18161981 0.943137   0.62518278 0.74143068]\n",
            " [0.41519999 0.27479434 0.9465592  0.37456459 0.8542232 ]\n",
            " [0.41900439 0.03908798 0.19355799 0.21003388 0.50642423]\n",
            " [0.82909942 0.39660862 0.55595827 0.07123526 0.27526818]\n",
            " [0.86201202 0.3969529  0.60528015 0.84658527 0.72141227]\n",
            " [0.13924768 0.55572863 0.99069328 0.69701487 0.81012869]\n",
            " [0.68805338 0.77763128 0.09014247 0.91441874 0.68640437]\n",
            " [0.38586264 0.40752707 0.91650943 0.2632288  0.17685428]\n",
            " [0.64025302 0.56868772 0.40871789 0.90705315 0.92527663]]\n",
            "[[4 3]\n",
            " [2 6]]\n",
            "[[0. 1. 0.]\n",
            " [0. 0. 1.]\n",
            " [0. 0. 0.]]\n"
          ]
        }
      ]
    },
    {
      "cell_type": "code",
      "source": [
        "F = np.eye(3, k=0)\n",
        "print(F)"
      ],
      "metadata": {
        "colab": {
          "base_uri": "https://localhost:8080/"
        },
        "id": "yCgOCDmgxzmF",
        "outputId": "d6664fe9-4f89-48c0-a924-e47eab63dc35"
      },
      "execution_count": 35,
      "outputs": [
        {
          "output_type": "stream",
          "name": "stdout",
          "text": [
            "[[1. 0. 0.]\n",
            " [0. 1. 0.]\n",
            " [0. 0. 1.]]\n"
          ]
        }
      ]
    },
    {
      "cell_type": "code",
      "source": [
        "F = np.eye(3, k=-1) \n",
        "print(F)"
      ],
      "metadata": {
        "colab": {
          "base_uri": "https://localhost:8080/"
        },
        "id": "OE8cmB13x4k1",
        "outputId": "26a23d83-db29-41cb-9a1f-4b0a582460c1"
      },
      "execution_count": 36,
      "outputs": [
        {
          "output_type": "stream",
          "name": "stdout",
          "text": [
            "[[0. 0. 0.]\n",
            " [1. 0. 0.]\n",
            " [0. 1. 0.]]\n"
          ]
        }
      ]
    },
    {
      "cell_type": "markdown",
      "source": [
        "## Các phép xử lý đơn giản"
      ],
      "metadata": {
        "id": "dpHpybAYysOk"
      }
    },
    {
      "cell_type": "markdown",
      "source": [
        "Xem hạng ma trận: "
      ],
      "metadata": {
        "id": "EH4_sJbQy6L6"
      }
    },
    {
      "cell_type": "code",
      "source": [
        "np.linalg.matrix_rank(C)\n"
      ],
      "metadata": {
        "colab": {
          "base_uri": "https://localhost:8080/"
        },
        "id": "Myc-EncfyusL",
        "outputId": "67b4e45d-a70a-4535-c689-85394ca46500"
      },
      "execution_count": 37,
      "outputs": [
        {
          "output_type": "execute_result",
          "data": {
            "text/plain": [
              "5"
            ]
          },
          "metadata": {},
          "execution_count": 37
        }
      ]
    },
    {
      "cell_type": "code",
      "source": [
        "#B = A.I không chạy được trên google colab\n",
        "#print(B)\n",
        "#Kết quả chạy trên visual code (KQ sẽ bị biến đổi nếu run )\n",
        "#[[-1.49286732  3.39776752]\n",
        "# [ 2.88703142 -2.4292582 ]]"
      ],
      "metadata": {
        "id": "e05v43TYyxxr"
      },
      "execution_count": 38,
      "outputs": []
    },
    {
      "cell_type": "code",
      "source": [
        "#C = linalg.inv(A)  không chạy được trên google colab\n",
        "#print(C) \n",
        "#Kết quả chạy trên visual code (KQ sẽ bị biến đổi nếu run )\n",
        "#[[-1.49286732  3.39776752]\n",
        "# [ 2.88703142 -2.4292582 ]]"
      ],
      "metadata": {
        "id": "MrW5kuDByzFL"
      },
      "execution_count": 39,
      "outputs": []
    },
    {
      "cell_type": "code",
      "source": [
        "#D = linalg.det(A) không chạy được trên google colab\n",
        "#print(D)\n",
        "#Kết quả chạy trên visual code (KQ sẽ bị biến đổi nếu run )\n",
        "#-0.16173636546636588"
      ],
      "metadata": {
        "id": "eJI-95o_y0fb"
      },
      "execution_count": 40,
      "outputs": []
    },
    {
      "cell_type": "code",
      "source": [
        "#E = A.T không chạy được trên google colab\n",
        "#print(E)\n",
        "#Kết quả chạy trên visual code (KQ sẽ bị biến đổi nếu run )\n",
        "#[[0.39289939 0.46693797]\n",
        "# [0.54954257 0.24145093]]"
      ],
      "metadata": {
        "id": "MTleNnaiy3HC"
      },
      "execution_count": 41,
      "outputs": []
    },
    {
      "cell_type": "code",
      "source": [
        "#F = A.H không chạy được trên google colab\n",
        "#print(F)\n",
        "#Kết quả chạy trên visual code (KQ sẽ bị biến đổi nếu run )\n",
        "#[[0.39289939 0.46693797]\n",
        "# [0.54954257 0.24145093]]"
      ],
      "metadata": {
        "id": "fRMsdWz1y4Kd"
      },
      "execution_count": 42,
      "outputs": []
    },
    {
      "cell_type": "markdown",
      "source": [
        "## Giải các loại phương trình tuyến tính: "
      ],
      "metadata": {
        "id": "ERsCDVmP3VDN"
      }
    },
    {
      "cell_type": "code",
      "source": [
        "linalg.solve(A, b)"
      ],
      "metadata": {
        "colab": {
          "base_uri": "https://localhost:8080/"
        },
        "id": "wbdvB8us3TFb",
        "outputId": "c142825f-0f33-4d30-ca60-162851167d09"
      },
      "execution_count": 43,
      "outputs": [
        {
          "output_type": "execute_result",
          "data": {
            "text/plain": [
              "array([[-1.07737476 -1.42100573j,  0.         +8.1894594j ,\n",
              "         0.         +9.18092642j],\n",
              "       [ 2.52371187+19.08805725j,  0.         +0.51573679j,\n",
              "         0.         +2.13311127j]])"
            ]
          },
          "metadata": {},
          "execution_count": 43
        }
      ]
    },
    {
      "cell_type": "code",
      "source": [
        "E = np.mat(a).T \n",
        "print(E)"
      ],
      "metadata": {
        "colab": {
          "base_uri": "https://localhost:8080/"
        },
        "id": "U74r4TAP3bTy",
        "outputId": "3a6024f4-2578-467d-c8a7-cb39dee718df"
      },
      "execution_count": 47,
      "outputs": [
        {
          "output_type": "stream",
          "name": "stdout",
          "text": [
            "[[1]\n",
            " [2]\n",
            " [3]]\n"
          ]
        }
      ]
    },
    {
      "cell_type": "code",
      "source": [
        "linalg.lstsq(F, E)"
      ],
      "metadata": {
        "colab": {
          "base_uri": "https://localhost:8080/"
        },
        "id": "ZPrJCPR83chc",
        "outputId": "9e0a7e9a-20b4-442d-f0a4-c582d47b5474"
      },
      "execution_count": 46,
      "outputs": [
        {
          "output_type": "execute_result",
          "data": {
            "text/plain": [
              "(array([[2.],\n",
              "        [3.],\n",
              "        [0.]]), array([], dtype=float64), 2, array([1., 1., 0.]))"
            ]
          },
          "metadata": {},
          "execution_count": 46
        }
      ]
    },
    {
      "cell_type": "markdown",
      "source": [
        "## Các hàm trên ma trận"
      ],
      "metadata": {
        "id": "r3oaAsQ53lmF"
      }
    },
    {
      "cell_type": "markdown",
      "source": [
        "Cộng ma trận: "
      ],
      "metadata": {
        "id": "sc7owvrG39zi"
      }
    },
    {
      "cell_type": "code",
      "source": [
        "np.add(A, D) "
      ],
      "metadata": {
        "colab": {
          "base_uri": "https://localhost:8080/"
        },
        "id": "fPyeAACK3nZ8",
        "outputId": "ee1f0b00-bc20-4e75-d713-29e09dcb6e99"
      },
      "execution_count": 48,
      "outputs": [
        {
          "output_type": "execute_result",
          "data": {
            "text/plain": [
              "matrix([[4.21352236, 3.48739462],\n",
              "        [2.59455663, 6.25381674]])"
            ]
          },
          "metadata": {},
          "execution_count": 48
        }
      ]
    },
    {
      "cell_type": "markdown",
      "source": [
        "Trừ ma trận: "
      ],
      "metadata": {
        "id": "ElqnPV314As6"
      }
    },
    {
      "cell_type": "code",
      "source": [
        "np.subtract(A, D)"
      ],
      "metadata": {
        "colab": {
          "base_uri": "https://localhost:8080/"
        },
        "id": "n3eXa3D53r1x",
        "outputId": "71c57d3e-5ded-404d-ad3c-fe4b8d7b0091"
      },
      "execution_count": 49,
      "outputs": [
        {
          "output_type": "execute_result",
          "data": {
            "text/plain": [
              "matrix([[-3.78647764, -2.51260538],\n",
              "        [-1.40544337, -5.74618326]])"
            ]
          },
          "metadata": {},
          "execution_count": 49
        }
      ]
    },
    {
      "cell_type": "markdown",
      "source": [
        "Chia ma trận: "
      ],
      "metadata": {
        "id": "He09zkr24DCq"
      }
    },
    {
      "cell_type": "code",
      "source": [
        "np.divide(A, D) "
      ],
      "metadata": {
        "colab": {
          "base_uri": "https://localhost:8080/"
        },
        "id": "1ObWgZPg3sAh",
        "outputId": "95d64e96-c4dc-4c98-ecab-a26dc20f23a3"
      },
      "execution_count": 50,
      "outputs": [
        {
          "output_type": "execute_result",
          "data": {
            "text/plain": [
              "matrix([[0.05338059, 0.16246487],\n",
              "        [0.29727831, 0.04230279]])"
            ]
          },
          "metadata": {},
          "execution_count": 50
        }
      ]
    },
    {
      "cell_type": "markdown",
      "source": [
        "Nhân ma trận:"
      ],
      "metadata": {
        "id": "85h2hQb14Fis"
      }
    },
    {
      "cell_type": "code",
      "source": [
        "A @ D # phiên bản Python 3.x"
      ],
      "metadata": {
        "colab": {
          "base_uri": "https://localhost:8080/"
        },
        "id": "Uo2BB6Dn3sKh",
        "outputId": "698ae920-a690-4559-db00-11612be27d7e"
      },
      "execution_count": 51,
      "outputs": [
        {
          "output_type": "execute_result",
          "data": {
            "text/plain": [
              "matrix([[1.82887867, 3.56493481],\n",
              "        [2.88585998, 3.3065703 ]])"
            ]
          },
          "metadata": {},
          "execution_count": 51
        }
      ]
    },
    {
      "cell_type": "code",
      "source": [
        "np.multiply(D, A) "
      ],
      "metadata": {
        "colab": {
          "base_uri": "https://localhost:8080/"
        },
        "id": "QroZR7ht3sS5",
        "outputId": "2b416433-4411-4031-f9d9-28ca246923b4"
      },
      "execution_count": 52,
      "outputs": [
        {
          "output_type": "execute_result",
          "data": {
            "text/plain": [
              "matrix([[0.85408942, 1.46218387],\n",
              "        [1.18911326, 1.52290041]])"
            ]
          },
          "metadata": {},
          "execution_count": 52
        }
      ]
    },
    {
      "cell_type": "code",
      "source": [
        "np.dot(A, D)"
      ],
      "metadata": {
        "colab": {
          "base_uri": "https://localhost:8080/"
        },
        "id": "YCE4BF1s3x49",
        "outputId": "9e787248-b6d7-4eec-dc01-a86d971ffd6e"
      },
      "execution_count": 53,
      "outputs": [
        {
          "output_type": "execute_result",
          "data": {
            "text/plain": [
              "matrix([[1.82887867, 3.56493481],\n",
              "        [2.88585998, 3.3065703 ]])"
            ]
          },
          "metadata": {},
          "execution_count": 53
        }
      ]
    },
    {
      "cell_type": "code",
      "source": [
        "np.vdot(A, D) "
      ],
      "metadata": {
        "colab": {
          "base_uri": "https://localhost:8080/"
        },
        "id": "FdTXulBD4Joh",
        "outputId": "a4ef6249-a0db-4557-97fb-905cd309a4b0"
      },
      "execution_count": 54,
      "outputs": [
        {
          "output_type": "execute_result",
          "data": {
            "text/plain": [
              "matrix([[0.85408942]])"
            ]
          },
          "metadata": {},
          "execution_count": 54
        }
      ]
    },
    {
      "cell_type": "markdown",
      "source": [
        "Hàm lũy thừa và logarith ma trận:"
      ],
      "metadata": {
        "id": "pHF5ewMR4MTR"
      }
    },
    {
      "cell_type": "code",
      "source": [
        "linalg.expm(A) "
      ],
      "metadata": {
        "colab": {
          "base_uri": "https://localhost:8080/"
        },
        "id": "sHFMwkvW4Nih",
        "outputId": "b44e44c9-08f3-4aa7-b14a-fbff69e9cc01"
      },
      "execution_count": 55,
      "outputs": [
        {
          "output_type": "execute_result",
          "data": {
            "text/plain": [
              "array([[1.42429074, 0.64590291],\n",
              "       [0.78791566, 1.47768947]])"
            ]
          },
          "metadata": {},
          "execution_count": 55
        }
      ]
    },
    {
      "cell_type": "code",
      "source": [
        "linalg.logm(A)"
      ],
      "metadata": {
        "colab": {
          "base_uri": "https://localhost:8080/"
        },
        "id": "P70d-Dlq4Ny6",
        "outputId": "d55d3e15-708c-4963-c3d7-bccb01460630"
      },
      "execution_count": 56,
      "outputs": [
        {
          "output_type": "execute_result",
          "data": {
            "text/plain": [
              "array([[-0.74020867+1.62954437j,  0.42029725-1.42121466j],\n",
              "       [ 0.51270675-1.7336929j , -0.70546143+1.51204828j]])"
            ]
          },
          "metadata": {},
          "execution_count": 56
        }
      ]
    },
    {
      "cell_type": "markdown",
      "source": [
        "# **2.3. Ma trận hội tụ ***"
      ],
      "metadata": {
        "id": "zpVpLeNU4bq7"
      }
    },
    {
      "cell_type": "markdown",
      "source": [
        "Ma trận phân kỳ:"
      ],
      "metadata": {
        "id": "jdzjKhW84pZZ"
      }
    },
    {
      "cell_type": "code",
      "source": [
        "import numpy as np\n"
      ],
      "metadata": {
        "id": "_7x2FNwr4urp"
      },
      "execution_count": 57,
      "outputs": []
    },
    {
      "cell_type": "markdown",
      "source": [
        "**Tính ma trận A: **"
      ],
      "metadata": {
        "id": "NvytGs9f5BAw"
      }
    },
    {
      "cell_type": "code",
      "source": [
        "A = np.array([ [0,1], [1,0]]) \n",
        "print(A)"
      ],
      "metadata": {
        "colab": {
          "base_uri": "https://localhost:8080/"
        },
        "id": "sGJTC7kw4mqL",
        "outputId": "a14454e8-8857-4980-c8a1-de65828c16b5"
      },
      "execution_count": 60,
      "outputs": [
        {
          "output_type": "stream",
          "name": "stdout",
          "text": [
            "[[0 1]\n",
            " [1 0]]\n"
          ]
        }
      ]
    },
    {
      "cell_type": "code",
      "source": [
        "temp = A.dot(A) # tính toan lần thứ 1\n",
        "print(temp) "
      ],
      "metadata": {
        "colab": {
          "base_uri": "https://localhost:8080/"
        },
        "id": "bTaopKma40lI",
        "outputId": "e112e81d-8f8c-45f2-faeb-d8d25a438a26"
      },
      "execution_count": 61,
      "outputs": [
        {
          "output_type": "stream",
          "name": "stdout",
          "text": [
            "[[1 0]\n",
            " [0 1]]\n"
          ]
        }
      ]
    },
    {
      "cell_type": "code",
      "source": [
        "k= 6\n",
        "for i in range(k-1):\n",
        " temp = temp.dot(A)\n",
        " print (temp)\n",
        " print('---')"
      ],
      "metadata": {
        "colab": {
          "base_uri": "https://localhost:8080/"
        },
        "id": "MgiMwSon46p_",
        "outputId": "b836b76e-4923-496e-beb7-3f5c809c9884"
      },
      "execution_count": 62,
      "outputs": [
        {
          "output_type": "stream",
          "name": "stdout",
          "text": [
            "[[0 1]\n",
            " [1 0]]\n",
            "---\n",
            "[[1 0]\n",
            " [0 1]]\n",
            "---\n",
            "[[0 1]\n",
            " [1 0]]\n",
            "---\n",
            "[[1 0]\n",
            " [0 1]]\n",
            "---\n",
            "[[0 1]\n",
            " [1 0]]\n",
            "---\n"
          ]
        }
      ]
    },
    {
      "cell_type": "markdown",
      "source": [
        "*Tính ma trận B: *"
      ],
      "metadata": {
        "id": "gU38zS8F5aAK"
      }
    },
    {
      "cell_type": "code",
      "source": [
        "B = np.array([ [0,-1], [-1,0]])\n",
        "print(B)"
      ],
      "metadata": {
        "colab": {
          "base_uri": "https://localhost:8080/"
        },
        "id": "XoomouR95gbB",
        "outputId": "8b9970a9-eb4c-4b4b-a574-5757b361f19d"
      },
      "execution_count": 63,
      "outputs": [
        {
          "output_type": "stream",
          "name": "stdout",
          "text": [
            "[[ 0 -1]\n",
            " [-1  0]]\n"
          ]
        }
      ]
    },
    {
      "cell_type": "code",
      "source": [
        "temp = B.dot(B) # tính toan lần thứ 1\n",
        "print(temp)"
      ],
      "metadata": {
        "colab": {
          "base_uri": "https://localhost:8080/"
        },
        "id": "l1rLUhSX5vZf",
        "outputId": "01baaef7-2686-4dee-a398-2e999a2ef1d4"
      },
      "execution_count": 64,
      "outputs": [
        {
          "output_type": "stream",
          "name": "stdout",
          "text": [
            "[[1 0]\n",
            " [0 1]]\n"
          ]
        }
      ]
    },
    {
      "cell_type": "code",
      "source": [
        "k= 5\n",
        "for i in range(k-1):\n",
        " temp = temp.dot(B)\n",
        " print (temp)\n",
        " print('---')"
      ],
      "metadata": {
        "colab": {
          "base_uri": "https://localhost:8080/"
        },
        "id": "mGuEKxYQ5zuO",
        "outputId": "4b785e92-b76e-462e-d6a8-f563d41f2eef"
      },
      "execution_count": 65,
      "outputs": [
        {
          "output_type": "stream",
          "name": "stdout",
          "text": [
            "[[ 0 -1]\n",
            " [-1  0]]\n",
            "---\n",
            "[[1 0]\n",
            " [0 1]]\n",
            "---\n",
            "[[ 0 -1]\n",
            " [-1  0]]\n",
            "---\n",
            "[[1 0]\n",
            " [0 1]]\n",
            "---\n"
          ]
        }
      ]
    },
    {
      "cell_type": "markdown",
      "source": [
        "### Ma trận hội tụ - Convergent matrix: "
      ],
      "metadata": {
        "id": "0-W5Uieg55Xw"
      }
    },
    {
      "cell_type": "code",
      "source": [
        "C = np.array([ [1, 0, 0], [0, 0.5, 1], [0, 0, 0.5] ])\n",
        "print(C)"
      ],
      "metadata": {
        "colab": {
          "base_uri": "https://localhost:8080/"
        },
        "id": "dvaDaluN5-zo",
        "outputId": "a7a0f3ac-9b3f-4c61-8c5f-8e9a117fbcd8"
      },
      "execution_count": 66,
      "outputs": [
        {
          "output_type": "stream",
          "name": "stdout",
          "text": [
            "[[1.  0.  0. ]\n",
            " [0.  0.5 1. ]\n",
            " [0.  0.  0.5]]\n"
          ]
        }
      ]
    },
    {
      "cell_type": "code",
      "source": [
        "temp = C.dot(C) # tính toan lần thứ 1\n",
        "print(temp)"
      ],
      "metadata": {
        "colab": {
          "base_uri": "https://localhost:8080/"
        },
        "id": "gDtijqes6Hpf",
        "outputId": "4439b4e0-7b61-4211-bd6f-1bdcd1f152dd"
      },
      "execution_count": 67,
      "outputs": [
        {
          "output_type": "stream",
          "name": "stdout",
          "text": [
            "[[1.   0.   0.  ]\n",
            " [0.   0.25 1.  ]\n",
            " [0.   0.   0.25]]\n"
          ]
        }
      ]
    },
    {
      "cell_type": "code",
      "source": [
        "k= 1000\n",
        "for i in range(k-1):\n",
        " temp = temp.dot(C)\n",
        "print(temp) "
      ],
      "metadata": {
        "colab": {
          "base_uri": "https://localhost:8080/"
        },
        "id": "D9vUbOZo6Pzu",
        "outputId": "c01cee2e-2586-4298-f08d-a12995f44af3"
      },
      "execution_count": 68,
      "outputs": [
        {
          "output_type": "stream",
          "name": "stdout",
          "text": [
            "[[1.00000000e+000 0.00000000e+000 0.00000000e+000]\n",
            " [0.00000000e+000 4.66631809e-302 9.34196882e-299]\n",
            " [0.00000000e+000 0.00000000e+000 4.66631809e-302]]\n"
          ]
        }
      ]
    },
    {
      "cell_type": "code",
      "source": [
        "# Sau đó, thực hiện thêm 1 lần tích 1000 lần nữa:\n",
        "k= 1000\n",
        "for i in range(k-1):\n",
        " temp = temp.dot(C)\n",
        "print(temp) "
      ],
      "metadata": {
        "colab": {
          "base_uri": "https://localhost:8080/"
        },
        "id": "GKQHZbqA6UI3",
        "outputId": "240e2319-4f1d-4ce3-9b60-2b8815276fe8"
      },
      "execution_count": 69,
      "outputs": [
        {
          "output_type": "stream",
          "name": "stdout",
          "text": [
            "[[1. 0. 0.]\n",
            " [0. 0. 0.]\n",
            " [0. 0. 0.]]\n"
          ]
        }
      ]
    },
    {
      "cell_type": "markdown",
      "source": [
        "# ***2.4. Ma trận Markov ***"
      ],
      "metadata": {
        "id": "iNIEICLf6dqh"
      }
    },
    {
      "cell_type": "code",
      "source": [
        "M = np.array([ [0.8, 0.3], [0.2, 0.7]])\n",
        "MM = M.dot(M) # tính M2, nghĩa là M2\n",
        "print (MM)"
      ],
      "metadata": {
        "colab": {
          "base_uri": "https://localhost:8080/"
        },
        "id": "eMTZtez76n9w",
        "outputId": "b6b71c71-d966-4ed5-94ca-97c6b10433ff"
      },
      "execution_count": 70,
      "outputs": [
        {
          "output_type": "stream",
          "name": "stdout",
          "text": [
            "[[0.7  0.45]\n",
            " [0.3  0.55]]\n"
          ]
        }
      ]
    },
    {
      "cell_type": "code",
      "source": [
        "MM = M.dot(M) # tính M3\n",
        "print (MM)"
      ],
      "metadata": {
        "colab": {
          "base_uri": "https://localhost:8080/"
        },
        "id": "h7au9oq-6rX2",
        "outputId": "22e37e34-01b0-4bce-83f6-5cac7d770343"
      },
      "execution_count": 71,
      "outputs": [
        {
          "output_type": "stream",
          "name": "stdout",
          "text": [
            "[[0.7  0.45]\n",
            " [0.3  0.55]]\n"
          ]
        }
      ]
    },
    {
      "cell_type": "code",
      "source": [
        "for i in range(100): # tính các M^ khác.\n",
        " MM = MM.dot(M)\n",
        "print (MM) # kết luận xu hướng của jb"
      ],
      "metadata": {
        "colab": {
          "base_uri": "https://localhost:8080/"
        },
        "id": "kTkaMK7O6t2d",
        "outputId": "0e3ac4b0-40db-4b31-9f81-7fe72452eb3c"
      },
      "execution_count": 72,
      "outputs": [
        {
          "output_type": "stream",
          "name": "stdout",
          "text": [
            "[[0.6 0.6]\n",
            " [0.4 0.4]]\n"
          ]
        }
      ]
    },
    {
      "cell_type": "markdown",
      "source": [
        "# ***3.2. Phân rã ma trận LU ***"
      ],
      "metadata": {
        "id": "fI1S1LBw7A1G"
      }
    },
    {
      "cell_type": "code",
      "source": [
        "M = np.array([ [0.8, 0.3], [0.2, 0.7]])\n",
        "P, L, U = linalg.lu(M) # lệnh lina.lu sẽ tách ma trận M thành 3 ma trận P, L và U\n",
        "print (P)"
      ],
      "metadata": {
        "colab": {
          "base_uri": "https://localhost:8080/"
        },
        "id": "UTSDeQoV7EiY",
        "outputId": "bec836e2-e49e-47b0-d804-7fa1830475a6"
      },
      "execution_count": 73,
      "outputs": [
        {
          "output_type": "stream",
          "name": "stdout",
          "text": [
            "[[1. 0.]\n",
            " [0. 1.]]\n"
          ]
        }
      ]
    },
    {
      "cell_type": "code",
      "source": [
        "print (L)"
      ],
      "metadata": {
        "colab": {
          "base_uri": "https://localhost:8080/"
        },
        "id": "cDTJfmRS7LkV",
        "outputId": "49ad78af-3f36-4ab9-ff9f-fcbb159dd629"
      },
      "execution_count": 74,
      "outputs": [
        {
          "output_type": "stream",
          "name": "stdout",
          "text": [
            "[[1.   0.  ]\n",
            " [0.25 1.  ]]\n"
          ]
        }
      ]
    },
    {
      "cell_type": "code",
      "source": [
        "print (U)"
      ],
      "metadata": {
        "colab": {
          "base_uri": "https://localhost:8080/"
        },
        "id": "tWqS_YA37MUV",
        "outputId": "25d9b2cb-fd92-416b-ad6f-629203924c38"
      },
      "execution_count": 75,
      "outputs": [
        {
          "output_type": "stream",
          "name": "stdout",
          "text": [
            "[[0.8   0.3  ]\n",
            " [0.    0.625]]\n"
          ]
        }
      ]
    },
    {
      "cell_type": "code",
      "source": [
        "# Thử lại với phép nhân LU có bằng ma trận M ban đầu hay không:\n",
        "L.dot(U) "
      ],
      "metadata": {
        "colab": {
          "base_uri": "https://localhost:8080/"
        },
        "id": "4kWj0zL-7Pam",
        "outputId": "2acdd7e9-2ba0-4e72-d977-6c5c3cf7c6fb"
      },
      "execution_count": 76,
      "outputs": [
        {
          "output_type": "execute_result",
          "data": {
            "text/plain": [
              "array([[0.8, 0.3],\n",
              "       [0.2, 0.7]])"
            ]
          },
          "metadata": {},
          "execution_count": 76
        }
      ]
    },
    {
      "cell_type": "markdown",
      "source": [
        "# ***5. Bài toán ứng dụng 2 – Bài toán loan tin ***"
      ],
      "metadata": {
        "id": "D2LYnjUp7lj0"
      }
    },
    {
      "cell_type": "code",
      "source": [
        "# Tính toán ma trận bậc 3:\n",
        "A = np.array([ [0,1,0,1],[0,0,1,0],[1,0,0,1],[1,1,0,0]])\n",
        "temp = A.dot(A) # lúc này temp = A^2\n",
        "print(temp)"
      ],
      "metadata": {
        "colab": {
          "base_uri": "https://localhost:8080/"
        },
        "id": "54fVTpig7pTs",
        "outputId": "e3df1b86-dbcd-4aa9-b548-057a3559bf77"
      },
      "execution_count": 77,
      "outputs": [
        {
          "output_type": "stream",
          "name": "stdout",
          "text": [
            "[[1 1 1 0]\n",
            " [1 0 0 1]\n",
            " [1 2 0 1]\n",
            " [0 1 1 1]]\n"
          ]
        }
      ]
    },
    {
      "cell_type": "code",
      "source": [
        "temp = temp.dot(A) # lúc này temp = A^2\n",
        "print(temp) "
      ],
      "metadata": {
        "colab": {
          "base_uri": "https://localhost:8080/"
        },
        "id": "W-Cx9MZ574vd",
        "outputId": "2eab1733-192d-4c6d-e162-a94ac7d75409"
      },
      "execution_count": 78,
      "outputs": [
        {
          "output_type": "stream",
          "name": "stdout",
          "text": [
            "[[1 1 1 2]\n",
            " [1 2 0 1]\n",
            " [1 2 2 1]\n",
            " [2 1 1 1]]\n"
          ]
        }
      ]
    },
    {
      "cell_type": "code",
      "source": [
        "A = np.array([ [0,1,0,1],[0,0,1,0],[1,0,0,1],[1,1,0,0]])\n",
        "sumA = A\n",
        "temp = A.dot(A)\n",
        "k = 3\n",
        "sumA = sumA + temp\n",
        "for i in range(1, k-1):\n",
        " temp = temp.dot(A)\n",
        " sumA = sumA + temp"
      ],
      "metadata": {
        "id": "9L1rRYpC8Rbj"
      },
      "execution_count": 79,
      "outputs": []
    },
    {
      "cell_type": "code",
      "source": [
        "print (temp) "
      ],
      "metadata": {
        "colab": {
          "base_uri": "https://localhost:8080/"
        },
        "id": "6Ft6u_ZZ8X5F",
        "outputId": "28f65586-66e8-4076-f4d9-d19a48ac95df"
      },
      "execution_count": 80,
      "outputs": [
        {
          "output_type": "stream",
          "name": "stdout",
          "text": [
            "[[1 1 1 2]\n",
            " [1 2 0 1]\n",
            " [1 2 2 1]\n",
            " [2 1 1 1]]\n"
          ]
        }
      ]
    },
    {
      "cell_type": "code",
      "source": [
        "print (sumA)"
      ],
      "metadata": {
        "colab": {
          "base_uri": "https://localhost:8080/"
        },
        "id": "lscIlmP98afr",
        "outputId": "c4caf952-50df-46ee-ff5b-d17c22614c51"
      },
      "execution_count": 81,
      "outputs": [
        {
          "output_type": "stream",
          "name": "stdout",
          "text": [
            "[[2 3 2 3]\n",
            " [2 2 1 2]\n",
            " [3 4 2 3]\n",
            " [3 3 2 2]]\n"
          ]
        }
      ]
    }
  ]
}