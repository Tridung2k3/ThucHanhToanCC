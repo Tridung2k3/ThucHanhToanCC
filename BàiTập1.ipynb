{
  "nbformat": 4,
  "nbformat_minor": 0,
  "metadata": {
    "colab": {
      "name": "BàiTập1.ipynb",
      "provenance": [],
      "collapsed_sections": [],
      "authorship_tag": "ABX9TyOq+eXms8NGkPwB01K3W5wh",
      "include_colab_link": true
    },
    "kernelspec": {
      "name": "python3",
      "display_name": "Python 3"
    },
    "language_info": {
      "name": "python"
    }
  },
  "cells": [
    {
      "cell_type": "markdown",
      "metadata": {
        "id": "view-in-github",
        "colab_type": "text"
      },
      "source": [
        "<a href=\"https://colab.research.google.com/github/Tridung2k3/ThucHanhToanCC/blob/main/B%C3%A0iT%E1%BA%ADp1.ipynb\" target=\"_parent\"><img src=\"https://colab.research.google.com/assets/colab-badge.svg\" alt=\"Open In Colab\"/></a>"
      ]
    },
    {
      "cell_type": "code",
      "execution_count": null,
      "metadata": {
        "id": "j6__LuE7HPv8"
      },
      "outputs": [],
      "source": [
        ""
      ]
    },
    {
      "cell_type": "markdown",
      "source": [
        "\n",
        "\n",
        "\n",
        "Thực hành 1\n",
        "\n"
      ],
      "metadata": {
        "id": "-MgoABeuHTvN"
      }
    },
    {
      "cell_type": "code",
      "source": [
        "blocks = 10000\n",
        "dayS = [1/2**n for n in range (0, blocks)]\n",
        "tongS = sum(dayS)\n",
        "print(tongS)"
      ],
      "metadata": {
        "colab": {
          "base_uri": "https://localhost:8080/"
        },
        "id": "gapy3eFOHcNp",
        "outputId": "724109a8-236b-4c3d-be95-20e044888a80"
      },
      "execution_count": null,
      "outputs": [
        {
          "output_type": "stream",
          "name": "stdout",
          "text": [
            "2.0\n"
          ]
        }
      ]
    },
    {
      "cell_type": "markdown",
      "source": [
        "Thực hành 2 "
      ],
      "metadata": {
        "id": "ZdHzTGFnXatB"
      }
    },
    {
      "cell_type": "code",
      "source": [
        "n = 10000\n",
        "X =[2*k/n for k in range (0, n+1)]\n",
        "S = 0\n",
        "\n",
        "for k in range(1, n + 1):\n",
        "\n",
        "  S = S + X[k]**2 * (X[k] - X[k-1])\n",
        "\n",
        "print (S)"
      ],
      "metadata": {
        "colab": {
          "base_uri": "https://localhost:8080/"
        },
        "id": "iexacU0gHhVI",
        "outputId": "3532fa95-cfd6-4b7e-9c27-40d41eaab657"
      },
      "execution_count": null,
      "outputs": [
        {
          "output_type": "stream",
          "name": "stdout",
          "text": [
            "2.667066679999994\n"
          ]
        }
      ]
    },
    {
      "cell_type": "markdown",
      "source": [
        "  Thực hành 3"
      ],
      "metadata": {
        "id": "SY46YrH7ZYgf"
      }
    },
    {
      "cell_type": "code",
      "source": [
        "Rational(1,2) + 1"
      ],
      "metadata": {
        "colab": {
          "base_uri": "https://localhost:8080/",
          "height": 51
        },
        "id": "BzYKhzvIY_O9",
        "outputId": "7a1866ea-b369-4ff2-c1ac-1d5e49a2fb6d"
      },
      "execution_count": null,
      "outputs": [
        {
          "output_type": "execute_result",
          "data": {
            "text/latex": "$\\displaystyle \\frac{3}{2}$",
            "text/plain": [
              "3/2"
            ]
          },
          "metadata": {},
          "execution_count": 9
        }
      ]
    },
    {
      "cell_type": "code",
      "source": [
        "Rational(1,2) + Rational(1,3)"
      ],
      "metadata": {
        "colab": {
          "base_uri": "https://localhost:8080/",
          "height": 51
        },
        "id": "V5XXxpSFXzFj",
        "outputId": "e86e8cbb-0602-450c-dc0e-5fd8415a4416"
      },
      "execution_count": null,
      "outputs": [
        {
          "output_type": "execute_result",
          "data": {
            "text/latex": "$\\displaystyle \\frac{5}{6}$",
            "text/plain": [
              "5/6"
            ]
          },
          "metadata": {},
          "execution_count": 10
        }
      ]
    },
    {
      "cell_type": "code",
      "source": [
        "Rational(1,3) + 1 + 1.5"
      ],
      "metadata": {
        "colab": {
          "base_uri": "https://localhost:8080/",
          "height": 37
        },
        "id": "mTB7a6EsZMgp",
        "outputId": "183b7fc2-b352-42b9-dbc9-63532ce04642"
      },
      "execution_count": null,
      "outputs": [
        {
          "output_type": "execute_result",
          "data": {
            "text/latex": "$\\displaystyle 2.83333333333333$",
            "text/plain": [
              "2.83333333333333"
            ]
          },
          "metadata": {},
          "execution_count": 11
        }
      ]
    },
    {
      "cell_type": "markdown",
      "source": [
        "Thực hành 4"
      ],
      "metadata": {
        "id": "0YqFYrHoZvfJ"
      }
    },
    {
      "cell_type": "code",
      "source": [
        "from sympy import *\n",
        "x = Symbol('x')\n",
        "y = Symbol('y')\n",
        "a = x + y + x - y\n",
        "b = (x + y ) ** 2 \n",
        "print(a)\n",
        "print(b)"
      ],
      "metadata": {
        "colab": {
          "base_uri": "https://localhost:8080/"
        },
        "id": "qphDp1swZ0Aa",
        "outputId": "13a3dfad-ecac-4018-ffbe-c2be5643d36d"
      },
      "execution_count": null,
      "outputs": [
        {
          "output_type": "stream",
          "name": "stdout",
          "text": [
            "2*x\n",
            "(x + y)**2\n"
          ]
        }
      ]
    },
    {
      "cell_type": "markdown",
      "source": [
        "Thực hành 5a"
      ],
      "metadata": {
        "id": "NPmh5MUearwK"
      }
    },
    {
      "cell_type": "code",
      "source": [
        "from sympy.solvers.solvers import denoms\n",
        "from sympy import *\n",
        "x = Symbol('x') \n",
        "eq = (1/x)*1/(x-3)\n",
        "dd = denoms(eq)\n",
        "print(dd)"
      ],
      "metadata": {
        "colab": {
          "base_uri": "https://localhost:8080/"
        },
        "id": "J6vdxfQ7M04S",
        "outputId": "b5c821a0-56a0-4fa9-8599-bd38eea8c794"
      },
      "execution_count": null,
      "outputs": [
        {
          "output_type": "stream",
          "name": "stdout",
          "text": [
            "{x, x - 3}\n"
          ]
        }
      ]
    },
    {
      "cell_type": "markdown",
      "source": [
        "Thực hành 5b"
      ],
      "metadata": {
        "id": "3X8WGUfxaxYi"
      }
    },
    {
      "cell_type": "code",
      "source": [
        "pt = (1+1/x) / (x-1)\n",
        "from sympy.solvers.solvers import denoms\n",
        "loai_tru = set()\n",
        "for d in denoms(pt):\n",
        "  for s in solve(d):\n",
        "    loai_tru.add(s)\n",
        "print(loai_tru)"
      ],
      "metadata": {
        "colab": {
          "base_uri": "https://localhost:8080/"
        },
        "id": "jBMJBPUTPoxk",
        "outputId": "a69a71f6-5370-4b49-e8b2-34c0e1d2501a"
      },
      "execution_count": null,
      "outputs": [
        {
          "output_type": "stream",
          "name": "stdout",
          "text": [
            "{0, 1}\n"
          ]
        }
      ]
    },
    {
      "cell_type": "markdown",
      "source": [
        "Thực hành 6"
      ],
      "metadata": {
        "id": "iFANL28Ja2u5"
      }
    },
    {
      "cell_type": "code",
      "source": [
        "x = Symbol('x', positive = True)\n",
        "if ( x + 3) > 0:\n",
        "  print('Chắc chắn x + 3 dương!')\n",
        "else:\n",
        "  print('x + 3 chưa chắc là số dương!')"
      ],
      "metadata": {
        "colab": {
          "base_uri": "https://localhost:8080/"
        },
        "id": "1C1Bvu0ba6Qj",
        "outputId": "dca51bdc-9600-4699-d584-3704d257085d"
      },
      "execution_count": null,
      "outputs": [
        {
          "output_type": "stream",
          "name": "stdout",
          "text": [
            "Chắc chắn x + 3 dương!\n"
          ]
        }
      ]
    },
    {
      "cell_type": "markdown",
      "source": [
        "Thực hành 7"
      ],
      "metadata": {
        "id": "EeyfiEFycLee"
      }
    },
    {
      "cell_type": "code",
      "source": [
        "import sympy\n",
        "theta = Symbol('theta')\n",
        "import math\n",
        "(2*sympy.sin(theta)*sympy.cos(theta)).equals(sympy.sin(2*theta))"
      ],
      "metadata": {
        "colab": {
          "base_uri": "https://localhost:8080/"
        },
        "id": "XL3x0-Bnc6oY",
        "outputId": "bfad67b8-eaa4-4a32-b9ef-813a752e5cba"
      },
      "execution_count": null,
      "outputs": [
        {
          "output_type": "execute_result",
          "data": {
            "text/plain": [
              "True"
            ]
          },
          "metadata": {},
          "execution_count": 26
        }
      ]
    },
    {
      "cell_type": "markdown",
      "source": [
        "Thực hành 8"
      ],
      "metadata": {
        "id": "2pu4ErDfeooF"
      }
    },
    {
      "cell_type": "code",
      "source": [
        "from sympy import sin, solve, Symbol\n",
        "u = Symbol('u')\n",
        "t = Symbol('t')\n",
        "g = Symbol('g')\n",
        "theta = Symbol('theta')\n",
        "solve(u*sin(theta)- g*t, t)\n"
      ],
      "metadata": {
        "colab": {
          "base_uri": "https://localhost:8080/"
        },
        "id": "Acj5_7kRerB_",
        "outputId": "0f527bb8-754c-4ec8-e766-0cb425119eff"
      },
      "execution_count": null,
      "outputs": [
        {
          "output_type": "execute_result",
          "data": {
            "text/plain": [
              "[u*sin(theta)/g]"
            ]
          },
          "metadata": {},
          "execution_count": 30
        }
      ]
    },
    {
      "cell_type": "markdown",
      "source": [
        "Thực hành 9"
      ],
      "metadata": {
        "id": "PsD1WlVWgAhm"
      }
    },
    {
      "cell_type": "code",
      "source": [
        "from sympy import Limit, Symbol, S\n",
        "x = Symbol('x')\n",
        "Limit(1/x, x, S.Infinity)\n",
        "\n",
        "gioihan - Limit(1/x, x, S.Infinity)\n",
        "gioihan.doit()"
      ],
      "metadata": {
        "colab": {
          "base_uri": "https://localhost:8080/",
          "height": 212
        },
        "id": "wrerthSsgC7i",
        "outputId": "d17805ea-c464-4542-99df-45840898b65c"
      },
      "execution_count": null,
      "outputs": [
        {
          "output_type": "error",
          "ename": "NameError",
          "evalue": "ignored",
          "traceback": [
            "\u001b[0;31m---------------------------------------------------------------------------\u001b[0m",
            "\u001b[0;31mNameError\u001b[0m                                 Traceback (most recent call last)",
            "\u001b[0;32m<ipython-input-1-4bb0b8525fea>\u001b[0m in \u001b[0;36m<module>\u001b[0;34m()\u001b[0m\n\u001b[1;32m      3\u001b[0m \u001b[0mLimit\u001b[0m\u001b[0;34m(\u001b[0m\u001b[0;36m1\u001b[0m\u001b[0;34m/\u001b[0m\u001b[0mx\u001b[0m\u001b[0;34m,\u001b[0m \u001b[0mx\u001b[0m\u001b[0;34m,\u001b[0m \u001b[0mS\u001b[0m\u001b[0;34m.\u001b[0m\u001b[0mInfinity\u001b[0m\u001b[0;34m)\u001b[0m\u001b[0;34m\u001b[0m\u001b[0;34m\u001b[0m\u001b[0m\n\u001b[1;32m      4\u001b[0m \u001b[0;34m\u001b[0m\u001b[0m\n\u001b[0;32m----> 5\u001b[0;31m \u001b[0mgioihan\u001b[0m \u001b[0;34m-\u001b[0m \u001b[0mLimit\u001b[0m\u001b[0;34m(\u001b[0m\u001b[0;36m1\u001b[0m\u001b[0;34m/\u001b[0m\u001b[0mx\u001b[0m\u001b[0;34m,\u001b[0m \u001b[0mx\u001b[0m\u001b[0;34m,\u001b[0m \u001b[0mS\u001b[0m\u001b[0;34m.\u001b[0m\u001b[0mInfinity\u001b[0m\u001b[0;34m)\u001b[0m\u001b[0;34m\u001b[0m\u001b[0;34m\u001b[0m\u001b[0m\n\u001b[0m\u001b[1;32m      6\u001b[0m \u001b[0mgioihan\u001b[0m\u001b[0;34m.\u001b[0m\u001b[0mdoit\u001b[0m\u001b[0;34m(\u001b[0m\u001b[0;34m)\u001b[0m\u001b[0;34m\u001b[0m\u001b[0;34m\u001b[0m\u001b[0m\n",
            "\u001b[0;31mNameError\u001b[0m: name 'gioihan' is not defined"
          ]
        }
      ]
    },
    {
      "cell_type": "markdown",
      "source": [
        "Thực hành 10a"
      ],
      "metadata": {
        "id": "PoTPDLb2idc6"
      }
    },
    {
      "cell_type": "code",
      "source": [
        "from sympy import Limit\n",
        "a = Limit(1/x, x, 0, dir='-').doit()\n",
        "b = Limit(1/x, x, 0, dir='+').doit()\n",
        "print(a)\n",
        "print(b)"
      ],
      "metadata": {
        "colab": {
          "base_uri": "https://localhost:8080/"
        },
        "id": "JUliBgBBigDa",
        "outputId": "cbc7a13a-0bec-42ee-f167-d081604f907f"
      },
      "execution_count": null,
      "outputs": [
        {
          "output_type": "stream",
          "name": "stdout",
          "text": [
            "-oo\n",
            "oo\n"
          ]
        }
      ]
    },
    {
      "cell_type": "markdown",
      "source": [
        "Thực hành 10b"
      ],
      "metadata": {
        "id": "2Bc-AN2gjCoV"
      }
    },
    {
      "cell_type": "code",
      "source": [
        "from sympy import Symbol, sin\n",
        "Limit(sin(x)/x,x,0).doit()"
      ],
      "metadata": {
        "colab": {
          "base_uri": "https://localhost:8080/",
          "height": 37
        },
        "id": "jA4aGWibjIbN",
        "outputId": "26582eba-f85e-4683-ab24-b29d633cf8d0"
      },
      "execution_count": null,
      "outputs": [
        {
          "output_type": "execute_result",
          "data": {
            "text/latex": "$\\displaystyle 1$",
            "text/plain": [
              "1"
            ]
          },
          "metadata": {},
          "execution_count": 42
        }
      ]
    }
  ]
}