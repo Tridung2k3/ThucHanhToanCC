{
  "nbformat": 4,
  "nbformat_minor": 0,
  "metadata": {
    "colab": {
      "name": "TRR 15-6-22.ipynb",
      "provenance": [],
      "authorship_tag": "ABX9TyN6Ty2fZxExfbcGqAcvH7WO",
      "include_colab_link": true
    },
    "kernelspec": {
      "name": "python3",
      "display_name": "Python 3"
    },
    "language_info": {
      "name": "python"
    }
  },
  "cells": [
    {
      "cell_type": "markdown",
      "metadata": {
        "id": "view-in-github",
        "colab_type": "text"
      },
      "source": [
        "<a href=\"https://colab.research.google.com/github/Tridung2k3/ThucHanhToanCC/blob/main/TRR_15_6_22.ipynb\" target=\"_parent\"><img src=\"https://colab.research.google.com/assets/colab-badge.svg\" alt=\"Open In Colab\"/></a>"
      ]
    },
    {
      "cell_type": "markdown",
      "source": [
        "**BÀI 1**"
      ],
      "metadata": {
        "id": "MQA25Gr34nMY"
      }
    },
    {
      "cell_type": "code",
      "execution_count": 6,
      "metadata": {
        "id": "01B-ByPQ05Ga"
      },
      "outputs": [],
      "source": [
        "from datetime import datetime # Tham chiếu đến thư viện lấy ngày giờ hiện hành\n",
        "from datetime import timedelta # tham chiếu đến thư viện tính toán khoảng thời gian\n",
        "def millis(start_time): # start_time là tham số lưu trữ thời gian trước đó\n",
        " dt = datetime.now() - start_time # lấy hiệu 2 thời gian: thời gian hiện hành và trước đó\n",
        " ms = (dt.days * 24 * 60 * 60 + dt.seconds) * 1000 + dt.microseconds / 1000.0\n",
        " return ms # trả về là giá trị mili giây\n",
        "def milisec_passed(start_time):\n",
        " thoigian_troi_qua = millis(start_time)\n",
        " s = \"Thoi gian da troi qua:\" + str(int(thoigian_troi_qua)) + \" mili giay.\""
      ]
    },
    {
      "cell_type": "code",
      "source": [
        "def tong1(n):\n",
        " bat_dau = datetime.now() # Ghi nhận thời điểm bắt đầu\n",
        " ket_qua = n*(n+1)/2\n",
        " thoi_gian = str(milisec_passed(bat_dau)) # Tính toán thời gian trôi qua\n",
        " print(thoi_gian)\n",
        " return ket_qua \n",
        "tong1(100000000)"
      ],
      "metadata": {
        "colab": {
          "base_uri": "https://localhost:8080/"
        },
        "id": "ptQCMt0419ju",
        "outputId": "a96b2f32-4d59-441e-ad77-e9683f595f41"
      },
      "execution_count": 7,
      "outputs": [
        {
          "output_type": "stream",
          "name": "stdout",
          "text": [
            "None\n"
          ]
        },
        {
          "output_type": "execute_result",
          "data": {
            "text/plain": [
              "5000000050000000.0"
            ]
          },
          "metadata": {},
          "execution_count": 7
        }
      ]
    },
    {
      "cell_type": "code",
      "source": [
        "def tong(n):\n",
        " bat_dau = datetime.now() # Ghi nhận thời điểm bắt đầu\n",
        " ketqua = 0\n",
        " for i in range(n+1):\n",
        "  ketqua = ketqua + i\n",
        " thoi_gian = str(milisec_passed(bat_dau)) # Tính toán thời gian trôi qua\n",
        " print(thoi_gian)\n",
        " return ketqua\n",
        "tong(100000000)"
      ],
      "metadata": {
        "colab": {
          "base_uri": "https://localhost:8080/"
        },
        "id": "G5YY7g6V2C4p",
        "outputId": "7b03e779-5620-469b-afd6-6197b6cf4138"
      },
      "execution_count": 8,
      "outputs": [
        {
          "output_type": "stream",
          "name": "stdout",
          "text": [
            "None\n"
          ]
        },
        {
          "output_type": "execute_result",
          "data": {
            "text/plain": [
              "5000000050000000"
            ]
          },
          "metadata": {},
          "execution_count": 8
        }
      ]
    },
    {
      "cell_type": "markdown",
      "source": [
        "**BÀI 2**"
      ],
      "metadata": {
        "id": "l9jy70gk4gGv"
      }
    },
    {
      "cell_type": "code",
      "source": [
        "def fibo(n):\n",
        " if (n == 0) or (n == 1):\n",
        "  return 1\n",
        " else:\n",
        "  return fibo(n-1) + fibo(n-2)"
      ],
      "metadata": {
        "id": "ho2Xgo2X2HMD"
      },
      "execution_count": 9,
      "outputs": []
    },
    {
      "cell_type": "code",
      "source": [
        "def fibo_mem(n, so_da_tinh={0:0, 1:1}):\n",
        "  if(n not in so_da_tinh):\n",
        "    so_da_tinh[n]=fibo_mem(n-1,so_da_tinh)+fibo_mem(n-2, so_da_tinh)\n",
        "  return so_da_tinh[n]\n",
        "print(fibo_mem(6))"
      ],
      "metadata": {
        "colab": {
          "base_uri": "https://localhost:8080/"
        },
        "id": "NAYpTYuX2H-b",
        "outputId": "5f41be5b-252a-4c96-d938-6ee784a00cb7"
      },
      "execution_count": 10,
      "outputs": [
        {
          "output_type": "stream",
          "name": "stdout",
          "text": [
            "8\n"
          ]
        }
      ]
    },
    {
      "cell_type": "markdown",
      "source": [
        "**BÀI 3** (Chương 3)"
      ],
      "metadata": {
        "id": "ZK0cQvVN_6Qh"
      }
    },
    {
      "cell_type": "code",
      "source": [
        "bongda_VN = [\"Văn Lâm\", \"Tiến Dũng\", \"Anh Đức\", \"Công Phượng\"]\n",
        "for cau_thu in bongda_VN:\n",
        " print (\"Ten cau thu VietNam: \", cau_thu)"
      ],
      "metadata": {
        "colab": {
          "base_uri": "https://localhost:8080/"
        },
        "id": "3JR1wFKr4RJJ",
        "outputId": "90b56027-b84a-4eeb-f1f2-43aeeb54bdd0"
      },
      "execution_count": 11,
      "outputs": [
        {
          "output_type": "stream",
          "name": "stdout",
          "text": [
            "Ten cau thu VietNam:  Văn Lâm\n",
            "Ten cau thu VietNam:  Tiến Dũng\n",
            "Ten cau thu VietNam:  Anh Đức\n",
            "Ten cau thu VietNam:  Công Phượng\n"
          ]
        }
      ]
    },
    {
      "cell_type": "code",
      "source": [
        "bongda_TG = [\"Messi\", \"Ronaldo\", \"Thonglao\", \"Mbappé\"]\n",
        "for cau_thu in bongda_TG:\n",
        " print (\"Ten cau thu The gioi: \", cau_thu)"
      ],
      "metadata": {
        "colab": {
          "base_uri": "https://localhost:8080/"
        },
        "id": "AcSG8NQ4_zip",
        "outputId": "2c190e87-8374-4352-e543-6b6eb46bab4f"
      },
      "execution_count": 12,
      "outputs": [
        {
          "output_type": "stream",
          "name": "stdout",
          "text": [
            "Ten cau thu The gioi:  Messi\n",
            "Ten cau thu The gioi:  Ronaldo\n",
            "Ten cau thu The gioi:  Thonglao\n",
            "Ten cau thu The gioi:  Mbappé\n"
          ]
        }
      ]
    },
    {
      "cell_type": "code",
      "source": [
        "for bong_VN in bongda_VN:\n",
        " for bong_TG in bongda_TG: \n",
        "  print (\"Khả năng tranh chấp quả bóng vàng giữa: \", bong_VN, \" với \", bong_TG)"
      ],
      "metadata": {
        "colab": {
          "base_uri": "https://localhost:8080/"
        },
        "id": "10cdEGlW_1_p",
        "outputId": "c23fd23a-95af-48ef-fc3e-2065163333a2"
      },
      "execution_count": 13,
      "outputs": [
        {
          "output_type": "stream",
          "name": "stdout",
          "text": [
            "Khả năng tranh chấp quả bóng vàng giữa:  Văn Lâm  với  Messi\n",
            "Khả năng tranh chấp quả bóng vàng giữa:  Văn Lâm  với  Ronaldo\n",
            "Khả năng tranh chấp quả bóng vàng giữa:  Văn Lâm  với  Thonglao\n",
            "Khả năng tranh chấp quả bóng vàng giữa:  Văn Lâm  với  Mbappé\n",
            "Khả năng tranh chấp quả bóng vàng giữa:  Tiến Dũng  với  Messi\n",
            "Khả năng tranh chấp quả bóng vàng giữa:  Tiến Dũng  với  Ronaldo\n",
            "Khả năng tranh chấp quả bóng vàng giữa:  Tiến Dũng  với  Thonglao\n",
            "Khả năng tranh chấp quả bóng vàng giữa:  Tiến Dũng  với  Mbappé\n",
            "Khả năng tranh chấp quả bóng vàng giữa:  Anh Đức  với  Messi\n",
            "Khả năng tranh chấp quả bóng vàng giữa:  Anh Đức  với  Ronaldo\n",
            "Khả năng tranh chấp quả bóng vàng giữa:  Anh Đức  với  Thonglao\n",
            "Khả năng tranh chấp quả bóng vàng giữa:  Anh Đức  với  Mbappé\n",
            "Khả năng tranh chấp quả bóng vàng giữa:  Công Phượng  với  Messi\n",
            "Khả năng tranh chấp quả bóng vàng giữa:  Công Phượng  với  Ronaldo\n",
            "Khả năng tranh chấp quả bóng vàng giữa:  Công Phượng  với  Thonglao\n",
            "Khả năng tranh chấp quả bóng vàng giữa:  Công Phượng  với  Mbappé\n"
          ]
        }
      ]
    },
    {
      "cell_type": "code",
      "source": [
        "N = 4 #  giả định các số nguyên không vượt quá N là 4\n",
        "for i1 in range(0, N):\n",
        " for i2 in range(0, N):\n",
        "   for i3 in range(0, N):\n",
        "     print (i1, i2, i3)"
      ],
      "metadata": {
        "colab": {
          "base_uri": "https://localhost:8080/"
        },
        "id": "_vgKmJpqBwB4",
        "outputId": "83ced333-c090-457a-aebf-176bd229cd50"
      },
      "execution_count": 14,
      "outputs": [
        {
          "output_type": "stream",
          "name": "stdout",
          "text": [
            "0 0 0\n",
            "0 0 1\n",
            "0 0 2\n",
            "0 0 3\n",
            "0 1 0\n",
            "0 1 1\n",
            "0 1 2\n",
            "0 1 3\n",
            "0 2 0\n",
            "0 2 1\n",
            "0 2 2\n",
            "0 2 3\n",
            "0 3 0\n",
            "0 3 1\n",
            "0 3 2\n",
            "0 3 3\n",
            "1 0 0\n",
            "1 0 1\n",
            "1 0 2\n",
            "1 0 3\n",
            "1 1 0\n",
            "1 1 1\n",
            "1 1 2\n",
            "1 1 3\n",
            "1 2 0\n",
            "1 2 1\n",
            "1 2 2\n",
            "1 2 3\n",
            "1 3 0\n",
            "1 3 1\n",
            "1 3 2\n",
            "1 3 3\n",
            "2 0 0\n",
            "2 0 1\n",
            "2 0 2\n",
            "2 0 3\n",
            "2 1 0\n",
            "2 1 1\n",
            "2 1 2\n",
            "2 1 3\n",
            "2 2 0\n",
            "2 2 1\n",
            "2 2 2\n",
            "2 2 3\n",
            "2 3 0\n",
            "2 3 1\n",
            "2 3 2\n",
            "2 3 3\n",
            "3 0 0\n",
            "3 0 1\n",
            "3 0 2\n",
            "3 0 3\n",
            "3 1 0\n",
            "3 1 1\n",
            "3 1 2\n",
            "3 1 3\n",
            "3 2 0\n",
            "3 2 1\n",
            "3 2 2\n",
            "3 2 3\n",
            "3 3 0\n",
            "3 3 1\n",
            "3 3 2\n",
            "3 3 3\n"
          ]
        }
      ]
    },
    {
      "cell_type": "code",
      "source": [
        "for i1 in range(0, N):\n",
        " for i2 in range(i1+1, N):\n",
        "  for i3 in range(i2+1, N):\n",
        "    print (i1, i2, i3)"
      ],
      "metadata": {
        "colab": {
          "base_uri": "https://localhost:8080/"
        },
        "id": "x-kI1RlxCjBo",
        "outputId": "9529d464-1857-4635-c716-0edc8ffa8fc3"
      },
      "execution_count": 15,
      "outputs": [
        {
          "output_type": "stream",
          "name": "stdout",
          "text": [
            "0 1 2\n",
            "0 1 3\n",
            "0 2 3\n",
            "1 2 3\n"
          ]
        }
      ]
    },
    {
      "cell_type": "code",
      "source": [
        "for i1 in range(0, N):\n",
        " for i2 in range(i1, N):\n",
        "  for i3 in range(i2, N):\n",
        "    print (i1, i2, i3)"
      ],
      "metadata": {
        "colab": {
          "base_uri": "https://localhost:8080/"
        },
        "id": "pHeDXvsqHXwk",
        "outputId": "6cab4704-e915-459f-c0a3-48431985ff25"
      },
      "execution_count": 16,
      "outputs": [
        {
          "output_type": "stream",
          "name": "stdout",
          "text": [
            "0 0 0\n",
            "0 0 1\n",
            "0 0 2\n",
            "0 0 3\n",
            "0 1 1\n",
            "0 1 2\n",
            "0 1 3\n",
            "0 2 2\n",
            "0 2 3\n",
            "0 3 3\n",
            "1 1 1\n",
            "1 1 2\n",
            "1 1 3\n",
            "1 2 2\n",
            "1 2 3\n",
            "1 3 3\n",
            "2 2 2\n",
            "2 2 3\n",
            "2 3 3\n",
            "3 3 3\n"
          ]
        }
      ]
    },
    {
      "cell_type": "code",
      "source": [
        "def implies(a, b):\n",
        " if a:\n",
        "  return b\n",
        " else:\n",
        "  return True\n",
        "print(implies(10, 11))\n",
        "print(implies(1, 11))\n",
        "print(implies(0, 11))"
      ],
      "metadata": {
        "colab": {
          "base_uri": "https://localhost:8080/"
        },
        "id": "gnls5LFzHhzL",
        "outputId": "f3987c9a-aece-4cb3-f85b-c08903206a62"
      },
      "execution_count": 18,
      "outputs": [
        {
          "output_type": "stream",
          "name": "stdout",
          "text": [
            "11\n",
            "11\n",
            "True\n"
          ]
        }
      ]
    },
    {
      "cell_type": "code",
      "source": [
        "ketqua = []\n",
        "for i1 in range(0, N):\n",
        " for i2 in range(i1, N):\n",
        "  for i3 in range(i2, N):\n",
        "   ketqua = ketqua + [(i1, i2, i3)]"
      ],
      "metadata": {
        "id": "meF_rB8kIlwj"
      },
      "execution_count": 19,
      "outputs": []
    },
    {
      "cell_type": "code",
      "source": [
        "(0, 2, 2) in ketqua"
      ],
      "metadata": {
        "colab": {
          "base_uri": "https://localhost:8080/"
        },
        "id": "1hz6wfGAIn6L",
        "outputId": "de27b35c-edf3-4761-be9e-a82a2e5e6dc9"
      },
      "execution_count": 20,
      "outputs": [
        {
          "output_type": "execute_result",
          "data": {
            "text/plain": [
              "True"
            ]
          },
          "metadata": {},
          "execution_count": 20
        }
      ]
    },
    {
      "cell_type": "code",
      "source": [
        "(0, 2, 1) in ketqua"
      ],
      "metadata": {
        "colab": {
          "base_uri": "https://localhost:8080/"
        },
        "id": "rTo07LKbIogq",
        "outputId": "368102ef-8df1-4abc-ab7f-808c82023c2a"
      },
      "execution_count": 21,
      "outputs": [
        {
          "output_type": "execute_result",
          "data": {
            "text/plain": [
              "False"
            ]
          },
          "metadata": {},
          "execution_count": 21
        }
      ]
    },
    {
      "cell_type": "code",
      "source": [
        "A = [0, 1, 2, 3, 4, 5, 6, 7]\n",
        "B = [2, 4, 6, 8, 10]\n",
        "def intersection(A, B):\n",
        " ketqua = []\n",
        " for x in A:\n",
        "  if x in B:\n",
        "   ketqua = ketqua + [x]\n",
        " return ketqua \n",
        "intersection(A, B)\n",
        "a= set(A)\n",
        "b= set(B)\n",
        "print(print(a.intersection(b)))"
      ],
      "metadata": {
        "colab": {
          "base_uri": "https://localhost:8080/"
        },
        "id": "IBZVPcKsLDAw",
        "outputId": "d98e9810-cc5b-4f30-c7ad-33d6d313c8ac"
      },
      "execution_count": 22,
      "outputs": [
        {
          "output_type": "stream",
          "name": "stdout",
          "text": [
            "{2, 4, 6}\n",
            "None\n"
          ]
        }
      ]
    }
  ]
}