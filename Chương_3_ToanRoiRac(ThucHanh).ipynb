{
  "nbformat": 4,
  "nbformat_minor": 0,
  "metadata": {
    "colab": {
      "name": "Chương 3-ToanRoiRac(ThucHanh).ipynb",
      "provenance": [],
      "authorship_tag": "ABX9TyMekTpyuUBN9Blx9eXdeaSr",
      "include_colab_link": true
    },
    "kernelspec": {
      "name": "python3",
      "display_name": "Python 3"
    },
    "language_info": {
      "name": "python"
    }
  },
  "cells": [
    {
      "cell_type": "markdown",
      "metadata": {
        "id": "view-in-github",
        "colab_type": "text"
      },
      "source": [
        "<a href=\"https://colab.research.google.com/github/Tridung2k3/ThucHanhToanCC/blob/main/Ch%C6%B0%C6%A1ng_3_ToanRoiRac(ThucHanh).ipynb\" target=\"_parent\"><img src=\"https://colab.research.google.com/assets/colab-badge.svg\" alt=\"Open In Colab\"/></a>"
      ]
    },
    {
      "cell_type": "code",
      "source": [
        "sodiem_DL = 9"
      ],
      "metadata": {
        "id": "IvMy4v-L7DSm"
      },
      "execution_count": 38,
      "outputs": []
    },
    {
      "cell_type": "code",
      "source": [
        "diadiem = ['Cần Giờ', 'Củ Chi', 'Chợ Bến Thành', 'Sở Thú', 'BV thẫm mỹ răng', 'Chí Hòa',\n",
        "'Dinh Độc lập', 'Bào tàng', 'Trường Văn Lang'] "
      ],
      "metadata": {
        "id": "QARdGeZy7HI-"
      },
      "execution_count": 39,
      "outputs": []
    },
    {
      "cell_type": "code",
      "source": [
        "thoigian = [1.0, 1.0, 0.6, 0.4, 1.5, 0.3, 0.3, 0.3, 0.6] "
      ],
      "metadata": {
        "id": "1XcEKF5E7I88"
      },
      "execution_count": 40,
      "outputs": []
    },
    {
      "cell_type": "code",
      "source": [
        "songay_dulich = 1.5 # Nghĩa là đoàn du lịch chỉ đi tham quan 1.5 ngày"
      ],
      "metadata": {
        "id": "wv57iSb97Ko8"
      },
      "execution_count": 41,
      "outputs": []
    },
    {
      "cell_type": "code",
      "execution_count": 42,
      "metadata": {
        "id": "92395scc0X40"
      },
      "outputs": [],
      "source": [
        "def lietke(n):\n",
        "  danhsach = []\n",
        "  #Bắt đầu = 1\n",
        "  for i in range (0,2**n): #Chạy đến 2^n-1\n",
        "    giatri = i\n",
        "    chuoinp = bin(giatri).replace('0b', '')\n",
        "    while(len(chuoinp) < n):\n",
        "        chuoinp = '0' + chuoinp\n",
        "    danhsach.append(chuoinp) #Thêm chuỗi vào kết quả\n",
        "    #print(chuoinp)\n",
        "  return danhsach"
      ]
    },
    {
      "cell_type": "code",
      "source": [
        "bin(10)"
      ],
      "metadata": {
        "colab": {
          "base_uri": "https://localhost:8080/",
          "height": 35
        },
        "id": "j8S-KtsZ1-tE",
        "outputId": "4805b8cc-07eb-42f0-f08d-c0b2485264ef"
      },
      "execution_count": 43,
      "outputs": [
        {
          "output_type": "execute_result",
          "data": {
            "text/plain": [
              "'0b1010'"
            ],
            "application/vnd.google.colaboratory.intrinsic+json": {
              "type": "string"
            }
          },
          "metadata": {},
          "execution_count": 43
        }
      ]
    },
    {
      "cell_type": "code",
      "source": [
        "bin(10).replace('0b', '') "
      ],
      "metadata": {
        "colab": {
          "base_uri": "https://localhost:8080/",
          "height": 35
        },
        "id": "gq8EGiC42z9S",
        "outputId": "c642656b-ca01-4050-d97d-24211b40dd6f"
      },
      "execution_count": 44,
      "outputs": [
        {
          "output_type": "execute_result",
          "data": {
            "text/plain": [
              "'1010'"
            ],
            "application/vnd.google.colaboratory.intrinsic+json": {
              "type": "string"
            }
          },
          "metadata": {},
          "execution_count": 44
        }
      ]
    },
    {
      "cell_type": "code",
      "source": [
        "n = 9\n",
        "chuoinp = bin(10).replace('0b','')\n",
        "while(len(chuoinp) < n ):\n",
        "  chuoinp = '0' + chuoinp\n",
        "chuoinp"
      ],
      "metadata": {
        "colab": {
          "base_uri": "https://localhost:8080/",
          "height": 35
        },
        "id": "GP9tk5D926Wi",
        "outputId": "73cb2eaa-9332-4024-be33-5c59abdd11ee"
      },
      "execution_count": 45,
      "outputs": [
        {
          "output_type": "execute_result",
          "data": {
            "text/plain": [
              "'000001010'"
            ],
            "application/vnd.google.colaboratory.intrinsic+json": {
              "type": "string"
            }
          },
          "metadata": {},
          "execution_count": 45
        }
      ]
    },
    {
      "cell_type": "code",
      "source": [
        "lietke(3) "
      ],
      "metadata": {
        "colab": {
          "base_uri": "https://localhost:8080/"
        },
        "id": "e9HUEVBf3QXo",
        "outputId": "fb3067b3-a783-46da-b587-fbb8901a1a1c"
      },
      "execution_count": 46,
      "outputs": [
        {
          "output_type": "execute_result",
          "data": {
            "text/plain": [
              "['000', '001', '010', '011', '100', '101', '110', '111']"
            ]
          },
          "metadata": {},
          "execution_count": 46
        }
      ]
    },
    {
      "cell_type": "code",
      "source": [
        "lietke(4)"
      ],
      "metadata": {
        "colab": {
          "base_uri": "https://localhost:8080/"
        },
        "id": "W5J47L1q31jy",
        "outputId": "a94e4e49-97fb-42c0-9b3d-46695c0cdd5c"
      },
      "execution_count": 47,
      "outputs": [
        {
          "output_type": "execute_result",
          "data": {
            "text/plain": [
              "['0000',\n",
              " '0001',\n",
              " '0010',\n",
              " '0011',\n",
              " '0100',\n",
              " '0101',\n",
              " '0110',\n",
              " '0111',\n",
              " '1000',\n",
              " '1001',\n",
              " '1010',\n",
              " '1011',\n",
              " '1100',\n",
              " '1101',\n",
              " '1110',\n",
              " '1111']"
            ]
          },
          "metadata": {},
          "execution_count": 47
        }
      ]
    },
    {
      "cell_type": "code",
      "source": [
        "def kiemtra_chuoi(chuoi_dang_chon, danhsach, gioihan):\n",
        "  tong_thoigian = 0\n",
        "  for j in range (0, len(chuoi_dang_chon)):\n",
        "    if chuoi_dang_chon[j] == '1':\n",
        "      tong_thoigian = tong_thoigian + thoigian[j]\n",
        "  ketqua = True #Nghĩa là ok\n",
        "  if tong_thoigian > gioihan:\n",
        "    ketqua = False #Không được\n",
        "  return ketqua, tong_thoigian"
      ],
      "metadata": {
        "id": "EZ561o9L4Pil"
      },
      "execution_count": 48,
      "outputs": []
    },
    {
      "cell_type": "code",
      "source": [
        "def tim_phuongan(thoigian, gioihan):\n",
        "  search = [] #Sử dụng để trả về\n",
        "  cac_phuongan = lietke(len(thoigian))\n",
        "  for i in range (len(cac_phuongan)):\n",
        "    dc_kg, diem = kiemtra_chuoi(cac_phuongan[i], thoigian, gioihan)\n",
        "    #print cac_phuongan[i], dc_kg, diem\n",
        "    if dc_kg == True: #Chỉ xét các phương án đặt\n",
        "      print(cac_phuongan[i], dc_kg, diem)\n",
        "      search.append(cac_phuongan[i])\n",
        "  return search\n"
      ],
      "metadata": {
        "id": "Nq3fIckj57OX"
      },
      "execution_count": 49,
      "outputs": []
    },
    {
      "cell_type": "code",
      "source": [
        "songay_dulich = 1.5 "
      ],
      "metadata": {
        "id": "eTtDlJJy7s2E"
      },
      "execution_count": 50,
      "outputs": []
    },
    {
      "cell_type": "code",
      "source": [
        "tim_phuongan(thoigian, songay_dulich)"
      ],
      "metadata": {
        "colab": {
          "base_uri": "https://localhost:8080/"
        },
        "id": "-yLN1zbU7w4g",
        "outputId": "947714ab-f75e-4568-bcf9-7ae0762de83e"
      },
      "execution_count": 51,
      "outputs": [
        {
          "output_type": "stream",
          "name": "stdout",
          "text": [
            "000000000 True 0\n",
            "000000001 True 0.6\n",
            "000000010 True 0.3\n",
            "000000011 True 0.8999999999999999\n",
            "000000100 True 0.3\n",
            "000000101 True 0.8999999999999999\n",
            "000000110 True 0.6\n",
            "000000111 True 1.2\n",
            "000001000 True 0.3\n",
            "000001001 True 0.8999999999999999\n",
            "000001010 True 0.6\n",
            "000001011 True 1.2\n",
            "000001100 True 0.6\n",
            "000001101 True 1.2\n",
            "000001110 True 0.8999999999999999\n",
            "000001111 True 1.5\n",
            "000010000 True 1.5\n",
            "000100000 True 0.4\n",
            "000100001 True 1.0\n",
            "000100010 True 0.7\n",
            "000100011 True 1.2999999999999998\n",
            "000100100 True 0.7\n",
            "000100101 True 1.2999999999999998\n",
            "000100110 True 1.0\n",
            "000101000 True 0.7\n",
            "000101001 True 1.2999999999999998\n",
            "000101010 True 1.0\n",
            "000101100 True 1.0\n",
            "000101110 True 1.3\n",
            "001000000 True 0.6\n",
            "001000001 True 1.2\n",
            "001000010 True 0.8999999999999999\n",
            "001000011 True 1.5\n",
            "001000100 True 0.8999999999999999\n",
            "001000101 True 1.5\n",
            "001000110 True 1.2\n",
            "001001000 True 0.8999999999999999\n",
            "001001001 True 1.5\n",
            "001001010 True 1.2\n",
            "001001100 True 1.2\n",
            "001001110 True 1.5\n",
            "001100000 True 1.0\n",
            "001100010 True 1.3\n",
            "001100100 True 1.3\n",
            "001101000 True 1.3\n",
            "010000000 True 1.0\n",
            "010000010 True 1.3\n",
            "010000100 True 1.3\n",
            "010001000 True 1.3\n",
            "010100000 True 1.4\n",
            "100000000 True 1.0\n",
            "100000010 True 1.3\n",
            "100000100 True 1.3\n",
            "100001000 True 1.3\n",
            "100100000 True 1.4\n"
          ]
        },
        {
          "output_type": "execute_result",
          "data": {
            "text/plain": [
              "['000000000',\n",
              " '000000001',\n",
              " '000000010',\n",
              " '000000011',\n",
              " '000000100',\n",
              " '000000101',\n",
              " '000000110',\n",
              " '000000111',\n",
              " '000001000',\n",
              " '000001001',\n",
              " '000001010',\n",
              " '000001011',\n",
              " '000001100',\n",
              " '000001101',\n",
              " '000001110',\n",
              " '000001111',\n",
              " '000010000',\n",
              " '000100000',\n",
              " '000100001',\n",
              " '000100010',\n",
              " '000100011',\n",
              " '000100100',\n",
              " '000100101',\n",
              " '000100110',\n",
              " '000101000',\n",
              " '000101001',\n",
              " '000101010',\n",
              " '000101100',\n",
              " '000101110',\n",
              " '001000000',\n",
              " '001000001',\n",
              " '001000010',\n",
              " '001000011',\n",
              " '001000100',\n",
              " '001000101',\n",
              " '001000110',\n",
              " '001001000',\n",
              " '001001001',\n",
              " '001001010',\n",
              " '001001100',\n",
              " '001001110',\n",
              " '001100000',\n",
              " '001100010',\n",
              " '001100100',\n",
              " '001101000',\n",
              " '010000000',\n",
              " '010000010',\n",
              " '010000100',\n",
              " '010001000',\n",
              " '010100000',\n",
              " '100000000',\n",
              " '100000010',\n",
              " '100000100',\n",
              " '100001000',\n",
              " '100100000']"
            ]
          },
          "metadata": {},
          "execution_count": 51
        }
      ]
    }
  ]
}