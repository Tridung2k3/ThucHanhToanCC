{
  "nbformat": 4,
  "nbformat_minor": 0,
  "metadata": {
    "colab": {
      "name": "Thi Cuối Học Phần-2174802010322.ipynb",
      "provenance": [],
      "authorship_tag": "ABX9TyM50fZ4jWi5xkF0ikl8GiRa",
      "include_colab_link": true
    },
    "kernelspec": {
      "name": "python3",
      "display_name": "Python 3"
    },
    "language_info": {
      "name": "python"
    }
  },
  "cells": [
    {
      "cell_type": "markdown",
      "metadata": {
        "id": "view-in-github",
        "colab_type": "text"
      },
      "source": [
        "<a href=\"https://colab.research.google.com/github/Tridung2k3/ThucHanhToanCC/blob/main/Thi_Cu%E1%BB%91i_H%E1%BB%8Dc_Ph%E1%BA%A7n_2174802010322.ipynb\" target=\"_parent\"><img src=\"https://colab.research.google.com/assets/colab-badge.svg\" alt=\"Open In Colab\"/></a>"
      ]
    },
    {
      "cell_type": "markdown",
      "source": [
        "**Tính giới hạn**"
      ],
      "metadata": {
        "id": "HJsQJM2GpORz"
      }
    },
    {
      "cell_type": "code",
      "execution_count": 11,
      "metadata": {
        "colab": {
          "base_uri": "https://localhost:8080/",
          "height": 68
        },
        "id": "DvugBGShons_",
        "outputId": "083b4209-d1d6-4417-b0cd-ee62acc5e319"
      },
      "outputs": [
        {
          "output_type": "execute_result",
          "data": {
            "text/plain": [
              "Limit(sqrt(x**2 - x + 1)/(x - 1), x, 2)"
            ],
            "text/latex": "$\\displaystyle \\lim_{x \\to 2^+}\\left(\\frac{\\sqrt{x^{2} - x + 1}}{x - 1}\\right)$"
          },
          "metadata": {},
          "execution_count": 11
        }
      ],
      "source": [
        "# Bài 1\n",
        "from sympy import Limit,Symbol\n",
        "import math \n",
        "x= Symbol('x')\n",
        "S = Limit(sqrt(x**2-x+1)/(x-1),x,2)\n",
        "S"
      ]
    },
    {
      "cell_type": "code",
      "source": [
        "S.doit()"
      ],
      "metadata": {
        "colab": {
          "base_uri": "https://localhost:8080/",
          "height": 38
        },
        "id": "t9gYEdd5uC_q",
        "outputId": "b97f8a77-0c97-4b59-d8fa-28c6de895e9b"
      },
      "execution_count": 13,
      "outputs": [
        {
          "output_type": "execute_result",
          "data": {
            "text/plain": [
              "sqrt(3)"
            ],
            "text/latex": "$\\displaystyle \\sqrt{3}$"
          },
          "metadata": {},
          "execution_count": 13
        }
      ]
    },
    {
      "cell_type": "code",
      "source": [
        "# Bài 2\n"
      ],
      "metadata": {
        "id": "8SD_Xwj9ulEH"
      },
      "execution_count": 16,
      "outputs": []
    },
    {
      "cell_type": "code",
      "execution_count": 28,
      "metadata": {
        "colab": {
          "base_uri": "https://localhost:8080/",
          "height": 58
        },
        "outputId": "a2d00094-0213-4ba8-eef3-20ed87d96aeb",
        "id": "HHGN-9yJuq6k"
      },
      "outputs": [
        {
          "output_type": "execute_result",
          "data": {
            "text/plain": [
              "Limit((x**3 + x**2 + x + 1)/(x + 1), x, 0)"
            ],
            "text/latex": "$\\displaystyle \\lim_{x \\to 0^+}\\left(\\frac{x^{3} + x^{2} + x + 1}{x + 1}\\right)$"
          },
          "metadata": {},
          "execution_count": 28
        }
      ],
      "source": [
        "# Bài 1\n",
        "from sympy import Limit,Symbol, S \n",
        "x= Symbol('x')\n",
        "Q = Limit((x**3 + x**2 + x + 1) / (1+x), x, 0, dir='+')\n",
        "Q"
      ]
    },
    {
      "cell_type": "code",
      "source": [
        "Q.doit()"
      ],
      "metadata": {
        "colab": {
          "base_uri": "https://localhost:8080/",
          "height": 38
        },
        "id": "gOD1MD08vWHh",
        "outputId": "90a12808-2236-43d6-90f3-710ef7f6fbf3"
      },
      "execution_count": 19,
      "outputs": [
        {
          "output_type": "execute_result",
          "data": {
            "text/plain": [
              "oo"
            ],
            "text/latex": "$\\displaystyle \\infty$"
          },
          "metadata": {},
          "execution_count": 19
        }
      ]
    },
    {
      "cell_type": "markdown",
      "source": [
        "Tính đạo hàm\n"
      ],
      "metadata": {
        "id": "6czZ82LVwz-z"
      }
    },
    {
      "cell_type": "code",
      "source": [
        "from sympy import Derivative, Symbol\n",
        "x = Symbol('x')\n",
        "f = (x**2+3*x-1)/(x+1)\n",
        "Derivative(f,x).doit()\n"
      ],
      "metadata": {
        "colab": {
          "base_uri": "https://localhost:8080/",
          "height": 61
        },
        "id": "f1WrlXDrw2hC",
        "outputId": "99597c5e-a702-4e48-b593-77ef952579d3"
      },
      "execution_count": 20,
      "outputs": [
        {
          "output_type": "execute_result",
          "data": {
            "text/plain": [
              "(2*x + 3)/(x + 1) - (x**2 + 3*x - 1)/(x + 1)**2"
            ],
            "text/latex": "$\\displaystyle \\frac{2 x + 3}{x + 1} - \\frac{x^{2} + 3 x - 1}{\\left(x + 1\\right)^{2}}$"
          },
          "metadata": {},
          "execution_count": 20
        }
      ]
    },
    {
      "cell_type": "code",
      "source": [
        "from sympy import Derivative, Symbol\n",
        "x = Symbol('x')\n",
        "f = (x**2 + 3*x +3) / (x+1)\n",
        "Derivative(f,x).doit()"
      ],
      "metadata": {
        "colab": {
          "base_uri": "https://localhost:8080/",
          "height": 61
        },
        "id": "CEq6AYN8w7wQ",
        "outputId": "63ebf338-b530-4759-9fb1-4030a400398c"
      },
      "execution_count": 21,
      "outputs": [
        {
          "output_type": "execute_result",
          "data": {
            "text/plain": [
              "(2*x + 3)/(x + 1) - (x**2 + 3*x + 3)/(x + 1)**2"
            ],
            "text/latex": "$\\displaystyle \\frac{2 x + 3}{x + 1} - \\frac{x^{2} + 3 x + 3}{\\left(x + 1\\right)^{2}}$"
          },
          "metadata": {},
          "execution_count": 21
        }
      ]
    }
  ]
}