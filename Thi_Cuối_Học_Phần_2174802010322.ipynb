{
  "nbformat": 4,
  "nbformat_minor": 0,
  "metadata": {
    "colab": {
      "name": "Thi Cuối Học Phần-2174802010322.ipynb",
      "provenance": [],
      "authorship_tag": "ABX9TyO1bm742Qqx1iKuQsVI5P7E",
      "include_colab_link": true
    },
    "kernelspec": {
      "name": "python3",
      "display_name": "Python 3"
    },
    "language_info": {
      "name": "python"
    }
  },
  "cells": [
    {
      "cell_type": "markdown",
      "metadata": {
        "id": "view-in-github",
        "colab_type": "text"
      },
      "source": [
        "<a href=\"https://colab.research.google.com/github/Tridung2k3/ThucHanhToanCC/blob/main/Thi_Cu%E1%BB%91i_H%E1%BB%8Dc_Ph%E1%BA%A7n_2174802010322.ipynb\" target=\"_parent\"><img src=\"https://colab.research.google.com/assets/colab-badge.svg\" alt=\"Open In Colab\"/></a>"
      ]
    },
    {
      "cell_type": "markdown",
      "source": [
        "**Tính giới hạn**"
      ],
      "metadata": {
        "id": "HJsQJM2GpORz"
      }
    },
    {
      "cell_type": "code",
      "execution_count": 11,
      "metadata": {
        "colab": {
          "base_uri": "https://localhost:8080/",
          "height": 68
        },
        "id": "DvugBGShons_",
        "outputId": "083b4209-d1d6-4417-b0cd-ee62acc5e319"
      },
      "outputs": [
        {
          "output_type": "execute_result",
          "data": {
            "text/plain": [
              "Limit(sqrt(x**2 - x + 1)/(x - 1), x, 2)"
            ],
            "text/latex": "$\\displaystyle \\lim_{x \\to 2^+}\\left(\\frac{\\sqrt{x^{2} - x + 1}}{x - 1}\\right)$"
          },
          "metadata": {},
          "execution_count": 11
        }
      ],
      "source": [
        "# Bài 1\n",
        "from sympy import Limit,Symbol\n",
        "import math \n",
        "x= Symbol('x')\n",
        "S = Limit(sqrt(x**2-x+1)/(x-1),x,2)\n",
        "S"
      ]
    },
    {
      "cell_type": "code",
      "source": [
        "S.doit()"
      ],
      "metadata": {
        "colab": {
          "base_uri": "https://localhost:8080/",
          "height": 38
        },
        "id": "t9gYEdd5uC_q",
        "outputId": "b97f8a77-0c97-4b59-d8fa-28c6de895e9b"
      },
      "execution_count": 13,
      "outputs": [
        {
          "output_type": "execute_result",
          "data": {
            "text/plain": [
              "sqrt(3)"
            ],
            "text/latex": "$\\displaystyle \\sqrt{3}$"
          },
          "metadata": {},
          "execution_count": 13
        }
      ]
    },
    {
      "cell_type": "code",
      "source": [
        "# Bài 2\n"
      ],
      "metadata": {
        "id": "8SD_Xwj9ulEH"
      },
      "execution_count": 16,
      "outputs": []
    },
    {
      "cell_type": "code",
      "execution_count": 18,
      "metadata": {
        "colab": {
          "base_uri": "https://localhost:8080/",
          "height": 58
        },
        "outputId": "cf357cdd-f211-4b2e-becf-b3606a9bc0b2",
        "id": "HHGN-9yJuq6k"
      },
      "outputs": [
        {
          "output_type": "execute_result",
          "data": {
            "text/plain": [
              "Limit((x**3 + x**2 + x + 1)/(x + 1), x, oo, dir='-')"
            ],
            "text/latex": "$\\displaystyle \\lim_{x \\to \\infty}\\left(\\frac{x^{3} + x^{2} + x + 1}{x + 1}\\right)$"
          },
          "metadata": {},
          "execution_count": 18
        }
      ],
      "source": [
        "# Bài 1\n",
        "from sympy import Limit,Symbol \n",
        "x= Symbol('x')\n",
        "Q = Limit((x**3 + x**2 + x + 1) / (1+x), x, oo)\n",
        "Q"
      ]
    },
    {
      "cell_type": "code",
      "source": [
        "Q.doit()"
      ],
      "metadata": {
        "colab": {
          "base_uri": "https://localhost:8080/",
          "height": 38
        },
        "id": "gOD1MD08vWHh",
        "outputId": "90a12808-2236-43d6-90f3-710ef7f6fbf3"
      },
      "execution_count": 19,
      "outputs": [
        {
          "output_type": "execute_result",
          "data": {
            "text/plain": [
              "oo"
            ],
            "text/latex": "$\\displaystyle \\infty$"
          },
          "metadata": {},
          "execution_count": 19
        }
      ]
    }
  ]
}