{
  "nbformat": 4,
  "nbformat_minor": 0,
  "metadata": {
    "colab": {
      "name": "Chương_3.ipynb",
      "provenance": [],
      "authorship_tag": "ABX9TyM9d8tksdwUp0ywHMK0OR/B",
      "include_colab_link": true
    },
    "kernelspec": {
      "name": "python3",
      "display_name": "Python 3"
    },
    "language_info": {
      "name": "python"
    }
  },
  "cells": [
    {
      "cell_type": "markdown",
      "metadata": {
        "id": "view-in-github",
        "colab_type": "text"
      },
      "source": [
        "<a href=\"https://colab.research.google.com/github/Tridung2k3/ThucHanhToanCC/blob/main/Ch%C6%B0%C6%A1ng_3.ipynb\" target=\"_parent\"><img src=\"https://colab.research.google.com/assets/colab-badge.svg\" alt=\"Open In Colab\"/></a>"
      ]
    },
    {
      "cell_type": "markdown",
      "source": [
        "Thực Hành 1: Viết hàm từ dấu nhắc lệnh >>> của trình IDLE "
      ],
      "metadata": {
        "id": "dqtKd2PBQD2U"
      }
    },
    {
      "cell_type": "code",
      "execution_count": 38,
      "metadata": {
        "id": "-div304_PNmX"
      },
      "outputs": [],
      "source": [
        "def luythua(x, n): \n",
        "  ketqua= 1 \n",
        "  for i in range(n): \n",
        "    ketqua = ketqua *x \n",
        "  return ketqua "
      ]
    },
    {
      "cell_type": "code",
      "source": [
        "luythua(2,1)"
      ],
      "metadata": {
        "colab": {
          "base_uri": "https://localhost:8080/"
        },
        "id": "pvwmSaaiP5LW",
        "outputId": "725b8650-b12c-4ffc-dfec-608f571a8929"
      },
      "execution_count": 39,
      "outputs": [
        {
          "output_type": "execute_result",
          "data": {
            "text/plain": [
              "2"
            ]
          },
          "metadata": {},
          "execution_count": 39
        }
      ]
    },
    {
      "cell_type": "code",
      "source": [
        "luythua(2,0) "
      ],
      "metadata": {
        "colab": {
          "base_uri": "https://localhost:8080/"
        },
        "id": "y22qSxeAP-xw",
        "outputId": "26a5f41a-428b-43b2-97a1-13b4e41833e4"
      },
      "execution_count": 40,
      "outputs": [
        {
          "output_type": "execute_result",
          "data": {
            "text/plain": [
              "1"
            ]
          },
          "metadata": {},
          "execution_count": 40
        }
      ]
    },
    {
      "cell_type": "markdown",
      "source": [
        "Thực hành 2: Lỗi và cơ chế bắt lỗi trong Python "
      ],
      "metadata": {
        "id": "Sj2wlb_EQi0n"
      }
    },
    {
      "cell_type": "code",
      "source": [
        " while 1 = 2: "
      ],
      "metadata": {
        "colab": {
          "base_uri": "https://localhost:8080/",
          "height": 130
        },
        "id": "_ID4vwHhQoCm",
        "outputId": "dbc83ee5-1dbe-4c72-ba3b-b0377bf8e7e9"
      },
      "execution_count": 41,
      "outputs": [
        {
          "output_type": "error",
          "ename": "SyntaxError",
          "evalue": "ignored",
          "traceback": [
            "\u001b[0;36m  File \u001b[0;32m\"<ipython-input-41-7c7a27450cf9>\"\u001b[0;36m, line \u001b[0;32m1\u001b[0m\n\u001b[0;31m    while 1 = 2:\u001b[0m\n\u001b[0m            ^\u001b[0m\n\u001b[0;31mSyntaxError\u001b[0m\u001b[0;31m:\u001b[0m invalid syntax\n"
          ]
        }
      ]
    },
    {
      "cell_type": "code",
      "source": [
        "10*(1/0)"
      ],
      "metadata": {
        "id": "C-tR117gRG_2"
      },
      "execution_count": null,
      "outputs": []
    },
    {
      "cell_type": "code",
      "source": [
        "3 * bien_chua_khai_bao / 4 "
      ],
      "metadata": {
        "id": "EBo-gRqKRL7M"
      },
      "execution_count": null,
      "outputs": []
    },
    {
      "cell_type": "code",
      "source": [
        " ‘ba’ + 7 "
      ],
      "metadata": {
        "id": "mms_DVUbRTSU"
      },
      "execution_count": null,
      "outputs": []
    },
    {
      "cell_type": "code",
      "source": [
        "print(\"Tóm lại, các ngoại lệ bên trên báo là: ZeroDivisionError, NameError và TypeError. \")"
      ],
      "metadata": {
        "id": "XHrUhHkoRjiw"
      },
      "execution_count": null,
      "outputs": []
    },
    {
      "cell_type": "markdown",
      "source": [
        "Thực hành 3: Xử lý ngoại lệ với cơ chế try... except "
      ],
      "metadata": {
        "id": "DrorNkFBRyhq"
      }
    },
    {
      "cell_type": "code",
      "source": [
        "while True: \n",
        "  try: \n",
        "    x = int(input(“ Vui lòng nhap so: ”)) \n",
        "    break \n",
        "  except:\n",
        "    print(‘Vui lòng nhap so. Khong nhap chu!’) "
      ],
      "metadata": {
        "id": "Sc4MxH40arCn"
      },
      "execution_count": null,
      "outputs": []
    },
    {
      "cell_type": "markdown",
      "source": [
        "Thực hành 4: Xử lý ngoại lệ với cơ chế try... except... else... finally "
      ],
      "metadata": {
        "id": "rO8ia7uQhpEy"
      }
    },
    {
      "cell_type": "code",
      "source": [
        "while True: \n",
        "  try: \n",
        "    x = int(input('Vui long nhap so: ')) \n",
        "  except: \n",
        "    print ('So vua nhap sai') \n",
        "  else: \n",
        "    print ('so vua nhap la ' + str(x)) \n",
        "    break \n",
        "  finally: \n",
        "      print ('Da hoan thanh chuong trinh') "
      ],
      "metadata": {
        "id": "OrSEjVQ-hr-U"
      },
      "execution_count": null,
      "outputs": []
    },
    {
      "cell_type": "markdown",
      "source": [
        "Thực hành 5: Tạo hàm phát sinh dãy số thực đều "
      ],
      "metadata": {
        "id": "zJ6ghmx4h8dY"
      }
    },
    {
      "cell_type": "code",
      "source": [
        "def frange(batdau, ketthuc, buocnhay): \n",
        "  day_ketqua = [] \n",
        "  while batdau < ketthuc: \n",
        "    day_ketqua.append(batdau) \n",
        "    batdau = batdau + buocnhay \n",
        "  return day_ketqua "
      ],
      "metadata": {
        "id": "i-04vB6Uh_rS"
      },
      "execution_count": null,
      "outputs": []
    },
    {
      "cell_type": "code",
      "source": [
        "tu0den2 = frange(0, 2, 0.2)\n",
        "tu0den2"
      ],
      "metadata": {
        "id": "3ctfj6wDiTEe"
      },
      "execution_count": null,
      "outputs": []
    },
    {
      "cell_type": "markdown",
      "source": [
        "Thực hành 6: Vẽ quỹ đạo bay của vật được ném lên"
      ],
      "metadata": {
        "id": "OLKrGekuivP-"
      }
    },
    {
      "cell_type": "code",
      "source": [
        "# Phân đoạn 1: Nhập các thư viện xử lý: \n",
        "from matplotlib import pyplot as plt \n",
        "import math "
      ],
      "metadata": {
        "id": "r9LLNL53iwww"
      },
      "execution_count": null,
      "outputs": []
    },
    {
      "cell_type": "code",
      "source": [
        "#Phân đoạn 2: Xây dựng các hàm xử lý: \n",
        "# + Hàm 1: Hàm vẽ đồ thị \n",
        "def draw_graph(x, y):     \n",
        "  plt.plot(x, y)     \n",
        "  plt.xlabel('Truc X')     \n",
        "  plt.ylabel('Truc Y')     \n",
        "  plt.title('Do thi bai toan nem qua bong')"
      ],
      "metadata": {
        "id": "YDaCWfrSjeW5"
      },
      "execution_count": null,
      "outputs": []
    },
    {
      "cell_type": "code",
      "source": [
        "# + Hàm 2: Hàm xử lý về tạo các khoảng số thực đều nhau \n",
        "def frange(start, final, interval):     \n",
        "  numbers = []     \n",
        "  while start < final:         \n",
        "    numbers.append(start)         \n",
        "    start = start + interval     \n",
        "  return numbers "
      ],
      "metadata": {
        "id": "L1ISVlXplUWJ"
      },
      "execution_count": 42,
      "outputs": []
    },
    {
      "cell_type": "code",
      "source": [
        "# + Hàm 3: Hàm tính toán các dãy X và Y để vẽ đồ thị tương ứng với hàm đạn đạo: \n",
        "def draw_trajectory(u, theta):     \n",
        "  # Gia toc trong truong     \n",
        "  g = 9.8     \n",
        "  # Goc bay:     \n",
        "  theta = math.radians(theta)    \n",
        "  # Thoi gian bay:     \n",
        "  t_flight = 2*u*math.sin(theta)/g     \n",
        "  # Tinh toan khoang cach thoi gian     \n",
        "  intervals = frange(0, t_flight, 0.001)     \n",
        "  # Danh sach toa do x va y     \n",
        "  x = []     \n",
        "  y = []     \n",
        "  for t in intervals:         \n",
        "    x.append(u*math.cos(theta)*t)         \n",
        "    y.append(u*math.sin(theta)*t - 0.5*g*t*t)     \n",
        "  draw_graph(x, y) "
      ],
      "metadata": {
        "id": "yyhC1x39lojA"
      },
      "execution_count": 45,
      "outputs": []
    }
  ]
}