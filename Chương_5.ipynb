{
  "nbformat": 4,
  "nbformat_minor": 0,
  "metadata": {
    "colab": {
      "name": "Chương 5.ipynb",
      "provenance": [],
      "authorship_tag": "ABX9TyMZn5AZhGUm5nj9nBjg3rCz",
      "include_colab_link": true
    },
    "kernelspec": {
      "name": "python3",
      "display_name": "Python 3"
    },
    "language_info": {
      "name": "python"
    }
  },
  "cells": [
    {
      "cell_type": "markdown",
      "metadata": {
        "id": "view-in-github",
        "colab_type": "text"
      },
      "source": [
        "<a href=\"https://colab.research.google.com/github/Tridung2k3/ThucHanhToanCC/blob/main/Ch%C6%B0%C6%A1ng_5.ipynb\" target=\"_parent\"><img src=\"https://colab.research.google.com/assets/colab-badge.svg\" alt=\"Open In Colab\"/></a>"
      ]
    },
    {
      "cell_type": "markdown",
      "source": [
        "**Thực hành 1**: Lặp để tìm nghiệm"
      ],
      "metadata": {
        "id": "De22copBR04I"
      }
    },
    {
      "cell_type": "code",
      "execution_count": 177,
      "metadata": {
        "colab": {
          "base_uri": "https://localhost:8080/"
        },
        "id": "hfkjkrSPRG5E",
        "outputId": "991993a3-917a-4c56-d8bd-c988fc423d47"
      },
      "outputs": [
        {
          "output_type": "stream",
          "name": "stdout",
          "text": [
            "3\n"
          ]
        }
      ],
      "source": [
        "x = 3 \n",
        "print  (x) "
      ]
    },
    {
      "cell_type": "code",
      "source": [
        "import math"
      ],
      "metadata": {
        "id": "eFAFGSADSbzi"
      },
      "execution_count": 178,
      "outputs": []
    },
    {
      "cell_type": "code",
      "source": [
        "x = math.sqrt(1+x) \n",
        "print (x) "
      ],
      "metadata": {
        "colab": {
          "base_uri": "https://localhost:8080/"
        },
        "id": "QqKDhp8CR_C7",
        "outputId": "7d3d09da-8dee-420c-dfd7-273ee1ffdad1"
      },
      "execution_count": 179,
      "outputs": [
        {
          "output_type": "stream",
          "name": "stdout",
          "text": [
            "2.0\n"
          ]
        }
      ]
    },
    {
      "cell_type": "code",
      "source": [
        "x = math.sqrt(1+x) \n",
        "print (x)"
      ],
      "metadata": {
        "colab": {
          "base_uri": "https://localhost:8080/"
        },
        "id": "DE5m1keDSBRz",
        "outputId": "49d7d06b-5791-4cbe-cc96-0908920e3ee0"
      },
      "execution_count": 180,
      "outputs": [
        {
          "output_type": "stream",
          "name": "stdout",
          "text": [
            "1.7320508075688772\n"
          ]
        }
      ]
    },
    {
      "cell_type": "code",
      "source": [
        "x = math.sqrt(1+x) \n",
        "print (x) "
      ],
      "metadata": {
        "colab": {
          "base_uri": "https://localhost:8080/"
        },
        "id": "GsI-w_H1SmIC",
        "outputId": "7455b162-37fa-4bdd-b100-b13f4e967053"
      },
      "execution_count": 181,
      "outputs": [
        {
          "output_type": "stream",
          "name": "stdout",
          "text": [
            "1.6528916502810695\n"
          ]
        }
      ]
    },
    {
      "cell_type": "markdown",
      "source": [
        "**Thực hành 2**: Lặp bằng while để tìm nghiệm "
      ],
      "metadata": {
        "id": "D7n_2CrHSrRn"
      }
    },
    {
      "cell_type": "code",
      "source": [
        "import math\n",
        "x = 3\n",
        "lap = 1\n",
        "while (x!= math.sqrt(x+1)):\n",
        "  x = math.sqrt(x+1)\n",
        "  lap = lap + 1"
      ],
      "metadata": {
        "id": "C7XOWC0GStlz"
      },
      "execution_count": 182,
      "outputs": []
    },
    {
      "cell_type": "code",
      "source": [
        "x"
      ],
      "metadata": {
        "colab": {
          "base_uri": "https://localhost:8080/"
        },
        "id": "D-uv8Na0TPI4",
        "outputId": "3f2b36fb-e56b-4eba-ef66-1e5991bea9f5"
      },
      "execution_count": 183,
      "outputs": [
        {
          "output_type": "execute_result",
          "data": {
            "text/plain": [
              "1.618033988749895"
            ]
          },
          "metadata": {},
          "execution_count": 183
        }
      ]
    },
    {
      "cell_type": "code",
      "source": [
        "lap"
      ],
      "metadata": {
        "colab": {
          "base_uri": "https://localhost:8080/"
        },
        "id": "TAPLLRl7TQLI",
        "outputId": "7c105331-cd47-42a5-f095-60397c15e1b6"
      },
      "execution_count": 184,
      "outputs": [
        {
          "output_type": "execute_result",
          "data": {
            "text/plain": [
              "32"
            ]
          },
          "metadata": {},
          "execution_count": 184
        }
      ]
    },
    {
      "cell_type": "markdown",
      "source": [
        "**Thực hành 3**: Giải phương trình bằng hàm solve trong sympy"
      ],
      "metadata": {
        "id": "OGwlEIsbTUYg"
      }
    },
    {
      "cell_type": "code",
      "source": [
        "import sympy as sp\n",
        "from sympy import Symbol\n",
        "x = Symbol('x')\n",
        "sp.solve(x - sp.sqrt(1+x),x)"
      ],
      "metadata": {
        "colab": {
          "base_uri": "https://localhost:8080/"
        },
        "id": "PlxrURmtTVxo",
        "outputId": "c4dc7dd9-bc16-4677-c76c-d476c26439ae"
      },
      "execution_count": 185,
      "outputs": [
        {
          "output_type": "execute_result",
          "data": {
            "text/plain": [
              "[1/2 + sqrt(5)/2]"
            ]
          },
          "metadata": {},
          "execution_count": 185
        }
      ]
    },
    {
      "cell_type": "markdown",
      "source": [
        "**Thực hành 4**: Các phép toán trên vector "
      ],
      "metadata": {
        "id": "V_l9GyJiT3t5"
      }
    },
    {
      "cell_type": "code",
      "source": [
        "import numpy as np\n",
        "v1 = np.array([1.,2.,3.]) # tạo vectort 3 chiều\n",
        "v2 = np.array([2.,1.,0.])\n",
        "v3 = v1 + v2 # cộng vector\n"
      ],
      "metadata": {
        "id": "fU-SxW2ST9QH"
      },
      "execution_count": 186,
      "outputs": []
    },
    {
      "cell_type": "code",
      "source": [
        "v3"
      ],
      "metadata": {
        "colab": {
          "base_uri": "https://localhost:8080/"
        },
        "id": "4IlNTpFbUeI5",
        "outputId": "b9793f13-5eb4-4693-9e9c-277e20a660ee"
      },
      "execution_count": 187,
      "outputs": [
        {
          "output_type": "execute_result",
          "data": {
            "text/plain": [
              "array([3., 3., 3.])"
            ]
          },
          "metadata": {},
          "execution_count": 187
        }
      ]
    },
    {
      "cell_type": "code",
      "source": [
        "3*v1 + 2*v2"
      ],
      "metadata": {
        "colab": {
          "base_uri": "https://localhost:8080/"
        },
        "id": "-1fAU_1-UhYu",
        "outputId": "a93c5327-c982-4533-c447-04811304cfc2"
      },
      "execution_count": 188,
      "outputs": [
        {
          "output_type": "execute_result",
          "data": {
            "text/plain": [
              "array([7., 8., 9.])"
            ]
          },
          "metadata": {},
          "execution_count": 188
        }
      ]
    },
    {
      "cell_type": "code",
      "source": [
        "[1,2,3] + [2,1,0]"
      ],
      "metadata": {
        "colab": {
          "base_uri": "https://localhost:8080/"
        },
        "id": "J9hJF7ctUnOP",
        "outputId": "25d56d3d-ef2f-4561-fd78-e625e0adffc3"
      },
      "execution_count": 189,
      "outputs": [
        {
          "output_type": "execute_result",
          "data": {
            "text/plain": [
              "[1, 2, 3, 2, 1, 0]"
            ]
          },
          "metadata": {},
          "execution_count": 189
        }
      ]
    },
    {
      "cell_type": "code",
      "source": [
        "3*[1, 2, 3] + 2*[2, 1, 0] "
      ],
      "metadata": {
        "colab": {
          "base_uri": "https://localhost:8080/"
        },
        "id": "mKdSoG70WYzn",
        "outputId": "a77e6029-0dac-40b8-aed5-a536940f74f8"
      },
      "execution_count": 190,
      "outputs": [
        {
          "output_type": "execute_result",
          "data": {
            "text/plain": [
              "[1, 2, 3, 1, 2, 3, 1, 2, 3, 2, 1, 0, 2, 1, 0]"
            ]
          },
          "metadata": {},
          "execution_count": 190
        }
      ]
    },
    {
      "cell_type": "code",
      "source": [
        "v4 = np.hstack([v1, v2]) \n",
        "v4"
      ],
      "metadata": {
        "colab": {
          "base_uri": "https://localhost:8080/"
        },
        "id": "zGc1R6A8WiRQ",
        "outputId": "bf38bc99-8f32-472c-ff4c-de98eec0b513"
      },
      "execution_count": 191,
      "outputs": [
        {
          "output_type": "execute_result",
          "data": {
            "text/plain": [
              "array([1., 2., 3., 2., 1., 0.])"
            ]
          },
          "metadata": {},
          "execution_count": 191
        }
      ]
    },
    {
      "cell_type": "code",
      "source": [
        "# Phép nhân vô hướng 2 vector: \n",
        "np.dot(v1, v2)"
      ],
      "metadata": {
        "colab": {
          "base_uri": "https://localhost:8080/"
        },
        "id": "mhQlD7OpW0E8",
        "outputId": "31671019-e710-47de-88b4-e75480f1d7c5"
      },
      "execution_count": 192,
      "outputs": [
        {
          "output_type": "execute_result",
          "data": {
            "text/plain": [
              "4.0"
            ]
          },
          "metadata": {},
          "execution_count": 192
        }
      ]
    },
    {
      "cell_type": "code",
      "source": [
        "# Tính toán giá trị sin của vector: \n",
        "angles = np.linspace(0, np.pi/2, 5) \n",
        "angles "
      ],
      "metadata": {
        "colab": {
          "base_uri": "https://localhost:8080/"
        },
        "id": "Hlar5GsDW5cl",
        "outputId": "b39a3135-660f-4f0c-b301-abbe65038e91"
      },
      "execution_count": 193,
      "outputs": [
        {
          "output_type": "execute_result",
          "data": {
            "text/plain": [
              "array([0.        , 0.39269908, 0.78539816, 1.17809725, 1.57079633])"
            ]
          },
          "metadata": {},
          "execution_count": 193
        }
      ]
    },
    {
      "cell_type": "code",
      "source": [
        "np.sin(angles) "
      ],
      "metadata": {
        "colab": {
          "base_uri": "https://localhost:8080/"
        },
        "id": "nPWrusQYW_UD",
        "outputId": "ed2a529f-139a-4c2a-950d-49b78bbcaff1"
      },
      "execution_count": 194,
      "outputs": [
        {
          "output_type": "execute_result",
          "data": {
            "text/plain": [
              "array([0.        , 0.38268343, 0.70710678, 0.92387953, 1.        ])"
            ]
          },
          "metadata": {},
          "execution_count": 194
        }
      ]
    },
    {
      "cell_type": "code",
      "source": [
        "from sympy import sin as sysin \n",
        "angles = np.linspace(0, np.pi/2, 5) \n",
        "sinangle = np.zeros(5)     # tương đương\n",
        "sinangle = np.array([0.0, 0.0, 0.0, 0.0, 0.0]) \n",
        "len(angles)  # kiểm tra kích thước/số chiều của vector angles. \n",
        "for i in range(len(angles)): \n",
        "  sinangle[i] = sysin(angles[i])   #lưu ý: ở đây phải enter 2 lần để thoát khỏi vòng for."
      ],
      "metadata": {
        "id": "NU1t94tNXDHp"
      },
      "execution_count": 195,
      "outputs": []
    },
    {
      "cell_type": "code",
      "source": [
        " sinangle "
      ],
      "metadata": {
        "colab": {
          "base_uri": "https://localhost:8080/"
        },
        "id": "iMGBszCcXyhA",
        "outputId": "22f3b6a2-2e8f-48df-fee6-814f3ffe0049"
      },
      "execution_count": 196,
      "outputs": [
        {
          "output_type": "execute_result",
          "data": {
            "text/plain": [
              "array([0.        , 0.38268343, 0.70710678, 0.92387953, 1.        ])"
            ]
          },
          "metadata": {},
          "execution_count": 196
        }
      ]
    },
    {
      "cell_type": "markdown",
      "source": [
        "**Thực hành 5**: Tính tổng các tích giữa ma trận và vector. Giả định gói thư viện numpy được đưa vào hệ thống có tên là np."
      ],
      "metadata": {
        "id": "4P6Cgpm2X4f3"
      }
    },
    {
      "cell_type": "code",
      "source": [
        "import numpy as np \n",
        "goc = np.pi/3\n",
        "A = np.array([ [np.cos(goc), -np.sin(goc)],                      \n",
        "                   [np.sin(goc),  np.cos(goc)] ]) \n",
        "V = np.array([1. , 0. ]) \n",
        "Y = np.dot(A, V) \n",
        "Y "
      ],
      "metadata": {
        "colab": {
          "base_uri": "https://localhost:8080/"
        },
        "id": "F6513M_sYAYU",
        "outputId": "c5b4e07c-00a5-4439-cbba-0273322fe823"
      },
      "execution_count": 197,
      "outputs": [
        {
          "output_type": "execute_result",
          "data": {
            "text/plain": [
              "array([0.5      , 0.8660254])"
            ]
          },
          "metadata": {},
          "execution_count": 197
        }
      ]
    },
    {
      "cell_type": "markdown",
      "source": [
        "\n",
        "**Thực hành 6**: Tính toán đạo hàm trên 1 vector dữ liệu "
      ],
      "metadata": {
        "id": "vtc9hlD7YcLE"
      }
    },
    {
      "cell_type": "code",
      "source": [
        "#Trường hợp dx cố định: \n",
        "from numpy import diff \n",
        "dx = 0.1 \n",
        "y = [1, 2, 3, 4, 4, 5, 6] \n",
        "dy = diff(y)/dx \n",
        "dy "
      ],
      "metadata": {
        "colab": {
          "base_uri": "https://localhost:8080/"
        },
        "id": "kdjmjGcTZIly",
        "outputId": "d221e92a-697e-4914-bdbf-946d5ec8afbe"
      },
      "execution_count": 198,
      "outputs": [
        {
          "output_type": "execute_result",
          "data": {
            "text/plain": [
              "array([10., 10., 10.,  0., 10., 10.])"
            ]
          },
          "metadata": {},
          "execution_count": 198
        }
      ]
    },
    {
      "cell_type": "code",
      "source": [
        "z = np.array([1, 2, 3, 4, 4, 5, 6]) \n",
        "dz = diff(z)/dx \n",
        "dz "
      ],
      "metadata": {
        "colab": {
          "base_uri": "https://localhost:8080/"
        },
        "id": "tbmyxIMHZcJT",
        "outputId": "b157189f-7cfe-4f1b-fc52-631f46129caf"
      },
      "execution_count": 199,
      "outputs": [
        {
          "output_type": "execute_result",
          "data": {
            "text/plain": [
              "array([10., 10., 10.,  0., 10., 10.])"
            ]
          },
          "metadata": {},
          "execution_count": 199
        }
      ]
    },
    {
      "cell_type": "code",
      "source": [
        "# Trường hợp dx là một dãy số: \n",
        "from numpy import diff \n",
        "x = [.1, .2, .5, .6, .7, .8, .9] \n",
        "y = [1, 2, 3, 4, 4, 5, 6] \n",
        "dydx = diff(y)/diff(x)\n",
        "print (dydx) "
      ],
      "metadata": {
        "colab": {
          "base_uri": "https://localhost:8080/"
        },
        "id": "K6wWTRXzZj_F",
        "outputId": "9470f7f7-c2fd-4043-e366-41d8dd8cb6cd"
      },
      "execution_count": 200,
      "outputs": [
        {
          "output_type": "stream",
          "name": "stdout",
          "text": [
            "[10.          3.33333333 10.          0.         10.         10.        ]\n"
          ]
        }
      ]
    },
    {
      "cell_type": "markdown",
      "source": [
        "**Thực hành 7**: Một số hàm xử lý phẳng (không gian Euclide) "
      ],
      "metadata": {
        "id": "gXcu7ZRpZzVb"
      }
    },
    {
      "cell_type": "code",
      "source": [
        "from sympy.geometry import * \n",
        "# Tạo các điểm P1, P2, P3 và P4 \n",
        "P1 = Point(0, 0) \n",
        "P2 = Point(3, 4) \n",
        "P3 = Point(2, -1) \n",
        "P4 = Point(-1, 5) "
      ],
      "metadata": {
        "id": "JO_CnAubZ-9-"
      },
      "execution_count": 201,
      "outputs": []
    },
    {
      "cell_type": "code",
      "source": [
        "# Tạo 2 đoạn đường S1 và S2: \n",
        "S1 = Segment(P1, P2) \n",
        "S2 = Segment(P3, P4) "
      ],
      "metadata": {
        "id": "d0lLwqkZaMoH"
      },
      "execution_count": 202,
      "outputs": []
    },
    {
      "cell_type": "code",
      "source": [
        "# Kiểm 3 điểm thẳng hàng: \n",
        "Point.is_collinear(P1, P2, P3) "
      ],
      "metadata": {
        "colab": {
          "base_uri": "https://localhost:8080/"
        },
        "id": "I8s0Iz7laTGc",
        "outputId": "316ef4f4-aedb-4195-90b8-c2219ec30bf7"
      },
      "execution_count": 203,
      "outputs": [
        {
          "output_type": "execute_result",
          "data": {
            "text/plain": [
              "False"
            ]
          },
          "metadata": {},
          "execution_count": 203
        }
      ]
    },
    {
      "cell_type": "code",
      "source": [
        "# Độ dài của đoạn đường S1 \n",
        "S1.length"
      ],
      "metadata": {
        "colab": {
          "base_uri": "https://localhost:8080/",
          "height": 37
        },
        "id": "KMA-IdC5aV4U",
        "outputId": "13fd4057-b519-4fa9-f103-28d27f28f793"
      },
      "execution_count": 204,
      "outputs": [
        {
          "output_type": "execute_result",
          "data": {
            "text/latex": "$\\displaystyle 5$",
            "text/plain": [
              "5"
            ]
          },
          "metadata": {},
          "execution_count": 204
        }
      ]
    },
    {
      "cell_type": "code",
      "source": [
        "# Tính độ dốc của đường S1 \n",
        "S1.slope "
      ],
      "metadata": {
        "colab": {
          "base_uri": "https://localhost:8080/",
          "height": 51
        },
        "id": "1OWg0m5oa6Ia",
        "outputId": "939cafcc-78e3-4243-88ee-be32ef71c5c2"
      },
      "execution_count": 205,
      "outputs": [
        {
          "output_type": "execute_result",
          "data": {
            "text/latex": "$\\displaystyle \\frac{4}{3}$",
            "text/plain": [
              "4/3"
            ]
          },
          "metadata": {},
          "execution_count": 205
        }
      ]
    },
    {
      "cell_type": "code",
      "source": [
        "# Tìm vị trí giao nhau giữa hai đoạn đường \n",
        "S1.intersection(S2) "
      ],
      "metadata": {
        "colab": {
          "base_uri": "https://localhost:8080/"
        },
        "id": "TAJuntUoa-Jb",
        "outputId": "7f13a398-f0d9-4669-f04f-419336f0e55e"
      },
      "execution_count": 206,
      "outputs": [
        {
          "output_type": "execute_result",
          "data": {
            "text/plain": [
              "[Point2D(9/10, 6/5)]"
            ]
          },
          "metadata": {},
          "execution_count": 206
        }
      ]
    },
    {
      "cell_type": "code",
      "source": [
        "# Góc giữa hai đoạn đường \n",
        "Segment.angle_between(S1, S2) "
      ],
      "metadata": {
        "colab": {
          "base_uri": "https://localhost:8080/",
          "height": 68
        },
        "id": "yvUwKMjZbCZz",
        "outputId": "ea4e59a7-38f6-4f05-e1a3-6fddfb9b8617"
      },
      "execution_count": 207,
      "outputs": [
        {
          "output_type": "execute_result",
          "data": {
            "text/latex": "$\\displaystyle \\operatorname{acos}{\\left(\\frac{\\sqrt{5}}{5} \\right)}$",
            "text/plain": [
              "acos(sqrt(5)/5)"
            ]
          },
          "metadata": {},
          "execution_count": 207
        }
      ]
    },
    {
      "cell_type": "code",
      "source": [
        "# Kiểm đoạn đường S1 có chứa điểm P3 hay không? \n",
        "S1.contains(P3) "
      ],
      "metadata": {
        "colab": {
          "base_uri": "https://localhost:8080/"
        },
        "id": "T4hWqP_cbKE4",
        "outputId": "14777538-4671-4f24-ab32-94230090f663"
      },
      "execution_count": 208,
      "outputs": [
        {
          "output_type": "execute_result",
          "data": {
            "text/plain": [
              "False"
            ]
          },
          "metadata": {},
          "execution_count": 208
        }
      ]
    },
    {
      "cell_type": "code",
      "source": [
        "# Lập và xem phương trình đường thẳng L1 đi qua 2 điểm P1 và P2: \n",
        "L1 = Line(P1, P2) \n",
        "L1.equation()  "
      ],
      "metadata": {
        "colab": {
          "base_uri": "https://localhost:8080/",
          "height": 38
        },
        "id": "K236QYGfbNdj",
        "outputId": "6daa78d0-8fbc-4f09-afd1-7c2a9732cbe5"
      },
      "execution_count": 209,
      "outputs": [
        {
          "output_type": "execute_result",
          "data": {
            "text/latex": "$\\displaystyle - 4 x + 3 y$",
            "text/plain": [
              "-4*x + 3*y"
            ]
          },
          "metadata": {},
          "execution_count": 209
        }
      ]
    },
    {
      "cell_type": "code",
      "source": [
        "# Kiểm tính song song: \n",
        "L1.is_parallel(S1) "
      ],
      "metadata": {
        "colab": {
          "base_uri": "https://localhost:8080/"
        },
        "id": "f-m_lc7ybRPS",
        "outputId": "a8d5af04-186f-4aa0-d71c-cb5aec54e47c"
      },
      "execution_count": 210,
      "outputs": [
        {
          "output_type": "execute_result",
          "data": {
            "text/plain": [
              "True"
            ]
          },
          "metadata": {},
          "execution_count": 210
        }
      ]
    },
    {
      "cell_type": "code",
      "source": [
        "L1.is_parallel(S2) "
      ],
      "metadata": {
        "colab": {
          "base_uri": "https://localhost:8080/"
        },
        "id": "RXW2bCx6bTvD",
        "outputId": "c3074623-d172-4606-8ad3-45226f03dce8"
      },
      "execution_count": 211,
      "outputs": [
        {
          "output_type": "execute_result",
          "data": {
            "text/plain": [
              "False"
            ]
          },
          "metadata": {},
          "execution_count": 211
        }
      ]
    },
    {
      "cell_type": "markdown",
      "source": [
        "**Thực hành 8**: Bằng phương pháp đồ thị, hãy cho biết giới hạn của hàm số sau"
      ],
      "metadata": {
        "id": "R370GpeMbYQ4"
      }
    },
    {
      "cell_type": "code",
      "source": [
        "import sympy\n",
        "from sympy import * \n",
        "x = Symbol('x') \n",
        "f = x * sin(1/x) \n",
        "c = Symbol('c') \n",
        "delta = Symbol('delta') \n",
        "c = 0 \n",
        "delta = 1/4 \n"
      ],
      "metadata": {
        "id": "RbipGcATbgXw"
      },
      "execution_count": 212,
      "outputs": []
    },
    {
      "cell_type": "code",
      "source": [
        "sympy.plot(f,(x, c - delta, c + delta))"
      ],
      "metadata": {
        "colab": {
          "base_uri": "https://localhost:8080/",
          "height": 314
        },
        "id": "FcQxXxDlcH8d",
        "outputId": "2f46af79-1c5f-43b5-912c-0b5c67f5d82a"
      },
      "execution_count": 213,
      "outputs": [
        {
          "output_type": "display_data",
          "data": {
            "image/png": "[encoded data removed]",
            "text/plain": [
              "<Figure size 432x288 with 1 Axes>"
            ]
          },
          "metadata": {
            "needs_background": "light"
          }
        },
        {
          "output_type": "execute_result",
          "data": {
            "text/plain": [
              "<sympy.plotting.plot.Plot at 0x7f385b1f0dd0>"
            ]
          },
          "metadata": {},
          "execution_count": 213
        }
      ]
    },
    {
      "cell_type": "code",
      "source": [
        "sympy.plot(f, abs(x), -abs(x),(x, c - delta, c + delta)) "
      ],
      "metadata": {
        "colab": {
          "base_uri": "https://localhost:8080/",
          "height": 314
        },
        "id": "3IINsx_kcR6D",
        "outputId": "a1e6f526-b168-40be-ee4f-4a618935a274"
      },
      "execution_count": 214,
      "outputs": [
        {
          "output_type": "display_data",
          "data": {
            "image/png": "[encoded data removed]",
            "text/plain": [
              "<Figure size 432x288 with 1 Axes>"
            ]
          },
          "metadata": {
            "needs_background": "light"
          }
        },
        {
          "output_type": "execute_result",
          "data": {
            "text/plain": [
              "<sympy.plotting.plot.Plot at 0x7f385b0c5110>"
            ]
          },
          "metadata": {},
          "execution_count": 214
        }
      ]
    },
    {
      "cell_type": "markdown",
      "source": [
        "**Thực hành 9**: Tìm giá trị cực đại của hàm "
      ],
      "metadata": {
        "id": "bWMo3JX7cbcO"
      }
    },
    {
      "cell_type": "code",
      "source": [
        "from sympy import Symbol, solve, Derivative \n",
        "x = Symbol('x') \n",
        "f = -x**2+4*x-3 \n",
        "d1=Derivative(f, x).doit() \n",
        "cuctri = solve(d1) \n",
        "cuctri \n",
        "[2] \n",
        "A = cuctri[0] \n",
        "d2 = Derivative(d1, x).doit() \n",
        "d2.subs({x:A}).evalf() "
      ],
      "metadata": {
        "colab": {
          "base_uri": "https://localhost:8080/",
          "height": 37
        },
        "id": "aQDgn7H6chAf",
        "outputId": "43c23398-f384-461f-da7d-958d0b17e8c3"
      },
      "execution_count": 215,
      "outputs": [
        {
          "output_type": "execute_result",
          "data": {
            "text/latex": "$\\displaystyle -2.0$",
            "text/plain": [
              "-2.00000000000000"
            ]
          },
          "metadata": {},
          "execution_count": 215
        }
      ]
    },
    {
      "cell_type": "code",
      "source": [
        "x_min=0 \n",
        "x_max=4 \n",
        "f.subs({x:A}).evalf() "
      ],
      "metadata": {
        "colab": {
          "base_uri": "https://localhost:8080/",
          "height": 37
        },
        "id": "v-oSHoyKc20P",
        "outputId": "08124dfc-696f-4216-b9e8-0b3007a7ddc3"
      },
      "execution_count": 216,
      "outputs": [
        {
          "output_type": "execute_result",
          "data": {
            "text/latex": "$\\displaystyle 1.0$",
            "text/plain": [
              "1.00000000000000"
            ]
          },
          "metadata": {},
          "execution_count": 216
        }
      ]
    },
    {
      "cell_type": "code",
      "source": [
        " f.subs({x:x_min}).evalf() "
      ],
      "metadata": {
        "colab": {
          "base_uri": "https://localhost:8080/",
          "height": 37
        },
        "id": "qSlOyy4Ic9Xw",
        "outputId": "e3206128-23b1-4e56-9a6b-477e02ccc64d"
      },
      "execution_count": 217,
      "outputs": [
        {
          "output_type": "execute_result",
          "data": {
            "text/latex": "$\\displaystyle -3.0$",
            "text/plain": [
              "-3.00000000000000"
            ]
          },
          "metadata": {},
          "execution_count": 217
        }
      ]
    },
    {
      "cell_type": "code",
      "source": [
        " f.subs({x:x_max}).evalf() "
      ],
      "metadata": {
        "colab": {
          "base_uri": "https://localhost:8080/",
          "height": 37
        },
        "id": "gvdrAwOHc-o4",
        "outputId": "e906ceaa-c4ad-4c1e-c7eb-6e93d481ced9"
      },
      "execution_count": 218,
      "outputs": [
        {
          "output_type": "execute_result",
          "data": {
            "text/latex": "$\\displaystyle -3.0$",
            "text/plain": [
              "-3.00000000000000"
            ]
          },
          "metadata": {},
          "execution_count": 218
        }
      ]
    },
    {
      "cell_type": "code",
      "source": [
        "# so sánh các giá trị, ta thấy GTLN là f(2)=1 "
      ],
      "metadata": {
        "id": "8LqS8h9vdBxd"
      },
      "execution_count": 219,
      "outputs": []
    },
    {
      "cell_type": "markdown",
      "source": [
        "**Thực  hành  10**:  Tìm  diện  tích  cực  đại  để  lắp  các  tấm  pin  mặt  trời  trên  một  sân  phẳng  có hình parabol "
      ],
      "metadata": {
        "id": "C2dv-tvTdGZQ"
      }
    },
    {
      "cell_type": "code",
      "source": [
        ""
      ],
      "metadata": {
        "id": "sENCHbL8dIRX"
      },
      "execution_count": null,
      "outputs": []
    }
  ]
}