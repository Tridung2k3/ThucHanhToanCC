{
  "nbformat": 4,
  "nbformat_minor": 0,
  "metadata": {
    "colab": {
      "provenance": [],
      "authorship_tag": "ABX9TyMiTJSNecb07HAajpx9S6qT",
      "include_colab_link": true
    },
    "kernelspec": {
      "name": "python3",
      "display_name": "Python 3"
    },
    "language_info": {
      "name": "python"
    }
  },
  "cells": [
    {
      "cell_type": "markdown",
      "metadata": {
        "id": "view-in-github",
        "colab_type": "text"
      },
      "source": [
        "<a href=\"https://colab.research.google.com/github/Tridung2k3/ThucHanhToanCC/blob/main/%C4%90STT_Th%E1%BB%B1cH%C3%A0nh_Ch%C6%B0%C6%A1ng2.ipynb\" target=\"_parent\"><img src=\"https://colab.research.google.com/assets/colab-badge.svg\" alt=\"Open In Colab\"/></a>"
      ]
    },
    {
      "cell_type": "markdown",
      "source": [
        "# **1. Dẫn nhập – Một số hàm về xử lý vector với Python**"
      ],
      "metadata": {
        "id": "OdahaNuNzaAa"
      }
    },
    {
      "cell_type": "markdown",
      "source": [
        "Hàm “scale” tỉ số vector bằng một giá trị thực: \n"
      ],
      "metadata": {
        "id": "48h5Oae_yJbl"
      }
    },
    {
      "cell_type": "code",
      "execution_count": 2,
      "metadata": {
        "id": "YxkkalM6x--I"
      },
      "outputs": [],
      "source": [
        "def scale(a, v):\n",
        " return [a*vi for vi in v]\n",
        "v = [3,5,7]"
      ]
    },
    {
      "cell_type": "code",
      "source": [
        "scale(10, v)"
      ],
      "metadata": {
        "colab": {
          "base_uri": "https://localhost:8080/"
        },
        "id": "6ZFJJy9TypBD",
        "outputId": "f868e850-5f2f-45ab-a64f-50e121420e47"
      },
      "execution_count": 3,
      "outputs": [
        {
          "output_type": "execute_result",
          "data": {
            "text/plain": [
              "[30, 50, 70]"
            ]
          },
          "metadata": {},
          "execution_count": 3
        }
      ]
    },
    {
      "cell_type": "markdown",
      "source": [
        "Hàm lấy tổng hai vector: "
      ],
      "metadata": {
        "id": "AGnt_Zl8ytxK"
      }
    },
    {
      "cell_type": "code",
      "source": [
        "def sumvector(v, w):\n",
        " return [vi+wi for (vi, wi) in zip(v, w)]\n",
        "v = [3,5,7]\n",
        "w = [2,4,6] "
      ],
      "metadata": {
        "id": "z6OSr6I-yzUh"
      },
      "execution_count": 4,
      "outputs": []
    },
    {
      "cell_type": "code",
      "source": [
        "sumvector(v, w)"
      ],
      "metadata": {
        "colab": {
          "base_uri": "https://localhost:8080/"
        },
        "id": "cKG9cGtTy3bZ",
        "outputId": "4b80d0f2-db07-4e28-a578-e4af2ca57a5f"
      },
      "execution_count": 5,
      "outputs": [
        {
          "output_type": "execute_result",
          "data": {
            "text/plain": [
              "[5, 9, 13]"
            ]
          },
          "metadata": {},
          "execution_count": 5
        }
      ]
    },
    {
      "cell_type": "markdown",
      "source": [
        "Hàm nhân 2 vector vô hướng:"
      ],
      "metadata": {
        "id": "yC8GB9PDy7QU"
      }
    },
    {
      "cell_type": "code",
      "source": [
        "def dotvector(v, w):\n",
        " return sum([vi*wi for (vi, wi) in zip(v, w)]) "
      ],
      "metadata": {
        "id": "sh0T4WoHy9H5"
      },
      "execution_count": 8,
      "outputs": []
    },
    {
      "cell_type": "code",
      "source": [
        "dotvector(v, w) "
      ],
      "metadata": {
        "colab": {
          "base_uri": "https://localhost:8080/"
        },
        "id": "nzrWG-XlzD6i",
        "outputId": "940118ae-1272-4227-a3e4-f167a689fddf"
      },
      "execution_count": 9,
      "outputs": [
        {
          "output_type": "execute_result",
          "data": {
            "text/plain": [
              "68"
            ]
          },
          "metadata": {},
          "execution_count": 9
        }
      ]
    },
    {
      "cell_type": "markdown",
      "source": [
        "Hàm tính chiều dài một vector:"
      ],
      "metadata": {
        "id": "E52y4DdSzHoq"
      }
    },
    {
      "cell_type": "code",
      "source": [
        "def lenvector(v):\n",
        "  return dotvector(v,v) "
      ],
      "metadata": {
        "id": "Jm5dhR5-zJey"
      },
      "execution_count": 10,
      "outputs": []
    },
    {
      "cell_type": "code",
      "source": [
        "lenvector(w)"
      ],
      "metadata": {
        "colab": {
          "base_uri": "https://localhost:8080/"
        },
        "id": "sE7I95tyzSDB",
        "outputId": "e5d0e561-4832-40db-8f33-bf54a6cb1982"
      },
      "execution_count": 11,
      "outputs": [
        {
          "output_type": "execute_result",
          "data": {
            "text/plain": [
              "56"
            ]
          },
          "metadata": {},
          "execution_count": 11
        }
      ]
    },
    {
      "cell_type": "markdown",
      "source": [
        "# ***2. Bài toán ứng dụng 1 – Phân loại tuyến tính ***"
      ],
      "metadata": {
        "id": "QcW40w42zku6"
      }
    },
    {
      "cell_type": "code",
      "source": [
        "import numpy as np\n",
        "scores = np.array([-1, 1, 2, -3, 5, -4]) "
      ],
      "metadata": {
        "id": "nUgnPtOj0ABX"
      },
      "execution_count": 12,
      "outputs": []
    },
    {
      "cell_type": "code",
      "source": [
        "scores >= 0"
      ],
      "metadata": {
        "colab": {
          "base_uri": "https://localhost:8080/"
        },
        "id": "efSDd9LT0VZ4",
        "outputId": "e6b45cf2-5254-4df5-95f2-1651e67f4951"
      },
      "execution_count": 13,
      "outputs": [
        {
          "output_type": "execute_result",
          "data": {
            "text/plain": [
              "array([False,  True,  True, False,  True, False])"
            ]
          },
          "metadata": {},
          "execution_count": 13
        }
      ]
    },
    {
      "cell_type": "code",
      "source": [
        "scores < 0"
      ],
      "metadata": {
        "colab": {
          "base_uri": "https://localhost:8080/"
        },
        "id": "VqDYK8Ru0V-P",
        "outputId": "c85e3bda-c75e-476a-f52c-c080e44d54a1"
      },
      "execution_count": 14,
      "outputs": [
        {
          "output_type": "execute_result",
          "data": {
            "text/plain": [
              "array([ True, False, False,  True, False,  True])"
            ]
          },
          "metadata": {},
          "execution_count": 14
        }
      ]
    },
    {
      "cell_type": "code",
      "source": [
        "np.select([scores >=0, scores < 0],['so duong', 'so am'])"
      ],
      "metadata": {
        "colab": {
          "base_uri": "https://localhost:8080/"
        },
        "id": "0wwoLYOV0Xvf",
        "outputId": "4c64096c-355c-46e1-956a-0dc349a0fc35"
      },
      "execution_count": 18,
      "outputs": [
        {
          "output_type": "execute_result",
          "data": {
            "text/plain": [
              "array(['so am', 'so duong', 'so duong', 'so duong', 'so am', 'so duong',\n",
              "       'so duong', 'so am'], dtype='<U8')"
            ]
          },
          "metadata": {},
          "execution_count": 18
        }
      ]
    },
    {
      "cell_type": "code",
      "source": [
        "scores = np.array([-1, 1, 2, 0, -3, 5, 0, -4])\n",
        "np.select([scores >0, scores ==0, scores < 0],['so duong', 'so 0', 'so am'])"
      ],
      "metadata": {
        "colab": {
          "base_uri": "https://localhost:8080/"
        },
        "id": "z-uc4EQg0xKv",
        "outputId": "d55eee83-883b-494c-c25f-fb268ee3755a"
      },
      "execution_count": 16,
      "outputs": [
        {
          "output_type": "execute_result",
          "data": {
            "text/plain": [
              "array(['so am', 'so duong', 'so duong', 'so 0', 'so am', 'so duong',\n",
              "       'so 0', 'so am'], dtype='<U8')"
            ]
          },
          "metadata": {},
          "execution_count": 16
        }
      ]
    },
    {
      "cell_type": "markdown",
      "source": [
        "# **3. Thực hành xử lý ma trận**"
      ],
      "metadata": {
        "id": "cU34ZP_R1kLb"
      }
    },
    {
      "cell_type": "markdown",
      "source": [
        "3.1. Cơ bản về xử lý ma trận "
      ],
      "metadata": {
        "id": "jt_hIaPg1pvW"
      }
    },
    {
      "cell_type": "markdown",
      "source": [
        "1"
      ],
      "metadata": {
        "id": "oFQUo10U248c"
      }
    },
    {
      "cell_type": "code",
      "source": [
        "import numpy as np # Lệnh để nạp thư viện numpy vào bộ nhớ để xử lý\n",
        "from scipy import linalg, sparse # Tải 2 thư viện linalg vầ sparse của scipy vào bộ nhớ để sử dụng"
      ],
      "metadata": {
        "id": "jhQI8rfK1nL1"
      },
      "execution_count": 34,
      "outputs": []
    },
    {
      "cell_type": "code",
      "source": [
        "D = np.mat([ [3,4], [5,6] ])"
      ],
      "metadata": {
        "id": "f1hMseF515vd"
      },
      "execution_count": 35,
      "outputs": []
    },
    {
      "cell_type": "code",
      "source": [
        "print(D)"
      ],
      "metadata": {
        "colab": {
          "base_uri": "https://localhost:8080/"
        },
        "id": "jwwLDLJk18ol",
        "outputId": "f66128c8-eb47-4c50-a281-d7fd0219362b"
      },
      "execution_count": 36,
      "outputs": [
        {
          "output_type": "stream",
          "name": "stdout",
          "text": [
            "[[3 4]\n",
            " [5 6]]\n"
          ]
        }
      ]
    },
    {
      "cell_type": "markdown",
      "source": [
        "2"
      ],
      "metadata": {
        "id": "uGdqh0vB3EiT"
      }
    },
    {
      "cell_type": "code",
      "source": [
        "C = np.mat(np.random.random((5,7)))"
      ],
      "metadata": {
        "id": "s2al0Kay2F2j"
      },
      "execution_count": 37,
      "outputs": []
    },
    {
      "cell_type": "code",
      "source": [
        "print(C)"
      ],
      "metadata": {
        "colab": {
          "base_uri": "https://localhost:8080/"
        },
        "id": "3gYMUbhs2Gjm",
        "outputId": "0c593e0f-845d-42bd-e337-6aed6fa1a74a"
      },
      "execution_count": 38,
      "outputs": [
        {
          "output_type": "stream",
          "name": "stdout",
          "text": [
            "[[0.13250717 0.88596736 0.15234134 0.76353453 0.92315125 0.61021963\n",
            "  0.73973723]\n",
            " [0.37009929 0.65980973 0.92020234 0.47956768 0.34514609 0.31164845\n",
            "  0.11742175]\n",
            " [0.72314856 0.98133998 0.88890313 0.21640865 0.9515709  0.13755993\n",
            "  0.827532  ]\n",
            " [0.97625231 0.53036919 0.538269   0.29682592 0.1626664  0.02728034\n",
            "  0.0290803 ]\n",
            " [0.25971707 0.50407211 0.93682327 0.30416891 0.98081919 0.31092281\n",
            "  0.18443904]]\n"
          ]
        }
      ]
    },
    {
      "cell_type": "markdown",
      "source": [
        "3"
      ],
      "metadata": {
        "id": "VCk8x69R3Gjy"
      }
    },
    {
      "cell_type": "code",
      "source": [
        "A = np.mat(np.random.random((2,2))) "
      ],
      "metadata": {
        "id": "6KKuixjn2aNz"
      },
      "execution_count": 39,
      "outputs": []
    },
    {
      "cell_type": "code",
      "source": [
        "print(A)"
      ],
      "metadata": {
        "colab": {
          "base_uri": "https://localhost:8080/"
        },
        "id": "RMGgx_OQ2dUj",
        "outputId": "fca062a4-ceca-4e80-c225-de03d4285bc8"
      },
      "execution_count": 40,
      "outputs": [
        {
          "output_type": "stream",
          "name": "stdout",
          "text": [
            "[[0.89684902 0.3729023 ]\n",
            " [0.60918747 0.35770918]]\n"
          ]
        }
      ]
    },
    {
      "cell_type": "markdown",
      "source": [
        "4"
      ],
      "metadata": {
        "id": "nlsk4UCF3Iun"
      }
    },
    {
      "cell_type": "code",
      "source": [
        "b = np.array([(1+5j, 2j, 3j),(4, 5, 6)]) "
      ],
      "metadata": {
        "id": "wAEmuX2s2ifs"
      },
      "execution_count": 41,
      "outputs": []
    },
    {
      "cell_type": "code",
      "source": [
        "B = np.asmatrix(b)"
      ],
      "metadata": {
        "id": "VbyBVgUt2l0j"
      },
      "execution_count": 42,
      "outputs": []
    },
    {
      "cell_type": "markdown",
      "source": [
        "5"
      ],
      "metadata": {
        "id": "stIy2KHK3lhP"
      }
    },
    {
      "cell_type": "code",
      "source": [
        "print(b)"
      ],
      "metadata": {
        "colab": {
          "base_uri": "https://localhost:8080/"
        },
        "id": "Qvlr-6LJ2n-L",
        "outputId": "df1d9396-1df3-4172-92b3-a688727741d5"
      },
      "execution_count": 43,
      "outputs": [
        {
          "output_type": "stream",
          "name": "stdout",
          "text": [
            "[[1.+5.j 0.+2.j 0.+3.j]\n",
            " [4.+0.j 5.+0.j 6.+0.j]]\n"
          ]
        }
      ]
    },
    {
      "cell_type": "code",
      "source": [
        "print(B)"
      ],
      "metadata": {
        "colab": {
          "base_uri": "https://localhost:8080/"
        },
        "id": "mWGiqE9Y2puz",
        "outputId": "4b104ca2-be5f-4310-f24a-b05a355cf41d"
      },
      "execution_count": 44,
      "outputs": [
        {
          "output_type": "stream",
          "name": "stdout",
          "text": [
            "[[1.+5.j 0.+2.j 0.+3.j]\n",
            " [4.+0.j 5.+0.j 6.+0.j]]\n"
          ]
        }
      ]
    },
    {
      "cell_type": "code",
      "source": [
        "print(A.T) # Chuyển vị ma trận (đảo cột thành dòng và ngược lại)"
      ],
      "metadata": {
        "colab": {
          "base_uri": "https://localhost:8080/"
        },
        "id": "RJFY9Wq93nwR",
        "outputId": "a51f7240-904a-4990-9589-91a7af4745de"
      },
      "execution_count": 49,
      "outputs": [
        {
          "output_type": "stream",
          "name": "stdout",
          "text": [
            "[[0.89684902 0.60918747]\n",
            " [0.3729023  0.35770918]]\n"
          ]
        }
      ]
    },
    {
      "cell_type": "markdown",
      "source": [
        "6"
      ],
      "metadata": {
        "id": "Sogq6Cj-4RBg"
      }
    },
    {
      "cell_type": "code",
      "source": [
        "print(A.I) # Ma trận nghịch đảo"
      ],
      "metadata": {
        "colab": {
          "base_uri": "https://localhost:8080/"
        },
        "id": "CKlLelNM33i0",
        "outputId": "6b14677b-a854-4e04-a98e-e406ea675832"
      },
      "execution_count": 50,
      "outputs": [
        {
          "output_type": "stream",
          "name": "stdout",
          "text": [
            "[[ 3.81989504 -3.98213886]\n",
            " [-6.50537458  9.57724682]]\n"
          ]
        }
      ]
    },
    {
      "cell_type": "markdown",
      "source": [
        "7"
      ],
      "metadata": {
        "id": "2_tCrXim4TTA"
      }
    },
    {
      "cell_type": "code",
      "source": [
        "linalg.inv(A)\n",
        "\n",
        "M = np.array([[-1,3,2],[0,-2,1],[1,5,-2]]) # Ma trận dưới từ đường chéo\n",
        "M_lower = np.tril(M)"
      ],
      "metadata": {
        "id": "Oct7q2mI39xD"
      },
      "execution_count": 51,
      "outputs": []
    },
    {
      "cell_type": "code",
      "source": [
        "print(M_lower)"
      ],
      "metadata": {
        "colab": {
          "base_uri": "https://localhost:8080/"
        },
        "id": "tvRFjFJj4JM1",
        "outputId": "b5ccfe06-08c4-4e8d-cef2-cc88d0e41424"
      },
      "execution_count": 52,
      "outputs": [
        {
          "output_type": "stream",
          "name": "stdout",
          "text": [
            "[[-1  0  0]\n",
            " [ 0 -2  0]\n",
            " [ 1  5 -2]]\n"
          ]
        }
      ]
    },
    {
      "cell_type": "code",
      "source": [
        "M = np.array([[-1,3,2],[0,-2,1],[1,5,-2]]) # Ma trận trên từ đường chéo\n",
        "M_upper = np.triu(M) "
      ],
      "metadata": {
        "id": "cjbYLgeI4Zux"
      },
      "execution_count": 53,
      "outputs": []
    },
    {
      "cell_type": "code",
      "source": [
        "print(M_upper)"
      ],
      "metadata": {
        "colab": {
          "base_uri": "https://localhost:8080/"
        },
        "id": "KJ-i4ImX4eAw",
        "outputId": "a0470f37-96e3-44c1-b414-4e0372a83f4d"
      },
      "execution_count": 54,
      "outputs": [
        {
          "output_type": "stream",
          "name": "stdout",
          "text": [
            "[[-1  3  2]\n",
            " [ 0 -2  1]\n",
            " [ 0  0 -2]]\n"
          ]
        }
      ]
    },
    {
      "cell_type": "code",
      "source": [
        "M = np.array([[-1,3,2],[0,-2,1],[1,5,-2]]) # Vector và ma trận đường chéo\n",
        "v_diag = np.diag(M) #vector đường chéo "
      ],
      "metadata": {
        "id": "2f0lua6r4ifW"
      },
      "execution_count": 56,
      "outputs": []
    },
    {
      "cell_type": "code",
      "source": [
        "print (v_diag)"
      ],
      "metadata": {
        "colab": {
          "base_uri": "https://localhost:8080/"
        },
        "id": "9vJA6hyH4_LF",
        "outputId": "42326370-1d53-43db-d686-7ba844ede2f1"
      },
      "execution_count": 57,
      "outputs": [
        {
          "output_type": "stream",
          "name": "stdout",
          "text": [
            "[-1 -2 -2]\n"
          ]
        }
      ]
    },
    {
      "cell_type": "code",
      "source": [
        "M_diag = np.diag(v_diag) "
      ],
      "metadata": {
        "id": "m8iYyuq65FX_"
      },
      "execution_count": 58,
      "outputs": []
    },
    {
      "cell_type": "code",
      "source": [
        "print (M_diag)"
      ],
      "metadata": {
        "colab": {
          "base_uri": "https://localhost:8080/"
        },
        "id": "C-cxWc1v5HVg",
        "outputId": "2285c766-6a9e-4181-b6f6-8b7f20300b75"
      },
      "execution_count": 59,
      "outputs": [
        {
          "output_type": "stream",
          "name": "stdout",
          "text": [
            "[[-1  0  0]\n",
            " [ 0 -2  0]\n",
            " [ 0  0 -2]]\n"
          ]
        }
      ]
    },
    {
      "cell_type": "markdown",
      "source": [
        "Thực hiện tính toán đơn giản trên ma trận "
      ],
      "metadata": {
        "id": "vVAq3yRp6Oyn"
      }
    },
    {
      "cell_type": "code",
      "source": [
        "import sympy as sp\n",
        "x = sp.Symbol('x')\n",
        "y = sp.Symbol('y')\n",
        "z = sp.Symbol('z')"
      ],
      "metadata": {
        "id": "hr_KUAU-6RAN"
      },
      "execution_count": 64,
      "outputs": []
    },
    {
      "cell_type": "code",
      "source": [
        "X = sp.solve([x*x+2-6, y-1-6, x+z-1, 2*x*x-8, z*z+4-5, y-z-8], [x, y, z])"
      ],
      "metadata": {
        "id": "wCx2r6Si6mPk"
      },
      "execution_count": 65,
      "outputs": []
    },
    {
      "cell_type": "code",
      "source": [
        "print(X)"
      ],
      "metadata": {
        "colab": {
          "base_uri": "https://localhost:8080/"
        },
        "id": "JHe3el947HM3",
        "outputId": "5e9ef27e-4b7f-499c-f2d9-124602a98024"
      },
      "execution_count": 66,
      "outputs": [
        {
          "output_type": "stream",
          "name": "stdout",
          "text": [
            "[(2, 7, -1)]\n"
          ]
        }
      ]
    },
    {
      "cell_type": "markdown",
      "source": [
        "Trong Python, để kiểm tra các phần tử của 2 danh sách có giá trị bằng nhau là sử dụng từ khóa\n",
        "all:"
      ],
      "metadata": {
        "id": "u621bDUu7Oi_"
      }
    },
    {
      "cell_type": "code",
      "source": [
        "x = [1,2,3]\n",
        "y = [1,2,3]"
      ],
      "metadata": {
        "id": "_oGoodYG7TkD"
      },
      "execution_count": 67,
      "outputs": []
    },
    {
      "cell_type": "code",
      "source": [
        "print (all ([x[i] == y[i] for i in range(len(x))]))"
      ],
      "metadata": {
        "colab": {
          "base_uri": "https://localhost:8080/"
        },
        "id": "TwtC8Tz77ZtF",
        "outputId": "bcafbafb-a221-4581-9bbc-0bcf7d6a9155"
      },
      "execution_count": 69,
      "outputs": [
        {
          "output_type": "stream",
          "name": "stdout",
          "text": [
            "True\n"
          ]
        }
      ]
    },
    {
      "cell_type": "code",
      "source": [
        "y = [1,2,4]"
      ],
      "metadata": {
        "id": "GMq9zmjY8STb"
      },
      "execution_count": 70,
      "outputs": []
    },
    {
      "cell_type": "code",
      "source": [
        "print (all ([x[i] == y[i] for i in range(len(x))]))"
      ],
      "metadata": {
        "colab": {
          "base_uri": "https://localhost:8080/"
        },
        "id": "NtDCES4q8M_5",
        "outputId": "e26815da-e06b-4d37-eb52-3fa3fbe9a5d6"
      },
      "execution_count": 71,
      "outputs": [
        {
          "output_type": "stream",
          "name": "stdout",
          "text": [
            "False\n"
          ]
        }
      ]
    },
    {
      "cell_type": "markdown",
      "source": [
        "Với numpy, lệnh so sánh hai ma trận là: numpy.array_equal( a1, a2) với a1, a2 là 2 array/dãy\n",
        "số. "
      ],
      "metadata": {
        "id": "OielNzUG8YgI"
      }
    },
    {
      "cell_type": "code",
      "source": [
        "import numpy as np\n",
        "x = np.array_equal([1,2], [1,2])\n",
        "y = np.array_equal(np.array([1,2]), np.array([1,2]))"
      ],
      "metadata": {
        "id": "DinL280b8aqP"
      },
      "execution_count": 72,
      "outputs": []
    },
    {
      "cell_type": "code",
      "source": [
        "print(x)"
      ],
      "metadata": {
        "colab": {
          "base_uri": "https://localhost:8080/"
        },
        "id": "djDvnAHP89ez",
        "outputId": "749b2993-1654-4eae-8aa2-2d01a33dcbb5"
      },
      "execution_count": 73,
      "outputs": [
        {
          "output_type": "stream",
          "name": "stdout",
          "text": [
            "True\n"
          ]
        }
      ]
    },
    {
      "cell_type": "code",
      "source": [
        "print(y)"
      ],
      "metadata": {
        "colab": {
          "base_uri": "https://localhost:8080/"
        },
        "id": "4CiRW_fU8_zt",
        "outputId": "478a8247-5429-47ca-9d63-02bc6855b07b"
      },
      "execution_count": 74,
      "outputs": [
        {
          "output_type": "stream",
          "name": "stdout",
          "text": [
            "True\n"
          ]
        }
      ]
    },
    {
      "cell_type": "markdown",
      "source": [
        "3.2. Các phép biến đổi sơ cấp trên ma trận"
      ],
      "metadata": {
        "id": "yK3zVb279EYA"
      }
    },
    {
      "cell_type": "code",
      "source": [
        "import numpy as np "
      ],
      "metadata": {
        "id": "JX69oyWB9GBG"
      },
      "execution_count": 75,
      "outputs": []
    },
    {
      "cell_type": "code",
      "source": [
        "A = np.reshape(np.arange(36.0), (6,6))"
      ],
      "metadata": {
        "id": "kkAOff4z9IyA"
      },
      "execution_count": 76,
      "outputs": []
    },
    {
      "cell_type": "code",
      "source": [
        "print(A) "
      ],
      "metadata": {
        "colab": {
          "base_uri": "https://localhost:8080/"
        },
        "id": "6eo32BOU9PRs",
        "outputId": "c309b34f-fe3d-4fa8-a9ed-d9d163ba631b"
      },
      "execution_count": 77,
      "outputs": [
        {
          "output_type": "stream",
          "name": "stdout",
          "text": [
            "[[ 0.  1.  2.  3.  4.  5.]\n",
            " [ 6.  7.  8.  9. 10. 11.]\n",
            " [12. 13. 14. 15. 16. 17.]\n",
            " [18. 19. 20. 21. 22. 23.]\n",
            " [24. 25. 26. 27. 28. 29.]\n",
            " [30. 31. 32. 33. 34. 35.]]\n"
          ]
        }
      ]
    },
    {
      "cell_type": "code",
      "source": [
        "I6 = np.identity(6)"
      ],
      "metadata": {
        "id": "FclvsKEI9WX5"
      },
      "execution_count": 78,
      "outputs": []
    },
    {
      "cell_type": "code",
      "source": [
        "print(I6) "
      ],
      "metadata": {
        "colab": {
          "base_uri": "https://localhost:8080/"
        },
        "id": "rUYlxRAq9aBc",
        "outputId": "8f49258d-cb9b-4a34-c946-3b1a3699e95f"
      },
      "execution_count": 79,
      "outputs": [
        {
          "output_type": "stream",
          "name": "stdout",
          "text": [
            "[[1. 0. 0. 0. 0. 0.]\n",
            " [0. 1. 0. 0. 0. 0.]\n",
            " [0. 0. 1. 0. 0. 0.]\n",
            " [0. 0. 0. 1. 0. 0.]\n",
            " [0. 0. 0. 0. 1. 0.]\n",
            " [0. 0. 0. 0. 0. 1.]]\n"
          ]
        }
      ]
    },
    {
      "cell_type": "code",
      "source": [
        "print(A.size)"
      ],
      "metadata": {
        "colab": {
          "base_uri": "https://localhost:8080/"
        },
        "id": "N8QaOf_-9iAX",
        "outputId": "3a739903-3936-4241-bbd1-710d4d3f9802"
      },
      "execution_count": 80,
      "outputs": [
        {
          "output_type": "stream",
          "name": "stdout",
          "text": [
            "36\n"
          ]
        }
      ]
    },
    {
      "cell_type": "code",
      "source": [
        "X = np.matrix.diagonal(A)"
      ],
      "metadata": {
        "id": "2cIwdjnj9nn1"
      },
      "execution_count": 81,
      "outputs": []
    },
    {
      "cell_type": "code",
      "source": [
        "print(X)"
      ],
      "metadata": {
        "colab": {
          "base_uri": "https://localhost:8080/"
        },
        "id": "I3W8HJTh9qXQ",
        "outputId": "e5ea6e34-8b1c-4adf-84b9-09dd3bbc8620"
      },
      "execution_count": 82,
      "outputs": [
        {
          "output_type": "stream",
          "name": "stdout",
          "text": [
            "[ 0.  7. 14. 21. 28. 35.]\n"
          ]
        }
      ]
    },
    {
      "cell_type": "markdown",
      "source": [
        "Thành lập ma trận A mới bằng công thức A = A + I"
      ],
      "metadata": {
        "id": "wh9NpXcm9vnw"
      }
    },
    {
      "cell_type": "code",
      "source": [
        "A = A + I6"
      ],
      "metadata": {
        "id": "0t8p2-iI96PQ"
      },
      "execution_count": 83,
      "outputs": []
    },
    {
      "cell_type": "code",
      "source": [
        "print(A)"
      ],
      "metadata": {
        "colab": {
          "base_uri": "https://localhost:8080/"
        },
        "id": "TJ1QM4TG991v",
        "outputId": "687c16d2-941c-4501-f8d9-c765c7e8aefb"
      },
      "execution_count": 84,
      "outputs": [
        {
          "output_type": "stream",
          "name": "stdout",
          "text": [
            "[[ 1.  1.  2.  3.  4.  5.]\n",
            " [ 6.  8.  8.  9. 10. 11.]\n",
            " [12. 13. 15. 15. 16. 17.]\n",
            " [18. 19. 20. 22. 22. 23.]\n",
            " [24. 25. 26. 27. 29. 29.]\n",
            " [30. 31. 32. 33. 34. 36.]]\n"
          ]
        }
      ]
    },
    {
      "cell_type": "markdown",
      "source": [
        "Tính tích (nhân) ma trận với vector (là dạng ma trận đặc biệt): "
      ],
      "metadata": {
        "id": "IhGtHjKX-Cdv"
      }
    },
    {
      "cell_type": "code",
      "source": [
        "vecB = np.array([1., 2., 3., 4., 5., 6.])\n",
        "C = A.dot(vecB)"
      ],
      "metadata": {
        "id": "rqQ81QuK-ESm"
      },
      "execution_count": 85,
      "outputs": []
    },
    {
      "cell_type": "code",
      "source": [
        "print(C)"
      ],
      "metadata": {
        "colab": {
          "base_uri": "https://localhost:8080/"
        },
        "id": "I9P5TW-4-HwP",
        "outputId": "c92acfe1-b8c8-4acf-89c1-66b071bcf46b"
      },
      "execution_count": 86,
      "outputs": [
        {
          "output_type": "stream",
          "name": "stdout",
          "text": [
            "[ 71. 198. 325. 452. 579. 706.]\n"
          ]
        }
      ]
    },
    {
      "cell_type": "code",
      "source": [
        "D = np.array([[1., 2., 3., 4., 5., 6.], [1., 0., 1., 0., 1., 0.]]) # Khai báo ma trận D 2x6"
      ],
      "metadata": {
        "id": "gXYYDuVL-Nj8"
      },
      "execution_count": 87,
      "outputs": []
    },
    {
      "cell_type": "code",
      "source": [
        "print(D)"
      ],
      "metadata": {
        "colab": {
          "base_uri": "https://localhost:8080/"
        },
        "id": "yvbVNKAX-VDn",
        "outputId": "e5a43982-6a64-45ec-8d5b-3d258f302c80"
      },
      "execution_count": 88,
      "outputs": [
        {
          "output_type": "stream",
          "name": "stdout",
          "text": [
            "[[1. 2. 3. 4. 5. 6.]\n",
            " [1. 0. 1. 0. 1. 0.]]\n"
          ]
        }
      ]
    },
    {
      "cell_type": "code",
      "source": [
        "# E = A.dot(D) --> Câu lệnh bị lỗi vì shapes (6,6) and (2,6) not aligned: 6 (dim 1) != 2 (dim 0) # Tính tích ma trận A và D : A x D\n",
        "#print(E)"
      ],
      "metadata": {
        "id": "o7xxKNAp-chO"
      },
      "execution_count": 97,
      "outputs": []
    },
    {
      "cell_type": "markdown",
      "source": [
        "Xây dựng ma trận F kích thước 6x2: "
      ],
      "metadata": {
        "id": "PofMLGNaAIMM"
      }
    },
    {
      "cell_type": "code",
      "source": [
        "F = np.array([[1., 1.], [2., 0.], [3., 1.], [4., 0], [5., 1], [6., 0.]])\n",
        "G = A.dot(F)"
      ],
      "metadata": {
        "id": "29GTWdfOAGzL"
      },
      "execution_count": 98,
      "outputs": []
    },
    {
      "cell_type": "code",
      "source": [
        "print(F)"
      ],
      "metadata": {
        "colab": {
          "base_uri": "https://localhost:8080/"
        },
        "id": "8_M1lD0jAMxl",
        "outputId": "a7d61a02-a6ac-4ce0-90a3-0adc60b09fef"
      },
      "execution_count": 99,
      "outputs": [
        {
          "output_type": "stream",
          "name": "stdout",
          "text": [
            "[[1. 1.]\n",
            " [2. 0.]\n",
            " [3. 1.]\n",
            " [4. 0.]\n",
            " [5. 1.]\n",
            " [6. 0.]]\n"
          ]
        }
      ]
    },
    {
      "cell_type": "code",
      "source": [
        "print(G)"
      ],
      "metadata": {
        "colab": {
          "base_uri": "https://localhost:8080/"
        },
        "id": "vqcVu8xMAQG8",
        "outputId": "ef3ca66b-b37e-40b0-a4a8-5c1d0005554f"
      },
      "execution_count": 100,
      "outputs": [
        {
          "output_type": "stream",
          "name": "stdout",
          "text": [
            "[[ 71.   7.]\n",
            " [198.  24.]\n",
            " [325.  43.]\n",
            " [452.  60.]\n",
            " [579.  79.]\n",
            " [706.  96.]]\n"
          ]
        }
      ]
    },
    {
      "cell_type": "markdown",
      "source": [
        "Tính ma trận nghịch đảo:"
      ],
      "metadata": {
        "id": "hJ8tr0FpASJP"
      }
    },
    {
      "cell_type": "code",
      "source": [
        "S = np.linalg.inv(A) "
      ],
      "metadata": {
        "id": "TQ9pkmj5AU04"
      },
      "execution_count": 101,
      "outputs": []
    },
    {
      "cell_type": "code",
      "source": [
        "print(S)"
      ],
      "metadata": {
        "colab": {
          "base_uri": "https://localhost:8080/"
        },
        "id": "mdVecmpqAYJw",
        "outputId": "3c1d8095-57a6-4531-e2c3-b7ab3ef5daf8"
      },
      "execution_count": 102,
      "outputs": [
        {
          "output_type": "stream",
          "name": "stdout",
          "text": [
            "[[ 0.37022901 -0.45610687 -0.28244275 -0.10877863  0.0648855   0.23854962]\n",
            " [-0.44656489  0.65839695 -0.23664122 -0.13167939 -0.02671756  0.07824427]\n",
            " [-0.26335878 -0.22709924  0.80916031 -0.15458015 -0.11832061 -0.08206107]\n",
            " [-0.08015267 -0.11259542 -0.14503817  0.82251908 -0.20992366 -0.24236641]\n",
            " [ 0.10305344  0.0019084  -0.09923664 -0.20038168  0.69847328 -0.40267176]\n",
            " [ 0.28625954  0.11641221 -0.05343511 -0.22328244 -0.39312977  0.4370229 ]]\n"
          ]
        }
      ]
    },
    {
      "cell_type": "code",
      "source": [
        "D = np.linalg.inv(np.linalg.inv(A)) # Lệnh này làm cho các số tăng dần"
      ],
      "metadata": {
        "id": "KzqUSOMmAcYz"
      },
      "execution_count": 103,
      "outputs": []
    },
    {
      "cell_type": "code",
      "source": [
        "print(D)"
      ],
      "metadata": {
        "colab": {
          "base_uri": "https://localhost:8080/"
        },
        "id": "T4xyjoXpAetr",
        "outputId": "56dd395d-2e85-41fc-ef6f-d87a6fe6d24c"
      },
      "execution_count": 104,
      "outputs": [
        {
          "output_type": "stream",
          "name": "stdout",
          "text": [
            "[[ 1.  1.  2.  3.  4.  5.]\n",
            " [ 6.  8.  8.  9. 10. 11.]\n",
            " [12. 13. 15. 15. 16. 17.]\n",
            " [18. 19. 20. 22. 22. 23.]\n",
            " [24. 25. 26. 27. 29. 29.]\n",
            " [30. 31. 32. 33. 34. 36.]]\n"
          ]
        }
      ]
    },
    {
      "cell_type": "markdown",
      "source": [
        "# **4. Bài toán ứng dụng 2 – Tính toán dãy Fibonacci: Con đường tìm đến tỉ số vàng! ***"
      ],
      "metadata": {
        "id": "oHokgQgPAxr4"
      }
    },
    {
      "cell_type": "code",
      "source": [
        "import numpy as np\n",
        "A = np.array( [ [1,1], [1,0] ] )\n",
        "b = np.array([1, 0])\n",
        "n = 10"
      ],
      "metadata": {
        "id": "uKm01JISA2UC"
      },
      "execution_count": 105,
      "outputs": []
    },
    {
      "cell_type": "code",
      "source": [
        "for i in range(n):\n",
        " b = A.dot(b)"
      ],
      "metadata": {
        "id": "yjQAF3WTBSMJ"
      },
      "execution_count": 106,
      "outputs": []
    },
    {
      "cell_type": "code",
      "source": [
        "print(b)"
      ],
      "metadata": {
        "colab": {
          "base_uri": "https://localhost:8080/"
        },
        "id": "j-S-ZnH5BW4Y",
        "outputId": "8128c094-76af-4ba7-b326-1e885e6ce4c8"
      },
      "execution_count": 107,
      "outputs": [
        {
          "output_type": "stream",
          "name": "stdout",
          "text": [
            "[89 55]\n"
          ]
        }
      ]
    },
    {
      "cell_type": "markdown",
      "source": [
        "# **5. Cơ bản về hệ phương trình tuyến tính và ứng dụng minh họa ***"
      ],
      "metadata": {
        "id": "RgiFEiv6BgBh"
      }
    },
    {
      "cell_type": "markdown",
      "source": [
        "5.2. Bài toán ứng dụng 3 – Đếm số lượng xe vào khu vực trung tâm "
      ],
      "metadata": {
        "id": "IyUeBcKSBmmS"
      }
    },
    {
      "cell_type": "code",
      "source": [
        "import sympy as sp\n",
        "from sympy import Symbol"
      ],
      "metadata": {
        "id": "9CC1D_jzBoLi"
      },
      "execution_count": 108,
      "outputs": []
    },
    {
      "cell_type": "code",
      "source": [
        "x1 = Symbol('x1')\n",
        "x2 = Symbol('x2')\n",
        "x3 = Symbol('x3')\n",
        "x4 = Symbol('x4')"
      ],
      "metadata": {
        "id": "Z9lBO7rcBvPB"
      },
      "execution_count": 109,
      "outputs": []
    },
    {
      "cell_type": "code",
      "source": [
        "from sympy import solve"
      ],
      "metadata": {
        "id": "FYaaVhJsB3dH"
      },
      "execution_count": 110,
      "outputs": []
    },
    {
      "cell_type": "code",
      "source": [
        "pt1 = x4+610-450-x1\n",
        "pt2 = x1+400-x2-640\n",
        "pt3 = x2+600-x3\n",
        "pt4 = x3-x4-520"
      ],
      "metadata": {
        "id": "BPWnWGS_B6Ze"
      },
      "execution_count": 111,
      "outputs": []
    },
    {
      "cell_type": "code",
      "source": [
        "nghiem = sp.solve((pt1, pt2, pt3, pt4))"
      ],
      "metadata": {
        "id": "Amb1yvNlCCDR"
      },
      "execution_count": 112,
      "outputs": []
    },
    {
      "cell_type": "code",
      "source": [
        "print(nghiem)"
      ],
      "metadata": {
        "colab": {
          "base_uri": "https://localhost:8080/"
        },
        "id": "HmphktMpCEgO",
        "outputId": "bdca4970-df11-4ce7-b4cb-6f3e221406d0"
      },
      "execution_count": 113,
      "outputs": [
        {
          "output_type": "stream",
          "name": "stdout",
          "text": [
            "{x1: x4 + 160, x2: x4 - 80, x3: x4 + 520}\n"
          ]
        }
      ]
    },
    {
      "cell_type": "markdown",
      "source": [
        "Bài tập: Sinh viên thử bằng phương pháp nhân ma trận: "
      ],
      "metadata": {
        "id": "bCwP9FaMCL1E"
      }
    },
    {
      "cell_type": "code",
      "source": [
        "# import numpy as np\n",
        "\n",
        "# A = np.matrix([[-1,0,0,1],[1,-1,0,0],[0,1,-1,0],[0,0,1,-1]]) \n",
        "# Và tính ma trận nghịch đảo:\n",
        "# A_nghichdao = np.linalg.inv(A)\n",
        "\n",
        "#----> Không chạy được chương trình"
      ],
      "metadata": {
        "id": "cP3wHq23CNJP"
      },
      "execution_count": 117,
      "outputs": []
    },
    {
      "cell_type": "code",
      "source": [
        "#print(A_nghichdao)"
      ],
      "metadata": {
        "id": "ID2C1RVvCcsg"
      },
      "execution_count": null,
      "outputs": []
    }
  ]
}