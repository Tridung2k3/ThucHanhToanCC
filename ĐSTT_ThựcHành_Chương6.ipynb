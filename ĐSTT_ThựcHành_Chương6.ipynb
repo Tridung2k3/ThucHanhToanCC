{
  "nbformat": 4,
  "nbformat_minor": 0,
  "metadata": {
    "colab": {
      "provenance": [],
      "authorship_tag": "ABX9TyOB0Q/TMBj1AmFALUAnXV87",
      "include_colab_link": true
    },
    "kernelspec": {
      "name": "python3",
      "display_name": "Python 3"
    },
    "language_info": {
      "name": "python"
    }
  },
  "cells": [
    {
      "cell_type": "markdown",
      "metadata": {
        "id": "view-in-github",
        "colab_type": "text"
      },
      "source": [
        "<a href=\"https://colab.research.google.com/github/Tridung2k3/ThucHanhToanCC/blob/main/%C4%90STT_Th%E1%BB%B1cH%C3%A0nh_Ch%C6%B0%C6%A1ng6.ipynb\" target=\"_parent\"><img src=\"https://colab.research.google.com/assets/colab-badge.svg\" alt=\"Open In Colab\"/></a>"
      ]
    },
    {
      "cell_type": "markdown",
      "source": [
        "# **1. Khái niệm về không gian vector và tích trong**"
      ],
      "metadata": {
        "id": "lTJaO0LZBL0J"
      }
    },
    {
      "cell_type": "markdown",
      "source": [
        "1.2 Tich vô hướng, trực giao và ứng dụng"
      ],
      "metadata": {
        "id": "2vnDXEFnBYKA"
      }
    },
    {
      "cell_type": "code",
      "execution_count": 1,
      "metadata": {
        "id": "fvAEOH3f_xqd"
      },
      "outputs": [],
      "source": [
        "import numpy as np\n",
        "a = np.array([1,2,3])\n",
        "b = np.array([4,5,6])\n",
        "tich = np.inner(a,b) # tích vô hướng "
      ]
    },
    {
      "cell_type": "code",
      "source": [
        "print (tich)"
      ],
      "metadata": {
        "colab": {
          "base_uri": "https://localhost:8080/"
        },
        "id": "G0DF-b9BBsHh",
        "outputId": "f54ef7c4-2cca-430c-85a6-2ab3a9104f0b"
      },
      "execution_count": 2,
      "outputs": [
        {
          "output_type": "stream",
          "name": "stdout",
          "text": [
            "32\n"
          ]
        }
      ]
    },
    {
      "cell_type": "code",
      "source": [
        "np.dot(a,b) "
      ],
      "metadata": {
        "colab": {
          "base_uri": "https://localhost:8080/"
        },
        "id": "V0pAtScqBvi5",
        "outputId": "dc498d33-143b-4f53-99da-b61ef72bf957"
      },
      "execution_count": 3,
      "outputs": [
        {
          "output_type": "execute_result",
          "data": {
            "text/plain": [
              "32"
            ]
          },
          "metadata": {},
          "execution_count": 3
        }
      ]
    },
    {
      "cell_type": "markdown",
      "source": [
        "*Độ dài/chuẩn của vector:*"
      ],
      "metadata": {
        "id": "s2YTnaHlB6To"
      }
    },
    {
      "cell_type": "markdown",
      "source": [
        "- Chuẩn 2:"
      ],
      "metadata": {
        "id": "mWeoWlD2CREw"
      }
    },
    {
      "cell_type": "code",
      "source": [
        "import numpy as np\n",
        "a = np.array([1,2,-3])\n",
        "z = np.linalg.norm(a)\n",
        "print(z)"
      ],
      "metadata": {
        "colab": {
          "base_uri": "https://localhost:8080/"
        },
        "id": "4jJyIKoACEWI",
        "outputId": "d770f115-ed69-4c0e-987d-4d5d681edc22"
      },
      "execution_count": 5,
      "outputs": [
        {
          "output_type": "stream",
          "name": "stdout",
          "text": [
            "3.7416573867739413\n"
          ]
        }
      ]
    },
    {
      "cell_type": "markdown",
      "source": [
        "- Chuẩn 1:"
      ],
      "metadata": {
        "id": "sNAdMpjOCU4w"
      }
    },
    {
      "cell_type": "code",
      "source": [
        "a = np.array([1,2,-3])\n",
        "A = np.linalg.norm(a,1)\n",
        "print(A)"
      ],
      "metadata": {
        "colab": {
          "base_uri": "https://localhost:8080/"
        },
        "id": "U4C-O8i5CYmQ",
        "outputId": "0159bafd-2054-440c-e560-d31ec8098545"
      },
      "execution_count": 6,
      "outputs": [
        {
          "output_type": "stream",
          "name": "stdout",
          "text": [
            "6.0\n"
          ]
        }
      ]
    },
    {
      "cell_type": "code",
      "source": [
        "import math\n",
        "import numpy as np\n",
        "a = np.array([1,2,-3])\n",
        "def chuan(v,k):\n",
        "  tong = 0\n",
        "  for i in range(len(v)):\n",
        "    tong = tong + abs(v[i]**k)\n",
        "  ketqua = math.pow(tong, 1.0/k)\n",
        "  return ketqua"
      ],
      "metadata": {
        "id": "gyeGGrnNCkIP"
      },
      "execution_count": 7,
      "outputs": []
    },
    {
      "cell_type": "code",
      "source": [
        "chuan(a, 1) "
      ],
      "metadata": {
        "colab": {
          "base_uri": "https://localhost:8080/"
        },
        "id": "W20tWQqYDOv_",
        "outputId": "a8e91deb-8173-4d85-c894-3c2635854c65"
      },
      "execution_count": 8,
      "outputs": [
        {
          "output_type": "execute_result",
          "data": {
            "text/plain": [
              "6.0"
            ]
          },
          "metadata": {},
          "execution_count": 8
        }
      ]
    },
    {
      "cell_type": "code",
      "source": [
        "np.linalg.norm(a,1) "
      ],
      "metadata": {
        "colab": {
          "base_uri": "https://localhost:8080/"
        },
        "id": "rm7nZqfTDQMW",
        "outputId": "85d1ee8a-c39b-4ef7-8386-ea2760384a23"
      },
      "execution_count": 9,
      "outputs": [
        {
          "output_type": "execute_result",
          "data": {
            "text/plain": [
              "6.0"
            ]
          },
          "metadata": {},
          "execution_count": 9
        }
      ]
    },
    {
      "cell_type": "code",
      "source": [
        "chuan(a, 2)"
      ],
      "metadata": {
        "colab": {
          "base_uri": "https://localhost:8080/"
        },
        "id": "ZI1gbEiEDSEz",
        "outputId": "edf25f3e-256b-4cd5-f80a-80e58fe46328"
      },
      "execution_count": 10,
      "outputs": [
        {
          "output_type": "execute_result",
          "data": {
            "text/plain": [
              "3.7416573867739413"
            ]
          },
          "metadata": {},
          "execution_count": 10
        }
      ]
    },
    {
      "cell_type": "code",
      "source": [
        "np.linalg.norm(a,2)"
      ],
      "metadata": {
        "colab": {
          "base_uri": "https://localhost:8080/"
        },
        "id": "34YxEFtCDTr-",
        "outputId": "9c035cc8-962e-44f0-aa1a-cd95209a505f"
      },
      "execution_count": 11,
      "outputs": [
        {
          "output_type": "execute_result",
          "data": {
            "text/plain": [
              "3.7416573867739413"
            ]
          },
          "metadata": {},
          "execution_count": 11
        }
      ]
    },
    {
      "cell_type": "code",
      "source": [
        "chuan(a, 3)"
      ],
      "metadata": {
        "colab": {
          "base_uri": "https://localhost:8080/"
        },
        "id": "VC-kJHYsDW6E",
        "outputId": "c39d3d7d-7c95-4829-a055-6931ebd2bc56"
      },
      "execution_count": 12,
      "outputs": [
        {
          "output_type": "execute_result",
          "data": {
            "text/plain": [
              "3.3019272488946263"
            ]
          },
          "metadata": {},
          "execution_count": 12
        }
      ]
    },
    {
      "cell_type": "code",
      "source": [
        "np.linalg.norm(a,3)"
      ],
      "metadata": {
        "colab": {
          "base_uri": "https://localhost:8080/"
        },
        "id": "hXT5yc7XDZbG",
        "outputId": "f3f0f806-e881-4067-a9d6-951b31475c00"
      },
      "execution_count": 13,
      "outputs": [
        {
          "output_type": "execute_result",
          "data": {
            "text/plain": [
              "3.3019272488946263"
            ]
          },
          "metadata": {},
          "execution_count": 13
        }
      ]
    },
    {
      "cell_type": "code",
      "source": [
        "chuan(a, 1000)"
      ],
      "metadata": {
        "colab": {
          "base_uri": "https://localhost:8080/"
        },
        "id": "zTsLU8wuDbIP",
        "outputId": "7052587f-d253-4113-f465-8c7b1129e0dc"
      },
      "execution_count": 14,
      "outputs": [
        {
          "output_type": "execute_result",
          "data": {
            "text/plain": [
              "1.0442214818467515"
            ]
          },
          "metadata": {},
          "execution_count": 14
        }
      ]
    },
    {
      "cell_type": "code",
      "source": [
        "np.linalg.norm(a,1000)"
      ],
      "metadata": {
        "colab": {
          "base_uri": "https://localhost:8080/"
        },
        "id": "AGpN9lsSDeAU",
        "outputId": "daad4ae4-35ba-42bc-d2b5-1aad87feb247"
      },
      "execution_count": 15,
      "outputs": [
        {
          "output_type": "stream",
          "name": "stderr",
          "text": [
            "/usr/local/lib/python3.7/dist-packages/numpy/linalg/linalg.py:2568: RuntimeWarning: overflow encountered in power\n",
            "  absx **= ord\n"
          ]
        },
        {
          "output_type": "execute_result",
          "data": {
            "text/plain": [
              "inf"
            ]
          },
          "metadata": {},
          "execution_count": 15
        }
      ]
    },
    {
      "cell_type": "code",
      "source": [
        "from scipy import linalg\n",
        "linalg.norm(a) "
      ],
      "metadata": {
        "colab": {
          "base_uri": "https://localhost:8080/"
        },
        "id": "Jmda2SLoDjl2",
        "outputId": "d492278e-494a-4858-a9ad-aacfe5c85326"
      },
      "execution_count": 16,
      "outputs": [
        {
          "output_type": "execute_result",
          "data": {
            "text/plain": [
              "3.7416573867739413"
            ]
          },
          "metadata": {},
          "execution_count": 16
        }
      ]
    },
    {
      "cell_type": "code",
      "source": [
        "linalg.norm(a, 100)"
      ],
      "metadata": {
        "colab": {
          "base_uri": "https://localhost:8080/"
        },
        "id": "kdt0MhnsDoIu",
        "outputId": "6c5b00f9-b99b-4e98-8851-a20184eea348"
      },
      "execution_count": 17,
      "outputs": [
        {
          "output_type": "execute_result",
          "data": {
            "text/plain": [
              "3.0"
            ]
          },
          "metadata": {},
          "execution_count": 17
        }
      ]
    },
    {
      "cell_type": "code",
      "source": [
        "linalg.norm(a, 1000)"
      ],
      "metadata": {
        "colab": {
          "base_uri": "https://localhost:8080/"
        },
        "id": "dEwXHO3LDsAV",
        "outputId": "43163a97-6f3c-4605-949e-bdf36de06590"
      },
      "execution_count": 18,
      "outputs": [
        {
          "output_type": "stream",
          "name": "stderr",
          "text": [
            "/usr/local/lib/python3.7/dist-packages/numpy/linalg/linalg.py:2568: RuntimeWarning: overflow encountered in power\n",
            "  absx **= ord\n"
          ]
        },
        {
          "output_type": "execute_result",
          "data": {
            "text/plain": [
              "inf"
            ]
          },
          "metadata": {},
          "execution_count": 18
        }
      ]
    },
    {
      "cell_type": "markdown",
      "source": [
        "# **2. Tổ hợp tuyến tính**"
      ],
      "metadata": {
        "id": "y-5VG-SGD9vN"
      }
    },
    {
      "cell_type": "code",
      "source": [
        "import numpy as np\n",
        "m = 10\n",
        "v1 = np.array([5,-4,3])\n",
        "v2 = np.array([4,3,-2])\n",
        "v3 = np.array([-4,-3,-1])\n",
        "v4 = np.array([-9,8,6])\n",
        "mi = np.array([2,5,2,1])\n",
        "M = np.array([v1,v2,v3,v4])\n",
        "MT = M.transpose() "
      ],
      "metadata": {
        "id": "kLBCiuiwEhSU"
      },
      "execution_count": 19,
      "outputs": []
    },
    {
      "cell_type": "code",
      "source": [
        "print(MT)"
      ],
      "metadata": {
        "colab": {
          "base_uri": "https://localhost:8080/"
        },
        "id": "E5KQy-auEuNk",
        "outputId": "2c542690-45a9-48eb-bffa-5258a7fab47c"
      },
      "execution_count": 20,
      "outputs": [
        {
          "output_type": "stream",
          "name": "stdout",
          "text": [
            "[[ 5  4 -4 -9]\n",
            " [-4  3 -3  8]\n",
            " [ 3 -2 -1  6]]\n"
          ]
        }
      ]
    },
    {
      "cell_type": "code",
      "source": [
        "v = (1.0/m)*MT.dot(mi)\n",
        "print (v)"
      ],
      "metadata": {
        "colab": {
          "base_uri": "https://localhost:8080/"
        },
        "id": "PUzAOHBDExsi",
        "outputId": "75333ea2-8430-4230-ab37-52fd6d887746"
      },
      "execution_count": 21,
      "outputs": [
        {
          "output_type": "stream",
          "name": "stdout",
          "text": [
            "[1.3 0.9 0. ]\n"
          ]
        }
      ]
    },
    {
      "cell_type": "markdown",
      "source": [
        "# **3. Tri riêng, vector riêng của ma trận và ứng dụng**"
      ],
      "metadata": {
        "id": "mJJ9fs9SE7OD"
      }
    },
    {
      "cell_type": "markdown",
      "source": [
        "3.1 Bài toán dẫn nhập"
      ],
      "metadata": {
        "id": "m_hRFL48F8Ms"
      }
    },
    {
      "cell_type": "code",
      "source": [
        "import sympy as sym\n",
        "x,y = sym.symbols('x y')\n",
        "xy = sym.Matrix([x,y]) # khai báo vector: (x, y)T\n",
        "A = sym.Matrix([[1, -68],[1,1]])\n",
        "v = sym.Matrix([0, 1])\n",
        "nghiem = sym.solve([A*xy-v]) # phương trình được chuyển về 1 phía\n",
        "print(sym.pretty(nghiem))"
      ],
      "metadata": {
        "colab": {
          "base_uri": "https://localhost:8080/"
        },
        "id": "QDnABw0gFEPD",
        "outputId": "e2660930-d79b-4dec-eed2-7f505b587d74"
      },
      "execution_count": 22,
      "outputs": [
        {
          "output_type": "stream",
          "name": "stdout",
          "text": [
            "⎧   68         ⎫\n",
            "⎨x: ──, y: 1/69⎬\n",
            "⎩   69         ⎭\n"
          ]
        }
      ]
    },
    {
      "cell_type": "markdown",
      "source": [
        "3.2 Trị riêng và vector riền của ma trận"
      ],
      "metadata": {
        "id": "jgft-qfVGAug"
      }
    },
    {
      "cell_type": "code",
      "source": [
        "import sympy\n",
        "x, y, Lambda = sympy.symbols('x y Lambda')\n",
        "I = sympy.eye(2) \n",
        "A = sympy.Matrix([[2,3],[3,-6]])\n",
        "phuongtrinh = sympy.Eq(sympy.det(Lambda*I-A), 0)\n",
        "nghiem = sympy.solve(phuongtrinh)"
      ],
      "metadata": {
        "id": "YjKLN5zqGUlw"
      },
      "execution_count": 23,
      "outputs": []
    },
    {
      "cell_type": "code",
      "source": [
        "print([sympy.N(phantu,4) for phantu in nghiem]) "
      ],
      "metadata": {
        "colab": {
          "base_uri": "https://localhost:8080/"
        },
        "id": "I13iLz0cGj9H",
        "outputId": "97a27f1f-991f-41b0-8a61-0181623bf2a5"
      },
      "execution_count": 24,
      "outputs": [
        {
          "output_type": "stream",
          "name": "stdout",
          "text": [
            "[-7.000, 3.000]\n"
          ]
        }
      ]
    },
    {
      "cell_type": "code",
      "source": [
        "print (sympy.pretty(nghiem)) "
      ],
      "metadata": {
        "colab": {
          "base_uri": "https://localhost:8080/"
        },
        "id": "07Gw4RREGkf4",
        "outputId": "0fb2c520-333c-45c9-b2b1-317578fee936"
      },
      "execution_count": 25,
      "outputs": [
        {
          "output_type": "stream",
          "name": "stdout",
          "text": [
            "[-7, 3]\n"
          ]
        }
      ]
    },
    {
      "cell_type": "markdown",
      "source": [
        "3.3 Ứng dụng của trị riêng và vector riêng"
      ],
      "metadata": {
        "id": "lNJk42XyIM01"
      }
    },
    {
      "cell_type": "code",
      "source": [
        "import numpy as np\n",
        "A = np.array([[2,3],[3,-6]])\n",
        "D = np.array([[-7,0],[0,3]])\n",
        "P = np.array([[-1.0/3, 3],[1,1]])\n",
        "from numpy import linalg\n",
        "from numpy import linalg as LA\n",
        "P1 = LA.inv(P) # tính giá trị nghịch đảo của P "
      ],
      "metadata": {
        "id": "b6-JOmiaIUme"
      },
      "execution_count": 27,
      "outputs": []
    },
    {
      "cell_type": "code",
      "source": [
        "print (P1) "
      ],
      "metadata": {
        "colab": {
          "base_uri": "https://localhost:8080/"
        },
        "id": "p9oFkBNHIaX6",
        "outputId": "5451d501-f7cc-444e-ad39-dc7d5725f6c8"
      },
      "execution_count": 28,
      "outputs": [
        {
          "output_type": "stream",
          "name": "stdout",
          "text": [
            "[[-0.3  0.9]\n",
            " [ 0.3  0.1]]\n"
          ]
        }
      ]
    },
    {
      "cell_type": "code",
      "source": [
        "A.dot(P)"
      ],
      "metadata": {
        "colab": {
          "base_uri": "https://localhost:8080/"
        },
        "id": "1wV-ODIZIbwm",
        "outputId": "e91e993f-47d9-461e-b0a7-fd255ee51fcb"
      },
      "execution_count": 29,
      "outputs": [
        {
          "output_type": "execute_result",
          "data": {
            "text/plain": [
              "array([[ 2.33333333,  9.        ],\n",
              "       [-7.        ,  3.        ]])"
            ]
          },
          "metadata": {},
          "execution_count": 29
        }
      ]
    },
    {
      "cell_type": "code",
      "source": [
        "P @ (D ** 1000) @ P1"
      ],
      "metadata": {
        "colab": {
          "base_uri": "https://localhost:8080/"
        },
        "id": "t_e7cKp9Iigc",
        "outputId": "a8831ab2-dbf1-43c2-ce53-127dda8e5039"
      },
      "execution_count": 30,
      "outputs": [
        {
          "output_type": "execute_result",
          "data": {
            "text/plain": [
              "array([[ 5.03503397e+18,  3.50482117e+18],\n",
              "       [ 3.50482117e+18, -4.31115581e+18]])"
            ]
          },
          "metadata": {},
          "execution_count": 30
        }
      ]
    },
    {
      "cell_type": "markdown",
      "source": [
        "thử tinh các giá trị lũy thừa của ma trận đường chéo:"
      ],
      "metadata": {
        "id": "AMB6DLvCInv-"
      }
    },
    {
      "cell_type": "code",
      "source": [
        "print (D **2)"
      ],
      "metadata": {
        "colab": {
          "base_uri": "https://localhost:8080/"
        },
        "id": "kxk0UlmzIlHt",
        "outputId": "ef0fe1b1-c4b5-44c6-f6e7-ad45274ebcb3"
      },
      "execution_count": 31,
      "outputs": [
        {
          "output_type": "stream",
          "name": "stdout",
          "text": [
            "[[49  0]\n",
            " [ 0  9]]\n"
          ]
        }
      ]
    },
    {
      "cell_type": "markdown",
      "source": [
        "# **BÀI TẬP CHƯƠNG 6**"
      ],
      "metadata": {
        "id": "YwUYVIYKIzLb"
      }
    },
    {
      "cell_type": "markdown",
      "source": [
        "Câu 1: [Trắc nghiệm] Trong Python 3, các câu lệnh sau đây, câu lệnh nào tính chuẩn 2 của\n",
        "vector a. Với a được xác định là: "
      ],
      "metadata": {
        "id": "DEdIgVJ-I3-W"
      }
    },
    {
      "cell_type": "code",
      "source": [
        "import numpy as np\n",
        "a = np.array([1,2,3])"
      ],
      "metadata": {
        "id": "ySdrgcSyI2v_"
      },
      "execution_count": 32,
      "outputs": []
    },
    {
      "cell_type": "code",
      "source": [
        "mag = lambda x : math.sqrt(sum(i** 2 for i in x))\n",
        "mag(a) "
      ],
      "metadata": {
        "colab": {
          "base_uri": "https://localhost:8080/"
        },
        "id": "y9cElfJmJAnT",
        "outputId": "af51f32e-2047-4151-dae4-7792eb3359d8"
      },
      "execution_count": 39,
      "outputs": [
        {
          "output_type": "execute_result",
          "data": {
            "text/plain": [
              "3.7416573867739413"
            ]
          },
          "metadata": {},
          "execution_count": 39
        }
      ]
    },
    {
      "cell_type": "markdown",
      "source": [
        "**Câu 1 ---> D**"
      ],
      "metadata": {
        "id": "IxZxSQfyKJhw"
      }
    },
    {
      "cell_type": "markdown",
      "source": [
        "Câu 2: Sinh viên hãy viết các chương trình tính toán theo các công thức:"
      ],
      "metadata": {
        "id": "P0gEqCT7KNAT"
      }
    },
    {
      "cell_type": "markdown",
      "source": [
        "a. Tính toán khoảng cách giữa 2 vector u và v:\n"
      ],
      "metadata": {
        "id": "9a2Y4vkGKhxQ"
      }
    },
    {
      "cell_type": "code",
      "source": [
        "# hai điểm\n",
        "u = np.array ((2, 3, 6))\n",
        "v = np.array ((5, 7, 1))\n",
        "\n",
        "# khoảng cách giữa 2 vector\n",
        "d = np.linalg.norm (abs(u-v))\n",
        "# hiển thị kết quả\n",
        "(d) "
      ],
      "metadata": {
        "colab": {
          "base_uri": "https://localhost:8080/"
        },
        "id": "k0sOUmtxKoTi",
        "outputId": "fda0715d-f220-4c47-d8f3-c713ee6d2a07"
      },
      "execution_count": 41,
      "outputs": [
        {
          "output_type": "execute_result",
          "data": {
            "text/plain": [
              "7.0710678118654755"
            ]
          },
          "metadata": {},
          "execution_count": 41
        }
      ]
    },
    {
      "cell_type": "markdown",
      "source": [
        "b. Tính góc S của 2 vector u và v nhập vào: \n"
      ],
      "metadata": {
        "id": "By5kQ71WNPTC"
      }
    }
  ]
}